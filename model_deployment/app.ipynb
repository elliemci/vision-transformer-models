{
  "nbformat": 4,
  "nbformat_minor": 0,
  "metadata": {
    "colab": {
      "provenance": [],
      "authorship_tag": "ABX9TyORPanTAmy1EIWhCskQ+lnC",
      "include_colab_link": true
    },
    "kernelspec": {
      "name": "python3",
      "display_name": "Python 3"
    },
    "language_info": {
      "name": "python"
    }
  },
  "cells": [
    {
      "cell_type": "markdown",
      "metadata": {
        "id": "view-in-github",
        "colab_type": "text"
      },
      "source": [
        "<a href=\"https://colab.research.google.com/github/elliemci/vision-transformer-models/blob/main/model_deployment/app.ipynb\" target=\"_parent\"><img src=\"https://colab.research.google.com/assets/colab-badge.svg\" alt=\"Open In Colab\"/></a>"
      ]
    },
    {
      "cell_type": "markdown",
      "source": [
        "# Deploying a brain tumor segmentation on MRI image App"
      ],
      "metadata": {
        "id": "gFWEZBZHdPdN"
      }
    },
    {
      "cell_type": "code",
      "source": [
        "!pip install --upgrade gradio"
      ],
      "metadata": {
        "id": "1GOBcM4X8rZe"
      },
      "execution_count": null,
      "outputs": []
    },
    {
      "cell_type": "code",
      "source": [
        "!pip install transformers"
      ],
      "metadata": {
        "id": "5P0Eqky58sLe"
      },
      "execution_count": null,
      "outputs": []
    },
    {
      "cell_type": "code",
      "source": [
        "!pip install gradio"
      ],
      "metadata": {
        "id": "Wf_ahsmfr6Z-"
      },
      "execution_count": null,
      "outputs": []
    },
    {
      "cell_type": "code",
      "source": [
        "from google.colab import drive\n",
        "drive.mount('/content/drive')\n",
        "\n",
        "%cd /content/drive/MyDrive/ColabNotebooks/ExplainableAI/model_deployment"
      ],
      "metadata": {
        "colab": {
          "base_uri": "https://localhost:8080/"
        },
        "id": "pr1fRqtMAkiO",
        "outputId": "3cf999d3-bb2d-44a1-a54d-a3aa95f07bab"
      },
      "execution_count": 4,
      "outputs": [
        {
          "output_type": "stream",
          "name": "stdout",
          "text": [
            "Drive already mounted at /content/drive; to attempt to forcibly remount, call drive.mount(\"/content/drive\", force_remount=True).\n",
            "/content/drive/MyDrive/ColabNotebooks/ExplainableAI/model_deployment\n"
          ]
        }
      ]
    },
    {
      "cell_type": "code",
      "source": [
        "import torch\n",
        "import gradio as gr\n",
        "\n",
        "from torchvision import transforms\n",
        "from torch.utils.data import DataLoader, Dataset\n",
        "from transformers import MaskFormerForInstanceSegmentation, MaskFormerImageProcessor\n",
        "from PIL import Image\n",
        "\n",
        "# can upload from Huggingface Space \"elliemci/maskformer_tumor_segmentation\"\n",
        "model = MaskFormerForInstanceSegmentation.from_pretrained(\"elliemci/maskformer_tumor_segmentation\")\n",
        "image_processor = MaskFormerImageProcessor.from_pretrained(\"elliemci/maskformer_tumor_segmentation\")\n",
        "\n",
        "device = torch.device(\"cuda\" if torch.cuda.is_available() else \"cpu\")\n",
        "model.to(device)\n",
        "\n",
        "# Define a custom dataset class to handle images\n",
        "class ImageDataset(Dataset):\n",
        "    def __init__(self, image_paths, transform=None):\n",
        "        self.image_paths = image_paths\n",
        "        self.transform = transform\n",
        "\n",
        "    def __len__(self):\n",
        "        return len(self.image_paths)\n",
        "\n",
        "    def __getitem__(self, idx):\n",
        "        image = Image.open(self.image_paths[idx]).convert('RGB')\n",
        "\n",
        "        if self.transform:\n",
        "            image = self.transform(image)\n",
        "        return image\n",
        "\n",
        "\n",
        "def segment(image_files):\n",
        "    \"\"\"Takes a list of UploadedFile objects and returns a list of segmented images.\"\"\"\n",
        "\n",
        "    dataset = ImageDataset(image_files, transform=transforms.ToTensor())\n",
        "    dataloader = DataLoader(dataset, batch_size=len(image_files), shuffle=False)  # Batch size is the number of images\n",
        "\n",
        "    # process a batch\n",
        "    with torch.no_grad():\n",
        "        for batch in dataloader:  # Only one iteration since batch_size = len(image_files)\n",
        "            pixel_values = batch.to(device, dtype=torch.float32)\n",
        "            outputs = model(pixel_values=pixel_values)\n",
        "\n",
        "            # Post-processing\n",
        "            original_images = outputs.get(\"org_images\", batch)\n",
        "            target_sizes = [(image.shape[-2], image.shape[-1]) for image in original_images]\n",
        "            predicted_masks = image_processor.post_process_semantic_segmentation(outputs, target_sizes=target_sizes)\n",
        "\n",
        "            return predicted_masks\n",
        "\n",
        "\n",
        "def update_gallery(images):\n",
        "    print(f\"Images received: {images}\")\n",
        "\n",
        "    gallery_data = []\n",
        "    if images:\n",
        "        segmented_images = segment(images)  # Process images\n",
        "\n",
        "        for i, image_path in enumerate(images):\n",
        "            try:\n",
        "                image = Image.open(image_path).convert(\"RGB\")  # Load original image\n",
        "\n",
        "                segmented_mask = segmented_images[i].to(dtype=torch.float32, device=\"cpu\")\n",
        "\n",
        "                segmented_image_pil = transforms.ToPILImage()(segmented_mask)  # Convert to PIL Image\n",
        "\n",
        "                gallery_data.extend([(image, \"Original Image\"), (segmented_image_pil, \"Segmented Image\")])\n",
        "            except Exception as e:\n",
        "                print(f\"Error processing image {i}: {e}\")\n",
        "                gallery_data.extend([(image, \"Original Image\"), (image, f\"Error: {e}\")])\n",
        "\n",
        "    return gallery_data\n",
        "\n",
        "\n",
        "with gr.Blocks() as demo:\n",
        "  gr.Markdown(\"<h1 style='text-align: center;'>MRI Brain Tumor Segmentation App</h1>\")\n",
        "\n",
        "  with gr.Column():\n",
        "    with gr.Column():\n",
        "      image_files = gr.Files(label=\"Upload MRI files\",\n",
        "                                     file_count=\"multiple\",\n",
        "                                     type=\"filepath\")\n",
        "      with gr.Row():\n",
        "        gallery = gr.Gallery(label=\"Brain Images and Tumor Segmentation\")\n",
        "\n",
        "        image_files.change(\n",
        "             fn=update_gallery,\n",
        "             inputs=[image_files],\n",
        "             outputs=[gallery])\n",
        "\n",
        "      with gr.Column():\n",
        "        example_image = gr.Image(type=\"filepath\", label=\"MRI Image\", visible=False)\n",
        "        examples = gr.Examples(examples=[\"examples/Te-me_0194.jpg\", \"examples/Te-me_0111.jpg\",\n",
        "                                         \"examples/Te-me_0295.jpg\", \"examples/Te-me_0228.jpg\",\n",
        "                                         \"examples/Te-me_0218.jpg\", \"examples/Te-me_0164.jpg\"],\n",
        "                               inputs=[example_image])\n",
        "\n",
        "      with gr.Column(scale=0):\n",
        "\n",
        "        example_button = gr.Button(\"Process Example Image\", variant=\"secondary\")\n",
        "        example_button.click(\n",
        "            fn=lambda img: update_gallery([img]) if img else [],\n",
        "            inputs=[example_image],\n",
        "            outputs=[gallery]\n",
        "        )\n",
        "\n",
        "demo.launch(debug=True)"
      ],
      "metadata": {
        "colab": {
          "base_uri": "https://localhost:8080/",
          "height": 732
        },
        "id": "e16Bd-a3SQdn",
        "outputId": "66fd437d-e169-4164-bae7-fe96fffdff5c"
      },
      "execution_count": 11,
      "outputs": [
        {
          "output_type": "stream",
          "name": "stderr",
          "text": [
            "/usr/local/lib/python3.11/dist-packages/transformers/utils/deprecation.py:165: FutureWarning: `max_size` is deprecated and removed starting from version 4.27.0 for `MaskFormerImageProcessor.__init__`.\n",
            "  return func(*args, **kwargs)\n"
          ]
        },
        {
          "output_type": "stream",
          "name": "stdout",
          "text": [
            "Running Gradio in a Colab notebook requires sharing enabled. Automatically setting `share=True` (you can turn this off by setting `share=False` in `launch()` explicitly).\n",
            "\n",
            "Colab notebook detected. This cell will run indefinitely so that you can see errors and logs. To turn off, set debug=False in launch().\n",
            "* Running on public URL: https://2543c7837e632ceab6.gradio.live\n",
            "\n",
            "This share link expires in 72 hours. For free permanent hosting and GPU upgrades, run `gradio deploy` from the terminal in the working directory to deploy to Hugging Face Spaces (https://huggingface.co/spaces)\n"
          ]
        },
        {
          "output_type": "display_data",
          "data": {
            "text/plain": [
              "<IPython.core.display.HTML object>"
            ],
            "text/html": [
              "<div><iframe src=\"https://2543c7837e632ceab6.gradio.live\" width=\"100%\" height=\"500\" allow=\"autoplay; camera; microphone; clipboard-read; clipboard-write;\" frameborder=\"0\" allowfullscreen></iframe></div>"
            ]
          },
          "metadata": {}
        },
        {
          "output_type": "stream",
          "name": "stdout",
          "text": [
            "Images received: ['/tmp/gradio/7930ef0afa88b9b32b074b4a1f2a0ca3d42a90afbb8d14d6da1cdbdf9c3ecf7b/Te-me_0218.jpeg']\n",
            "Keyboard interruption in main thread... closing server.\n",
            "Killing tunnel 127.0.0.1:7860 <> https://2543c7837e632ceab6.gradio.live\n"
          ]
        },
        {
          "output_type": "execute_result",
          "data": {
            "text/plain": []
          },
          "metadata": {},
          "execution_count": 11
        }
      ]
    }
  ]
}