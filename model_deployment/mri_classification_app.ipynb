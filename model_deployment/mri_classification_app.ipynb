{
  "nbformat": 4,
  "nbformat_minor": 0,
  "metadata": {
    "colab": {
      "provenance": [],
      "authorship_tag": "ABX9TyM3tGepPLtMleps8bjWGXoy",
      "include_colab_link": true
    },
    "kernelspec": {
      "name": "python3",
      "display_name": "Python 3"
    },
    "language_info": {
      "name": "python"
    }
  },
  "cells": [
    {
      "cell_type": "markdown",
      "metadata": {
        "id": "view-in-github",
        "colab_type": "text"
      },
      "source": [
        "<a href=\"https://colab.research.google.com/github/elliemci/vision-transformer-models/blob/main/model_deployment/mri_classification_app.ipynb\" target=\"_parent\"><img src=\"https://colab.research.google.com/assets/colab-badge.svg\" alt=\"Open In Colab\"/></a>"
      ]
    },
    {
      "cell_type": "markdown",
      "source": [
        "# Deploying a MRI classification app with Huggingface and Gradio"
      ],
      "metadata": {
        "id": "gFWEZBZHdPdN"
      }
    },
    {
      "cell_type": "code",
      "source": [
        "!pip install --upgrade gradio"
      ],
      "metadata": {
        "id": "1GOBcM4X8rZe"
      },
      "execution_count": null,
      "outputs": []
    },
    {
      "cell_type": "code",
      "source": [
        "!pip install transformers"
      ],
      "metadata": {
        "id": "5P0Eqky58sLe"
      },
      "execution_count": null,
      "outputs": []
    },
    {
      "cell_type": "code",
      "source": [
        "from google.colab import drive\n",
        "drive.mount('/content/drive')\n",
        "\n",
        "%cd /content/drive/MyDrive/ColabNotebooks/ExplainableAI/model_deployment"
      ],
      "metadata": {
        "colab": {
          "base_uri": "https://localhost:8080/"
        },
        "id": "pr1fRqtMAkiO",
        "outputId": "1835dc87-2653-482c-8b84-7a258f7b7958"
      },
      "execution_count": 5,
      "outputs": [
        {
          "output_type": "stream",
          "name": "stdout",
          "text": [
            "Mounted at /content/drive\n",
            "/content/drive/MyDrive/ColabNotebooks/ExplainableAI/model_deployment\n"
          ]
        }
      ]
    },
    {
      "cell_type": "markdown",
      "source": [
        "## 1. Create a Gradio App that exposes the MRI brain tumor classification model"
      ],
      "metadata": {
        "id": "C0DJDaC6dfn0"
      }
    },
    {
      "cell_type": "code",
      "execution_count": null,
      "metadata": {
        "id": "m9ON-Z-HdBnA"
      },
      "outputs": [],
      "source": [
        "import gradio as gr\n",
        "\n",
        "def update_gallery(images):\n",
        "    \"\"\"Update the gallery with the uploaded images\"\"\"\n",
        "    return images\n",
        "\n",
        "\n",
        "with gr.Blocks() as demo:\n",
        "    gr.Markdown(\"<h1 style='text-align: center;'>MRI Brain Tumor Classification App</h1>\")\n",
        "    with gr.Column():\n",
        "        image_input = gr.Files(label=\"Upload MRI Images\",\n",
        "                              file_count=\"multiple\",\n",
        "                              type=\"filepath\")\n",
        "\n",
        "        gallery = gr.Gallery(label=\"MRI Brain Images\")\n",
        "\n",
        "    # update the gallery images when image_input changes\n",
        "    image_input.change(\n",
        "        fn=update_gallery,\n",
        "        inputs=[image_input],\n",
        "        outputs=[gallery])\n",
        "\n",
        "\n",
        "demo.launch(debug=True)"
      ]
    },
    {
      "cell_type": "markdown",
      "source": [
        "## 2. Gradio UI for MRI classification"
      ],
      "metadata": {
        "id": "K3jPTzzGfPzR"
      }
    },
    {
      "cell_type": "markdown",
      "source": [
        "### Load a vision transforer model trained for MRI classification and image processor"
      ],
      "metadata": {
        "id": "ka4KovwQf8_J"
      }
    },
    {
      "cell_type": "markdown",
      "source": [
        "### Immage class prediction function"
      ],
      "metadata": {
        "id": "oxg3mZKAgXCV"
      }
    },
    {
      "cell_type": "markdown",
      "source": [
        "### Gradio UI for uploading image, making and displaying the prediction"
      ],
      "metadata": {
        "id": "iR2uYExBgn14"
      }
    },
    {
      "cell_type": "markdown",
      "source": [
        "## 3. Gradio UI for MEI segmentation"
      ],
      "metadata": {
        "id": "c5TSXAiohEes"
      }
    },
    {
      "cell_type": "markdown",
      "source": [
        "### Load image segmentation model and image processor"
      ],
      "metadata": {
        "id": "h2Zr9ePghfU4"
      }
    },
    {
      "cell_type": "markdown",
      "source": [
        "### Image segmentation prediction function"
      ],
      "metadata": {
        "id": "7nLthrYOhtrZ"
      }
    },
    {
      "cell_type": "markdown",
      "source": [
        "### Gradio UI for uploading image and making a prediction"
      ],
      "metadata": {
        "id": "sg7SNkikiDHk"
      }
    },
    {
      "cell_type": "markdown",
      "source": [
        "### Gradio components to display segmentation result"
      ],
      "metadata": {
        "id": "pldgv7_AiZ-T"
      }
    },
    {
      "cell_type": "markdown",
      "source": [
        "## 4. Gradio Interface"
      ],
      "metadata": {
        "id": "iRfLC6G5ij94"
      }
    },
    {
      "cell_type": "markdown",
      "source": [
        "### App contents"
      ],
      "metadata": {
        "id": "IMvDONAIiqBG"
      }
    },
    {
      "cell_type": "markdown",
      "source": [
        "#### Text section"
      ],
      "metadata": {
        "id": "pz6_6Ti6i0Vj"
      }
    },
    {
      "cell_type": "markdown",
      "source": [
        "#### Gallery section"
      ],
      "metadata": {
        "id": "G3ToCQh0i37P"
      }
    },
    {
      "cell_type": "markdown",
      "source": [
        "#### Image analysis section"
      ],
      "metadata": {
        "id": "nmDKrz1Di83Y"
      }
    },
    {
      "cell_type": "markdown",
      "source": [
        "### App"
      ],
      "metadata": {
        "id": "e-IqoMibjhtu"
      }
    }
  ]
}