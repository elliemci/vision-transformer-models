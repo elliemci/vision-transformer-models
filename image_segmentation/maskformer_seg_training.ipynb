{
  "nbformat": 4,
  "nbformat_minor": 0,
  "metadata": {
    "colab": {
      "provenance": [],
      "authorship_tag": "ABX9TyN1XibiYLU8C7/IxseGzUxf",
      "include_colab_link": true
    },
    "kernelspec": {
      "name": "python3",
      "display_name": "Python 3"
    },
    "language_info": {
      "name": "python"
    },
    "widgets": {
      "application/vnd.jupyter.widget-state+json": {
        "8a7cfabe01154445935794cbfa71816a": {
          "model_module": "@jupyter-widgets/controls",
          "model_name": "HBoxModel",
          "model_module_version": "1.5.0",
          "state": {
            "_dom_classes": [],
            "_model_module": "@jupyter-widgets/controls",
            "_model_module_version": "1.5.0",
            "_model_name": "HBoxModel",
            "_view_count": null,
            "_view_module": "@jupyter-widgets/controls",
            "_view_module_version": "1.5.0",
            "_view_name": "HBoxView",
            "box_style": "",
            "children": [
              "IPY_MODEL_b8ead6e052374d8ebb171125a6a3896d",
              "IPY_MODEL_4d2e127c11194db8bbe42225b544d29b",
              "IPY_MODEL_3fcd2246e4594ae7adb0256f5151caa9"
            ],
            "layout": "IPY_MODEL_60e5d80989b4408fae96d9b18f7f320c"
          }
        },
        "b8ead6e052374d8ebb171125a6a3896d": {
          "model_module": "@jupyter-widgets/controls",
          "model_name": "HTMLModel",
          "model_module_version": "1.5.0",
          "state": {
            "_dom_classes": [],
            "_model_module": "@jupyter-widgets/controls",
            "_model_module_version": "1.5.0",
            "_model_name": "HTMLModel",
            "_view_count": null,
            "_view_module": "@jupyter-widgets/controls",
            "_view_module_version": "1.5.0",
            "_view_name": "HTMLView",
            "description": "",
            "description_tooltip": null,
            "layout": "IPY_MODEL_678162b4454648c49680bf11209a56cb",
            "placeholder": "​",
            "style": "IPY_MODEL_a428202b8391446588d5de2081b380d6",
            "value": "README.md: 100%"
          }
        },
        "4d2e127c11194db8bbe42225b544d29b": {
          "model_module": "@jupyter-widgets/controls",
          "model_name": "FloatProgressModel",
          "model_module_version": "1.5.0",
          "state": {
            "_dom_classes": [],
            "_model_module": "@jupyter-widgets/controls",
            "_model_module_version": "1.5.0",
            "_model_name": "FloatProgressModel",
            "_view_count": null,
            "_view_module": "@jupyter-widgets/controls",
            "_view_module_version": "1.5.0",
            "_view_name": "ProgressView",
            "bar_style": "success",
            "description": "",
            "description_tooltip": null,
            "layout": "IPY_MODEL_6f4d312c1e024f2791b47fd6eb8a8436",
            "max": 597,
            "min": 0,
            "orientation": "horizontal",
            "style": "IPY_MODEL_e67067b0de1d4baa9b3d96420763ec90",
            "value": 597
          }
        },
        "3fcd2246e4594ae7adb0256f5151caa9": {
          "model_module": "@jupyter-widgets/controls",
          "model_name": "HTMLModel",
          "model_module_version": "1.5.0",
          "state": {
            "_dom_classes": [],
            "_model_module": "@jupyter-widgets/controls",
            "_model_module_version": "1.5.0",
            "_model_name": "HTMLModel",
            "_view_count": null,
            "_view_module": "@jupyter-widgets/controls",
            "_view_module_version": "1.5.0",
            "_view_name": "HTMLView",
            "description": "",
            "description_tooltip": null,
            "layout": "IPY_MODEL_84bda7d1ca304b6dab0094ebd8485352",
            "placeholder": "​",
            "style": "IPY_MODEL_a7a172273cd942d89dcb7b0d1160915c",
            "value": " 597/597 [00:00&lt;00:00, 35.8kB/s]"
          }
        },
        "60e5d80989b4408fae96d9b18f7f320c": {
          "model_module": "@jupyter-widgets/base",
          "model_name": "LayoutModel",
          "model_module_version": "1.2.0",
          "state": {
            "_model_module": "@jupyter-widgets/base",
            "_model_module_version": "1.2.0",
            "_model_name": "LayoutModel",
            "_view_count": null,
            "_view_module": "@jupyter-widgets/base",
            "_view_module_version": "1.2.0",
            "_view_name": "LayoutView",
            "align_content": null,
            "align_items": null,
            "align_self": null,
            "border": null,
            "bottom": null,
            "display": null,
            "flex": null,
            "flex_flow": null,
            "grid_area": null,
            "grid_auto_columns": null,
            "grid_auto_flow": null,
            "grid_auto_rows": null,
            "grid_column": null,
            "grid_gap": null,
            "grid_row": null,
            "grid_template_areas": null,
            "grid_template_columns": null,
            "grid_template_rows": null,
            "height": null,
            "justify_content": null,
            "justify_items": null,
            "left": null,
            "margin": null,
            "max_height": null,
            "max_width": null,
            "min_height": null,
            "min_width": null,
            "object_fit": null,
            "object_position": null,
            "order": null,
            "overflow": null,
            "overflow_x": null,
            "overflow_y": null,
            "padding": null,
            "right": null,
            "top": null,
            "visibility": null,
            "width": null
          }
        },
        "678162b4454648c49680bf11209a56cb": {
          "model_module": "@jupyter-widgets/base",
          "model_name": "LayoutModel",
          "model_module_version": "1.2.0",
          "state": {
            "_model_module": "@jupyter-widgets/base",
            "_model_module_version": "1.2.0",
            "_model_name": "LayoutModel",
            "_view_count": null,
            "_view_module": "@jupyter-widgets/base",
            "_view_module_version": "1.2.0",
            "_view_name": "LayoutView",
            "align_content": null,
            "align_items": null,
            "align_self": null,
            "border": null,
            "bottom": null,
            "display": null,
            "flex": null,
            "flex_flow": null,
            "grid_area": null,
            "grid_auto_columns": null,
            "grid_auto_flow": null,
            "grid_auto_rows": null,
            "grid_column": null,
            "grid_gap": null,
            "grid_row": null,
            "grid_template_areas": null,
            "grid_template_columns": null,
            "grid_template_rows": null,
            "height": null,
            "justify_content": null,
            "justify_items": null,
            "left": null,
            "margin": null,
            "max_height": null,
            "max_width": null,
            "min_height": null,
            "min_width": null,
            "object_fit": null,
            "object_position": null,
            "order": null,
            "overflow": null,
            "overflow_x": null,
            "overflow_y": null,
            "padding": null,
            "right": null,
            "top": null,
            "visibility": null,
            "width": null
          }
        },
        "a428202b8391446588d5de2081b380d6": {
          "model_module": "@jupyter-widgets/controls",
          "model_name": "DescriptionStyleModel",
          "model_module_version": "1.5.0",
          "state": {
            "_model_module": "@jupyter-widgets/controls",
            "_model_module_version": "1.5.0",
            "_model_name": "DescriptionStyleModel",
            "_view_count": null,
            "_view_module": "@jupyter-widgets/base",
            "_view_module_version": "1.2.0",
            "_view_name": "StyleView",
            "description_width": ""
          }
        },
        "6f4d312c1e024f2791b47fd6eb8a8436": {
          "model_module": "@jupyter-widgets/base",
          "model_name": "LayoutModel",
          "model_module_version": "1.2.0",
          "state": {
            "_model_module": "@jupyter-widgets/base",
            "_model_module_version": "1.2.0",
            "_model_name": "LayoutModel",
            "_view_count": null,
            "_view_module": "@jupyter-widgets/base",
            "_view_module_version": "1.2.0",
            "_view_name": "LayoutView",
            "align_content": null,
            "align_items": null,
            "align_self": null,
            "border": null,
            "bottom": null,
            "display": null,
            "flex": null,
            "flex_flow": null,
            "grid_area": null,
            "grid_auto_columns": null,
            "grid_auto_flow": null,
            "grid_auto_rows": null,
            "grid_column": null,
            "grid_gap": null,
            "grid_row": null,
            "grid_template_areas": null,
            "grid_template_columns": null,
            "grid_template_rows": null,
            "height": null,
            "justify_content": null,
            "justify_items": null,
            "left": null,
            "margin": null,
            "max_height": null,
            "max_width": null,
            "min_height": null,
            "min_width": null,
            "object_fit": null,
            "object_position": null,
            "order": null,
            "overflow": null,
            "overflow_x": null,
            "overflow_y": null,
            "padding": null,
            "right": null,
            "top": null,
            "visibility": null,
            "width": null
          }
        },
        "e67067b0de1d4baa9b3d96420763ec90": {
          "model_module": "@jupyter-widgets/controls",
          "model_name": "ProgressStyleModel",
          "model_module_version": "1.5.0",
          "state": {
            "_model_module": "@jupyter-widgets/controls",
            "_model_module_version": "1.5.0",
            "_model_name": "ProgressStyleModel",
            "_view_count": null,
            "_view_module": "@jupyter-widgets/base",
            "_view_module_version": "1.2.0",
            "_view_name": "StyleView",
            "bar_color": null,
            "description_width": ""
          }
        },
        "84bda7d1ca304b6dab0094ebd8485352": {
          "model_module": "@jupyter-widgets/base",
          "model_name": "LayoutModel",
          "model_module_version": "1.2.0",
          "state": {
            "_model_module": "@jupyter-widgets/base",
            "_model_module_version": "1.2.0",
            "_model_name": "LayoutModel",
            "_view_count": null,
            "_view_module": "@jupyter-widgets/base",
            "_view_module_version": "1.2.0",
            "_view_name": "LayoutView",
            "align_content": null,
            "align_items": null,
            "align_self": null,
            "border": null,
            "bottom": null,
            "display": null,
            "flex": null,
            "flex_flow": null,
            "grid_area": null,
            "grid_auto_columns": null,
            "grid_auto_flow": null,
            "grid_auto_rows": null,
            "grid_column": null,
            "grid_gap": null,
            "grid_row": null,
            "grid_template_areas": null,
            "grid_template_columns": null,
            "grid_template_rows": null,
            "height": null,
            "justify_content": null,
            "justify_items": null,
            "left": null,
            "margin": null,
            "max_height": null,
            "max_width": null,
            "min_height": null,
            "min_width": null,
            "object_fit": null,
            "object_position": null,
            "order": null,
            "overflow": null,
            "overflow_x": null,
            "overflow_y": null,
            "padding": null,
            "right": null,
            "top": null,
            "visibility": null,
            "width": null
          }
        },
        "a7a172273cd942d89dcb7b0d1160915c": {
          "model_module": "@jupyter-widgets/controls",
          "model_name": "DescriptionStyleModel",
          "model_module_version": "1.5.0",
          "state": {
            "_model_module": "@jupyter-widgets/controls",
            "_model_module_version": "1.5.0",
            "_model_name": "DescriptionStyleModel",
            "_view_count": null,
            "_view_module": "@jupyter-widgets/base",
            "_view_module_version": "1.2.0",
            "_view_name": "StyleView",
            "description_width": ""
          }
        },
        "200f1bdf236c4872b52b5353429e2bfd": {
          "model_module": "@jupyter-widgets/controls",
          "model_name": "HBoxModel",
          "model_module_version": "1.5.0",
          "state": {
            "_dom_classes": [],
            "_model_module": "@jupyter-widgets/controls",
            "_model_module_version": "1.5.0",
            "_model_name": "HBoxModel",
            "_view_count": null,
            "_view_module": "@jupyter-widgets/controls",
            "_view_module_version": "1.5.0",
            "_view_name": "HBoxView",
            "box_style": "",
            "children": [
              "IPY_MODEL_0d7e0f0e823144e28da6db0bdadc11c9",
              "IPY_MODEL_4a0f5671020944dfbc2d0c57ef6a3aab",
              "IPY_MODEL_3d840ab6a304442699978b1daf123377"
            ],
            "layout": "IPY_MODEL_795089d5d5c647959b3f1051170a9dc4"
          }
        },
        "0d7e0f0e823144e28da6db0bdadc11c9": {
          "model_module": "@jupyter-widgets/controls",
          "model_name": "HTMLModel",
          "model_module_version": "1.5.0",
          "state": {
            "_dom_classes": [],
            "_model_module": "@jupyter-widgets/controls",
            "_model_module_version": "1.5.0",
            "_model_name": "HTMLModel",
            "_view_count": null,
            "_view_module": "@jupyter-widgets/controls",
            "_view_module_version": "1.5.0",
            "_view_name": "HTMLView",
            "description": "",
            "description_tooltip": null,
            "layout": "IPY_MODEL_41633d9410ba45578611a51358b1a1c7",
            "placeholder": "​",
            "style": "IPY_MODEL_4fd2462c0f3e48d287672ea45826cbb3",
            "value": "(…)-00000-of-00001-f217d7b7e614d60a.parquet: 100%"
          }
        },
        "4a0f5671020944dfbc2d0c57ef6a3aab": {
          "model_module": "@jupyter-widgets/controls",
          "model_name": "FloatProgressModel",
          "model_module_version": "1.5.0",
          "state": {
            "_dom_classes": [],
            "_model_module": "@jupyter-widgets/controls",
            "_model_module_version": "1.5.0",
            "_model_name": "FloatProgressModel",
            "_view_count": null,
            "_view_module": "@jupyter-widgets/controls",
            "_view_module_version": "1.5.0",
            "_view_name": "ProgressView",
            "bar_style": "success",
            "description": "",
            "description_tooltip": null,
            "layout": "IPY_MODEL_ff915f85b41241b09ed979ccc9bf7adb",
            "max": 43183108,
            "min": 0,
            "orientation": "horizontal",
            "style": "IPY_MODEL_247256c5b85e46068629a5284cfd1ed6",
            "value": 43183108
          }
        },
        "3d840ab6a304442699978b1daf123377": {
          "model_module": "@jupyter-widgets/controls",
          "model_name": "HTMLModel",
          "model_module_version": "1.5.0",
          "state": {
            "_dom_classes": [],
            "_model_module": "@jupyter-widgets/controls",
            "_model_module_version": "1.5.0",
            "_model_name": "HTMLModel",
            "_view_count": null,
            "_view_module": "@jupyter-widgets/controls",
            "_view_module_version": "1.5.0",
            "_view_name": "HTMLView",
            "description": "",
            "description_tooltip": null,
            "layout": "IPY_MODEL_8222e441b7cc47fdadda7c3833be7b51",
            "placeholder": "​",
            "style": "IPY_MODEL_edaadb5078bd4762a34e80b3f4536481",
            "value": " 43.2M/43.2M [00:00&lt;00:00, 76.5MB/s]"
          }
        },
        "795089d5d5c647959b3f1051170a9dc4": {
          "model_module": "@jupyter-widgets/base",
          "model_name": "LayoutModel",
          "model_module_version": "1.2.0",
          "state": {
            "_model_module": "@jupyter-widgets/base",
            "_model_module_version": "1.2.0",
            "_model_name": "LayoutModel",
            "_view_count": null,
            "_view_module": "@jupyter-widgets/base",
            "_view_module_version": "1.2.0",
            "_view_name": "LayoutView",
            "align_content": null,
            "align_items": null,
            "align_self": null,
            "border": null,
            "bottom": null,
            "display": null,
            "flex": null,
            "flex_flow": null,
            "grid_area": null,
            "grid_auto_columns": null,
            "grid_auto_flow": null,
            "grid_auto_rows": null,
            "grid_column": null,
            "grid_gap": null,
            "grid_row": null,
            "grid_template_areas": null,
            "grid_template_columns": null,
            "grid_template_rows": null,
            "height": null,
            "justify_content": null,
            "justify_items": null,
            "left": null,
            "margin": null,
            "max_height": null,
            "max_width": null,
            "min_height": null,
            "min_width": null,
            "object_fit": null,
            "object_position": null,
            "order": null,
            "overflow": null,
            "overflow_x": null,
            "overflow_y": null,
            "padding": null,
            "right": null,
            "top": null,
            "visibility": null,
            "width": null
          }
        },
        "41633d9410ba45578611a51358b1a1c7": {
          "model_module": "@jupyter-widgets/base",
          "model_name": "LayoutModel",
          "model_module_version": "1.2.0",
          "state": {
            "_model_module": "@jupyter-widgets/base",
            "_model_module_version": "1.2.0",
            "_model_name": "LayoutModel",
            "_view_count": null,
            "_view_module": "@jupyter-widgets/base",
            "_view_module_version": "1.2.0",
            "_view_name": "LayoutView",
            "align_content": null,
            "align_items": null,
            "align_self": null,
            "border": null,
            "bottom": null,
            "display": null,
            "flex": null,
            "flex_flow": null,
            "grid_area": null,
            "grid_auto_columns": null,
            "grid_auto_flow": null,
            "grid_auto_rows": null,
            "grid_column": null,
            "grid_gap": null,
            "grid_row": null,
            "grid_template_areas": null,
            "grid_template_columns": null,
            "grid_template_rows": null,
            "height": null,
            "justify_content": null,
            "justify_items": null,
            "left": null,
            "margin": null,
            "max_height": null,
            "max_width": null,
            "min_height": null,
            "min_width": null,
            "object_fit": null,
            "object_position": null,
            "order": null,
            "overflow": null,
            "overflow_x": null,
            "overflow_y": null,
            "padding": null,
            "right": null,
            "top": null,
            "visibility": null,
            "width": null
          }
        },
        "4fd2462c0f3e48d287672ea45826cbb3": {
          "model_module": "@jupyter-widgets/controls",
          "model_name": "DescriptionStyleModel",
          "model_module_version": "1.5.0",
          "state": {
            "_model_module": "@jupyter-widgets/controls",
            "_model_module_version": "1.5.0",
            "_model_name": "DescriptionStyleModel",
            "_view_count": null,
            "_view_module": "@jupyter-widgets/base",
            "_view_module_version": "1.2.0",
            "_view_name": "StyleView",
            "description_width": ""
          }
        },
        "ff915f85b41241b09ed979ccc9bf7adb": {
          "model_module": "@jupyter-widgets/base",
          "model_name": "LayoutModel",
          "model_module_version": "1.2.0",
          "state": {
            "_model_module": "@jupyter-widgets/base",
            "_model_module_version": "1.2.0",
            "_model_name": "LayoutModel",
            "_view_count": null,
            "_view_module": "@jupyter-widgets/base",
            "_view_module_version": "1.2.0",
            "_view_name": "LayoutView",
            "align_content": null,
            "align_items": null,
            "align_self": null,
            "border": null,
            "bottom": null,
            "display": null,
            "flex": null,
            "flex_flow": null,
            "grid_area": null,
            "grid_auto_columns": null,
            "grid_auto_flow": null,
            "grid_auto_rows": null,
            "grid_column": null,
            "grid_gap": null,
            "grid_row": null,
            "grid_template_areas": null,
            "grid_template_columns": null,
            "grid_template_rows": null,
            "height": null,
            "justify_content": null,
            "justify_items": null,
            "left": null,
            "margin": null,
            "max_height": null,
            "max_width": null,
            "min_height": null,
            "min_width": null,
            "object_fit": null,
            "object_position": null,
            "order": null,
            "overflow": null,
            "overflow_x": null,
            "overflow_y": null,
            "padding": null,
            "right": null,
            "top": null,
            "visibility": null,
            "width": null
          }
        },
        "247256c5b85e46068629a5284cfd1ed6": {
          "model_module": "@jupyter-widgets/controls",
          "model_name": "ProgressStyleModel",
          "model_module_version": "1.5.0",
          "state": {
            "_model_module": "@jupyter-widgets/controls",
            "_model_module_version": "1.5.0",
            "_model_name": "ProgressStyleModel",
            "_view_count": null,
            "_view_module": "@jupyter-widgets/base",
            "_view_module_version": "1.2.0",
            "_view_name": "StyleView",
            "bar_color": null,
            "description_width": ""
          }
        },
        "8222e441b7cc47fdadda7c3833be7b51": {
          "model_module": "@jupyter-widgets/base",
          "model_name": "LayoutModel",
          "model_module_version": "1.2.0",
          "state": {
            "_model_module": "@jupyter-widgets/base",
            "_model_module_version": "1.2.0",
            "_model_name": "LayoutModel",
            "_view_count": null,
            "_view_module": "@jupyter-widgets/base",
            "_view_module_version": "1.2.0",
            "_view_name": "LayoutView",
            "align_content": null,
            "align_items": null,
            "align_self": null,
            "border": null,
            "bottom": null,
            "display": null,
            "flex": null,
            "flex_flow": null,
            "grid_area": null,
            "grid_auto_columns": null,
            "grid_auto_flow": null,
            "grid_auto_rows": null,
            "grid_column": null,
            "grid_gap": null,
            "grid_row": null,
            "grid_template_areas": null,
            "grid_template_columns": null,
            "grid_template_rows": null,
            "height": null,
            "justify_content": null,
            "justify_items": null,
            "left": null,
            "margin": null,
            "max_height": null,
            "max_width": null,
            "min_height": null,
            "min_width": null,
            "object_fit": null,
            "object_position": null,
            "order": null,
            "overflow": null,
            "overflow_x": null,
            "overflow_y": null,
            "padding": null,
            "right": null,
            "top": null,
            "visibility": null,
            "width": null
          }
        },
        "edaadb5078bd4762a34e80b3f4536481": {
          "model_module": "@jupyter-widgets/controls",
          "model_name": "DescriptionStyleModel",
          "model_module_version": "1.5.0",
          "state": {
            "_model_module": "@jupyter-widgets/controls",
            "_model_module_version": "1.5.0",
            "_model_name": "DescriptionStyleModel",
            "_view_count": null,
            "_view_module": "@jupyter-widgets/base",
            "_view_module_version": "1.2.0",
            "_view_name": "StyleView",
            "description_width": ""
          }
        },
        "d1d95acaf6ec488fb8b37b96b60499fc": {
          "model_module": "@jupyter-widgets/controls",
          "model_name": "HBoxModel",
          "model_module_version": "1.5.0",
          "state": {
            "_dom_classes": [],
            "_model_module": "@jupyter-widgets/controls",
            "_model_module_version": "1.5.0",
            "_model_name": "HBoxModel",
            "_view_count": null,
            "_view_module": "@jupyter-widgets/controls",
            "_view_module_version": "1.5.0",
            "_view_name": "HBoxView",
            "box_style": "",
            "children": [
              "IPY_MODEL_5602fa0cb2164599ab7fbebc10c3fc6c",
              "IPY_MODEL_607895e2ebec49c8baf5bacdaf373c5e",
              "IPY_MODEL_f32c165f48324df6a84badc939ae0f68"
            ],
            "layout": "IPY_MODEL_227b6714b9c140f3b8d2bf2782d13dc9"
          }
        },
        "5602fa0cb2164599ab7fbebc10c3fc6c": {
          "model_module": "@jupyter-widgets/controls",
          "model_name": "HTMLModel",
          "model_module_version": "1.5.0",
          "state": {
            "_dom_classes": [],
            "_model_module": "@jupyter-widgets/controls",
            "_model_module_version": "1.5.0",
            "_model_name": "HTMLModel",
            "_view_count": null,
            "_view_module": "@jupyter-widgets/controls",
            "_view_module_version": "1.5.0",
            "_view_name": "HTMLView",
            "description": "",
            "description_tooltip": null,
            "layout": "IPY_MODEL_9317cd1bea534ce68ed155707c58891a",
            "placeholder": "​",
            "style": "IPY_MODEL_e8d23f0ef44f40e79ad8f05953f957f0",
            "value": "(…)-00000-of-00001-e13f34d2abe15bae.parquet: 100%"
          }
        },
        "607895e2ebec49c8baf5bacdaf373c5e": {
          "model_module": "@jupyter-widgets/controls",
          "model_name": "FloatProgressModel",
          "model_module_version": "1.5.0",
          "state": {
            "_dom_classes": [],
            "_model_module": "@jupyter-widgets/controls",
            "_model_module_version": "1.5.0",
            "_model_name": "FloatProgressModel",
            "_view_count": null,
            "_view_module": "@jupyter-widgets/controls",
            "_view_module_version": "1.5.0",
            "_view_name": "ProgressView",
            "bar_style": "success",
            "description": "",
            "description_tooltip": null,
            "layout": "IPY_MODEL_fab287a3af3d4abca717beea3872f591",
            "max": 19978523,
            "min": 0,
            "orientation": "horizontal",
            "style": "IPY_MODEL_c45e47825dbe4944bd9ffaa152ee57ab",
            "value": 19978523
          }
        },
        "f32c165f48324df6a84badc939ae0f68": {
          "model_module": "@jupyter-widgets/controls",
          "model_name": "HTMLModel",
          "model_module_version": "1.5.0",
          "state": {
            "_dom_classes": [],
            "_model_module": "@jupyter-widgets/controls",
            "_model_module_version": "1.5.0",
            "_model_name": "HTMLModel",
            "_view_count": null,
            "_view_module": "@jupyter-widgets/controls",
            "_view_module_version": "1.5.0",
            "_view_name": "HTMLView",
            "description": "",
            "description_tooltip": null,
            "layout": "IPY_MODEL_6bd9510a80784d8283a23fbc18042e1a",
            "placeholder": "​",
            "style": "IPY_MODEL_54969089b9c24bd68841b3a887ac2283",
            "value": " 20.0M/20.0M [00:00&lt;00:00, 140MB/s]"
          }
        },
        "227b6714b9c140f3b8d2bf2782d13dc9": {
          "model_module": "@jupyter-widgets/base",
          "model_name": "LayoutModel",
          "model_module_version": "1.2.0",
          "state": {
            "_model_module": "@jupyter-widgets/base",
            "_model_module_version": "1.2.0",
            "_model_name": "LayoutModel",
            "_view_count": null,
            "_view_module": "@jupyter-widgets/base",
            "_view_module_version": "1.2.0",
            "_view_name": "LayoutView",
            "align_content": null,
            "align_items": null,
            "align_self": null,
            "border": null,
            "bottom": null,
            "display": null,
            "flex": null,
            "flex_flow": null,
            "grid_area": null,
            "grid_auto_columns": null,
            "grid_auto_flow": null,
            "grid_auto_rows": null,
            "grid_column": null,
            "grid_gap": null,
            "grid_row": null,
            "grid_template_areas": null,
            "grid_template_columns": null,
            "grid_template_rows": null,
            "height": null,
            "justify_content": null,
            "justify_items": null,
            "left": null,
            "margin": null,
            "max_height": null,
            "max_width": null,
            "min_height": null,
            "min_width": null,
            "object_fit": null,
            "object_position": null,
            "order": null,
            "overflow": null,
            "overflow_x": null,
            "overflow_y": null,
            "padding": null,
            "right": null,
            "top": null,
            "visibility": null,
            "width": null
          }
        },
        "9317cd1bea534ce68ed155707c58891a": {
          "model_module": "@jupyter-widgets/base",
          "model_name": "LayoutModel",
          "model_module_version": "1.2.0",
          "state": {
            "_model_module": "@jupyter-widgets/base",
            "_model_module_version": "1.2.0",
            "_model_name": "LayoutModel",
            "_view_count": null,
            "_view_module": "@jupyter-widgets/base",
            "_view_module_version": "1.2.0",
            "_view_name": "LayoutView",
            "align_content": null,
            "align_items": null,
            "align_self": null,
            "border": null,
            "bottom": null,
            "display": null,
            "flex": null,
            "flex_flow": null,
            "grid_area": null,
            "grid_auto_columns": null,
            "grid_auto_flow": null,
            "grid_auto_rows": null,
            "grid_column": null,
            "grid_gap": null,
            "grid_row": null,
            "grid_template_areas": null,
            "grid_template_columns": null,
            "grid_template_rows": null,
            "height": null,
            "justify_content": null,
            "justify_items": null,
            "left": null,
            "margin": null,
            "max_height": null,
            "max_width": null,
            "min_height": null,
            "min_width": null,
            "object_fit": null,
            "object_position": null,
            "order": null,
            "overflow": null,
            "overflow_x": null,
            "overflow_y": null,
            "padding": null,
            "right": null,
            "top": null,
            "visibility": null,
            "width": null
          }
        },
        "e8d23f0ef44f40e79ad8f05953f957f0": {
          "model_module": "@jupyter-widgets/controls",
          "model_name": "DescriptionStyleModel",
          "model_module_version": "1.5.0",
          "state": {
            "_model_module": "@jupyter-widgets/controls",
            "_model_module_version": "1.5.0",
            "_model_name": "DescriptionStyleModel",
            "_view_count": null,
            "_view_module": "@jupyter-widgets/base",
            "_view_module_version": "1.2.0",
            "_view_name": "StyleView",
            "description_width": ""
          }
        },
        "fab287a3af3d4abca717beea3872f591": {
          "model_module": "@jupyter-widgets/base",
          "model_name": "LayoutModel",
          "model_module_version": "1.2.0",
          "state": {
            "_model_module": "@jupyter-widgets/base",
            "_model_module_version": "1.2.0",
            "_model_name": "LayoutModel",
            "_view_count": null,
            "_view_module": "@jupyter-widgets/base",
            "_view_module_version": "1.2.0",
            "_view_name": "LayoutView",
            "align_content": null,
            "align_items": null,
            "align_self": null,
            "border": null,
            "bottom": null,
            "display": null,
            "flex": null,
            "flex_flow": null,
            "grid_area": null,
            "grid_auto_columns": null,
            "grid_auto_flow": null,
            "grid_auto_rows": null,
            "grid_column": null,
            "grid_gap": null,
            "grid_row": null,
            "grid_template_areas": null,
            "grid_template_columns": null,
            "grid_template_rows": null,
            "height": null,
            "justify_content": null,
            "justify_items": null,
            "left": null,
            "margin": null,
            "max_height": null,
            "max_width": null,
            "min_height": null,
            "min_width": null,
            "object_fit": null,
            "object_position": null,
            "order": null,
            "overflow": null,
            "overflow_x": null,
            "overflow_y": null,
            "padding": null,
            "right": null,
            "top": null,
            "visibility": null,
            "width": null
          }
        },
        "c45e47825dbe4944bd9ffaa152ee57ab": {
          "model_module": "@jupyter-widgets/controls",
          "model_name": "ProgressStyleModel",
          "model_module_version": "1.5.0",
          "state": {
            "_model_module": "@jupyter-widgets/controls",
            "_model_module_version": "1.5.0",
            "_model_name": "ProgressStyleModel",
            "_view_count": null,
            "_view_module": "@jupyter-widgets/base",
            "_view_module_version": "1.2.0",
            "_view_name": "StyleView",
            "bar_color": null,
            "description_width": ""
          }
        },
        "6bd9510a80784d8283a23fbc18042e1a": {
          "model_module": "@jupyter-widgets/base",
          "model_name": "LayoutModel",
          "model_module_version": "1.2.0",
          "state": {
            "_model_module": "@jupyter-widgets/base",
            "_model_module_version": "1.2.0",
            "_model_name": "LayoutModel",
            "_view_count": null,
            "_view_module": "@jupyter-widgets/base",
            "_view_module_version": "1.2.0",
            "_view_name": "LayoutView",
            "align_content": null,
            "align_items": null,
            "align_self": null,
            "border": null,
            "bottom": null,
            "display": null,
            "flex": null,
            "flex_flow": null,
            "grid_area": null,
            "grid_auto_columns": null,
            "grid_auto_flow": null,
            "grid_auto_rows": null,
            "grid_column": null,
            "grid_gap": null,
            "grid_row": null,
            "grid_template_areas": null,
            "grid_template_columns": null,
            "grid_template_rows": null,
            "height": null,
            "justify_content": null,
            "justify_items": null,
            "left": null,
            "margin": null,
            "max_height": null,
            "max_width": null,
            "min_height": null,
            "min_width": null,
            "object_fit": null,
            "object_position": null,
            "order": null,
            "overflow": null,
            "overflow_x": null,
            "overflow_y": null,
            "padding": null,
            "right": null,
            "top": null,
            "visibility": null,
            "width": null
          }
        },
        "54969089b9c24bd68841b3a887ac2283": {
          "model_module": "@jupyter-widgets/controls",
          "model_name": "DescriptionStyleModel",
          "model_module_version": "1.5.0",
          "state": {
            "_model_module": "@jupyter-widgets/controls",
            "_model_module_version": "1.5.0",
            "_model_name": "DescriptionStyleModel",
            "_view_count": null,
            "_view_module": "@jupyter-widgets/base",
            "_view_module_version": "1.2.0",
            "_view_name": "StyleView",
            "description_width": ""
          }
        },
        "0f0a3c6aee084adc9f8acf766fd5c8bc": {
          "model_module": "@jupyter-widgets/controls",
          "model_name": "HBoxModel",
          "model_module_version": "1.5.0",
          "state": {
            "_dom_classes": [],
            "_model_module": "@jupyter-widgets/controls",
            "_model_module_version": "1.5.0",
            "_model_name": "HBoxModel",
            "_view_count": null,
            "_view_module": "@jupyter-widgets/controls",
            "_view_module_version": "1.5.0",
            "_view_name": "HBoxView",
            "box_style": "",
            "children": [
              "IPY_MODEL_53ffa4230ece452bacf868d31b2d58d1",
              "IPY_MODEL_34c6c380ca864a89895683de7939f1f7",
              "IPY_MODEL_f05330c0b33f4f948b5d733414d33130"
            ],
            "layout": "IPY_MODEL_7fbd123c9ba7498dac6e0ab1a92b5eb3"
          }
        },
        "53ffa4230ece452bacf868d31b2d58d1": {
          "model_module": "@jupyter-widgets/controls",
          "model_name": "HTMLModel",
          "model_module_version": "1.5.0",
          "state": {
            "_dom_classes": [],
            "_model_module": "@jupyter-widgets/controls",
            "_model_module_version": "1.5.0",
            "_model_name": "HTMLModel",
            "_view_count": null,
            "_view_module": "@jupyter-widgets/controls",
            "_view_module_version": "1.5.0",
            "_view_name": "HTMLView",
            "description": "",
            "description_tooltip": null,
            "layout": "IPY_MODEL_cee75419c2cd43b49d3f78cb69073dda",
            "placeholder": "​",
            "style": "IPY_MODEL_e424bce16a604e3282341bdccbd8be1a",
            "value": "Generating train split: 100%"
          }
        },
        "34c6c380ca864a89895683de7939f1f7": {
          "model_module": "@jupyter-widgets/controls",
          "model_name": "FloatProgressModel",
          "model_module_version": "1.5.0",
          "state": {
            "_dom_classes": [],
            "_model_module": "@jupyter-widgets/controls",
            "_model_module_version": "1.5.0",
            "_model_name": "FloatProgressModel",
            "_view_count": null,
            "_view_module": "@jupyter-widgets/controls",
            "_view_module_version": "1.5.0",
            "_view_name": "ProgressView",
            "bar_style": "success",
            "description": "",
            "description_tooltip": null,
            "layout": "IPY_MODEL_bd579c17c4f448fdb2f9de3926811589",
            "max": 500,
            "min": 0,
            "orientation": "horizontal",
            "style": "IPY_MODEL_ff08bd33a65146a3a54c53503f9f172f",
            "value": 500
          }
        },
        "f05330c0b33f4f948b5d733414d33130": {
          "model_module": "@jupyter-widgets/controls",
          "model_name": "HTMLModel",
          "model_module_version": "1.5.0",
          "state": {
            "_dom_classes": [],
            "_model_module": "@jupyter-widgets/controls",
            "_model_module_version": "1.5.0",
            "_model_name": "HTMLModel",
            "_view_count": null,
            "_view_module": "@jupyter-widgets/controls",
            "_view_module_version": "1.5.0",
            "_view_name": "HTMLView",
            "description": "",
            "description_tooltip": null,
            "layout": "IPY_MODEL_c49af19ceeb44cd794879ecb3b19f58b",
            "placeholder": "​",
            "style": "IPY_MODEL_1d3c8464e7914c48b81451cf8aa849db",
            "value": " 500/500 [00:00&lt;00:00, 711.39 examples/s]"
          }
        },
        "7fbd123c9ba7498dac6e0ab1a92b5eb3": {
          "model_module": "@jupyter-widgets/base",
          "model_name": "LayoutModel",
          "model_module_version": "1.2.0",
          "state": {
            "_model_module": "@jupyter-widgets/base",
            "_model_module_version": "1.2.0",
            "_model_name": "LayoutModel",
            "_view_count": null,
            "_view_module": "@jupyter-widgets/base",
            "_view_module_version": "1.2.0",
            "_view_name": "LayoutView",
            "align_content": null,
            "align_items": null,
            "align_self": null,
            "border": null,
            "bottom": null,
            "display": null,
            "flex": null,
            "flex_flow": null,
            "grid_area": null,
            "grid_auto_columns": null,
            "grid_auto_flow": null,
            "grid_auto_rows": null,
            "grid_column": null,
            "grid_gap": null,
            "grid_row": null,
            "grid_template_areas": null,
            "grid_template_columns": null,
            "grid_template_rows": null,
            "height": null,
            "justify_content": null,
            "justify_items": null,
            "left": null,
            "margin": null,
            "max_height": null,
            "max_width": null,
            "min_height": null,
            "min_width": null,
            "object_fit": null,
            "object_position": null,
            "order": null,
            "overflow": null,
            "overflow_x": null,
            "overflow_y": null,
            "padding": null,
            "right": null,
            "top": null,
            "visibility": null,
            "width": null
          }
        },
        "cee75419c2cd43b49d3f78cb69073dda": {
          "model_module": "@jupyter-widgets/base",
          "model_name": "LayoutModel",
          "model_module_version": "1.2.0",
          "state": {
            "_model_module": "@jupyter-widgets/base",
            "_model_module_version": "1.2.0",
            "_model_name": "LayoutModel",
            "_view_count": null,
            "_view_module": "@jupyter-widgets/base",
            "_view_module_version": "1.2.0",
            "_view_name": "LayoutView",
            "align_content": null,
            "align_items": null,
            "align_self": null,
            "border": null,
            "bottom": null,
            "display": null,
            "flex": null,
            "flex_flow": null,
            "grid_area": null,
            "grid_auto_columns": null,
            "grid_auto_flow": null,
            "grid_auto_rows": null,
            "grid_column": null,
            "grid_gap": null,
            "grid_row": null,
            "grid_template_areas": null,
            "grid_template_columns": null,
            "grid_template_rows": null,
            "height": null,
            "justify_content": null,
            "justify_items": null,
            "left": null,
            "margin": null,
            "max_height": null,
            "max_width": null,
            "min_height": null,
            "min_width": null,
            "object_fit": null,
            "object_position": null,
            "order": null,
            "overflow": null,
            "overflow_x": null,
            "overflow_y": null,
            "padding": null,
            "right": null,
            "top": null,
            "visibility": null,
            "width": null
          }
        },
        "e424bce16a604e3282341bdccbd8be1a": {
          "model_module": "@jupyter-widgets/controls",
          "model_name": "DescriptionStyleModel",
          "model_module_version": "1.5.0",
          "state": {
            "_model_module": "@jupyter-widgets/controls",
            "_model_module_version": "1.5.0",
            "_model_name": "DescriptionStyleModel",
            "_view_count": null,
            "_view_module": "@jupyter-widgets/base",
            "_view_module_version": "1.2.0",
            "_view_name": "StyleView",
            "description_width": ""
          }
        },
        "bd579c17c4f448fdb2f9de3926811589": {
          "model_module": "@jupyter-widgets/base",
          "model_name": "LayoutModel",
          "model_module_version": "1.2.0",
          "state": {
            "_model_module": "@jupyter-widgets/base",
            "_model_module_version": "1.2.0",
            "_model_name": "LayoutModel",
            "_view_count": null,
            "_view_module": "@jupyter-widgets/base",
            "_view_module_version": "1.2.0",
            "_view_name": "LayoutView",
            "align_content": null,
            "align_items": null,
            "align_self": null,
            "border": null,
            "bottom": null,
            "display": null,
            "flex": null,
            "flex_flow": null,
            "grid_area": null,
            "grid_auto_columns": null,
            "grid_auto_flow": null,
            "grid_auto_rows": null,
            "grid_column": null,
            "grid_gap": null,
            "grid_row": null,
            "grid_template_areas": null,
            "grid_template_columns": null,
            "grid_template_rows": null,
            "height": null,
            "justify_content": null,
            "justify_items": null,
            "left": null,
            "margin": null,
            "max_height": null,
            "max_width": null,
            "min_height": null,
            "min_width": null,
            "object_fit": null,
            "object_position": null,
            "order": null,
            "overflow": null,
            "overflow_x": null,
            "overflow_y": null,
            "padding": null,
            "right": null,
            "top": null,
            "visibility": null,
            "width": null
          }
        },
        "ff08bd33a65146a3a54c53503f9f172f": {
          "model_module": "@jupyter-widgets/controls",
          "model_name": "ProgressStyleModel",
          "model_module_version": "1.5.0",
          "state": {
            "_model_module": "@jupyter-widgets/controls",
            "_model_module_version": "1.5.0",
            "_model_name": "ProgressStyleModel",
            "_view_count": null,
            "_view_module": "@jupyter-widgets/base",
            "_view_module_version": "1.2.0",
            "_view_name": "StyleView",
            "bar_color": null,
            "description_width": ""
          }
        },
        "c49af19ceeb44cd794879ecb3b19f58b": {
          "model_module": "@jupyter-widgets/base",
          "model_name": "LayoutModel",
          "model_module_version": "1.2.0",
          "state": {
            "_model_module": "@jupyter-widgets/base",
            "_model_module_version": "1.2.0",
            "_model_name": "LayoutModel",
            "_view_count": null,
            "_view_module": "@jupyter-widgets/base",
            "_view_module_version": "1.2.0",
            "_view_name": "LayoutView",
            "align_content": null,
            "align_items": null,
            "align_self": null,
            "border": null,
            "bottom": null,
            "display": null,
            "flex": null,
            "flex_flow": null,
            "grid_area": null,
            "grid_auto_columns": null,
            "grid_auto_flow": null,
            "grid_auto_rows": null,
            "grid_column": null,
            "grid_gap": null,
            "grid_row": null,
            "grid_template_areas": null,
            "grid_template_columns": null,
            "grid_template_rows": null,
            "height": null,
            "justify_content": null,
            "justify_items": null,
            "left": null,
            "margin": null,
            "max_height": null,
            "max_width": null,
            "min_height": null,
            "min_width": null,
            "object_fit": null,
            "object_position": null,
            "order": null,
            "overflow": null,
            "overflow_x": null,
            "overflow_y": null,
            "padding": null,
            "right": null,
            "top": null,
            "visibility": null,
            "width": null
          }
        },
        "1d3c8464e7914c48b81451cf8aa849db": {
          "model_module": "@jupyter-widgets/controls",
          "model_name": "DescriptionStyleModel",
          "model_module_version": "1.5.0",
          "state": {
            "_model_module": "@jupyter-widgets/controls",
            "_model_module_version": "1.5.0",
            "_model_name": "DescriptionStyleModel",
            "_view_count": null,
            "_view_module": "@jupyter-widgets/base",
            "_view_module_version": "1.2.0",
            "_view_name": "StyleView",
            "description_width": ""
          }
        },
        "8851340c37a24f79ac99ab4c69dcffd9": {
          "model_module": "@jupyter-widgets/controls",
          "model_name": "HBoxModel",
          "model_module_version": "1.5.0",
          "state": {
            "_dom_classes": [],
            "_model_module": "@jupyter-widgets/controls",
            "_model_module_version": "1.5.0",
            "_model_name": "HBoxModel",
            "_view_count": null,
            "_view_module": "@jupyter-widgets/controls",
            "_view_module_version": "1.5.0",
            "_view_name": "HBoxView",
            "box_style": "",
            "children": [
              "IPY_MODEL_1d9954beab5f45238d9862d81e7aed8b",
              "IPY_MODEL_eda6eda8ed664db6afe7a734bfb16ca7",
              "IPY_MODEL_bec5f2f1dee74c91b6e2bd982259f4a9"
            ],
            "layout": "IPY_MODEL_78f75c0ff1c243d1beadf3a26ee8edc3"
          }
        },
        "1d9954beab5f45238d9862d81e7aed8b": {
          "model_module": "@jupyter-widgets/controls",
          "model_name": "HTMLModel",
          "model_module_version": "1.5.0",
          "state": {
            "_dom_classes": [],
            "_model_module": "@jupyter-widgets/controls",
            "_model_module_version": "1.5.0",
            "_model_name": "HTMLModel",
            "_view_count": null,
            "_view_module": "@jupyter-widgets/controls",
            "_view_module_version": "1.5.0",
            "_view_name": "HTMLView",
            "description": "",
            "description_tooltip": null,
            "layout": "IPY_MODEL_37678a90a02d45de9e778ef4a4d6fe59",
            "placeholder": "​",
            "style": "IPY_MODEL_368cb6e790b0422a9f8bc3fe721b0dfd",
            "value": "Generating validation split: 100%"
          }
        },
        "eda6eda8ed664db6afe7a734bfb16ca7": {
          "model_module": "@jupyter-widgets/controls",
          "model_name": "FloatProgressModel",
          "model_module_version": "1.5.0",
          "state": {
            "_dom_classes": [],
            "_model_module": "@jupyter-widgets/controls",
            "_model_module_version": "1.5.0",
            "_model_name": "FloatProgressModel",
            "_view_count": null,
            "_view_module": "@jupyter-widgets/controls",
            "_view_module_version": "1.5.0",
            "_view_name": "ProgressView",
            "bar_style": "success",
            "description": "",
            "description_tooltip": null,
            "layout": "IPY_MODEL_b741962fc15f4da896ba78fc9d0a7fa7",
            "max": 200,
            "min": 0,
            "orientation": "horizontal",
            "style": "IPY_MODEL_6b49b9b7ef2648df9dca18a089368aaf",
            "value": 200
          }
        },
        "bec5f2f1dee74c91b6e2bd982259f4a9": {
          "model_module": "@jupyter-widgets/controls",
          "model_name": "HTMLModel",
          "model_module_version": "1.5.0",
          "state": {
            "_dom_classes": [],
            "_model_module": "@jupyter-widgets/controls",
            "_model_module_version": "1.5.0",
            "_model_name": "HTMLModel",
            "_view_count": null,
            "_view_module": "@jupyter-widgets/controls",
            "_view_module_version": "1.5.0",
            "_view_name": "HTMLView",
            "description": "",
            "description_tooltip": null,
            "layout": "IPY_MODEL_8e6cf5edc4924f4d9120b51476e8be02",
            "placeholder": "​",
            "style": "IPY_MODEL_f50b81f4e93e4a4eb7fb41f342e881ba",
            "value": " 200/200 [00:00&lt;00:00, 976.01 examples/s]"
          }
        },
        "78f75c0ff1c243d1beadf3a26ee8edc3": {
          "model_module": "@jupyter-widgets/base",
          "model_name": "LayoutModel",
          "model_module_version": "1.2.0",
          "state": {
            "_model_module": "@jupyter-widgets/base",
            "_model_module_version": "1.2.0",
            "_model_name": "LayoutModel",
            "_view_count": null,
            "_view_module": "@jupyter-widgets/base",
            "_view_module_version": "1.2.0",
            "_view_name": "LayoutView",
            "align_content": null,
            "align_items": null,
            "align_self": null,
            "border": null,
            "bottom": null,
            "display": null,
            "flex": null,
            "flex_flow": null,
            "grid_area": null,
            "grid_auto_columns": null,
            "grid_auto_flow": null,
            "grid_auto_rows": null,
            "grid_column": null,
            "grid_gap": null,
            "grid_row": null,
            "grid_template_areas": null,
            "grid_template_columns": null,
            "grid_template_rows": null,
            "height": null,
            "justify_content": null,
            "justify_items": null,
            "left": null,
            "margin": null,
            "max_height": null,
            "max_width": null,
            "min_height": null,
            "min_width": null,
            "object_fit": null,
            "object_position": null,
            "order": null,
            "overflow": null,
            "overflow_x": null,
            "overflow_y": null,
            "padding": null,
            "right": null,
            "top": null,
            "visibility": null,
            "width": null
          }
        },
        "37678a90a02d45de9e778ef4a4d6fe59": {
          "model_module": "@jupyter-widgets/base",
          "model_name": "LayoutModel",
          "model_module_version": "1.2.0",
          "state": {
            "_model_module": "@jupyter-widgets/base",
            "_model_module_version": "1.2.0",
            "_model_name": "LayoutModel",
            "_view_count": null,
            "_view_module": "@jupyter-widgets/base",
            "_view_module_version": "1.2.0",
            "_view_name": "LayoutView",
            "align_content": null,
            "align_items": null,
            "align_self": null,
            "border": null,
            "bottom": null,
            "display": null,
            "flex": null,
            "flex_flow": null,
            "grid_area": null,
            "grid_auto_columns": null,
            "grid_auto_flow": null,
            "grid_auto_rows": null,
            "grid_column": null,
            "grid_gap": null,
            "grid_row": null,
            "grid_template_areas": null,
            "grid_template_columns": null,
            "grid_template_rows": null,
            "height": null,
            "justify_content": null,
            "justify_items": null,
            "left": null,
            "margin": null,
            "max_height": null,
            "max_width": null,
            "min_height": null,
            "min_width": null,
            "object_fit": null,
            "object_position": null,
            "order": null,
            "overflow": null,
            "overflow_x": null,
            "overflow_y": null,
            "padding": null,
            "right": null,
            "top": null,
            "visibility": null,
            "width": null
          }
        },
        "368cb6e790b0422a9f8bc3fe721b0dfd": {
          "model_module": "@jupyter-widgets/controls",
          "model_name": "DescriptionStyleModel",
          "model_module_version": "1.5.0",
          "state": {
            "_model_module": "@jupyter-widgets/controls",
            "_model_module_version": "1.5.0",
            "_model_name": "DescriptionStyleModel",
            "_view_count": null,
            "_view_module": "@jupyter-widgets/base",
            "_view_module_version": "1.2.0",
            "_view_name": "StyleView",
            "description_width": ""
          }
        },
        "b741962fc15f4da896ba78fc9d0a7fa7": {
          "model_module": "@jupyter-widgets/base",
          "model_name": "LayoutModel",
          "model_module_version": "1.2.0",
          "state": {
            "_model_module": "@jupyter-widgets/base",
            "_model_module_version": "1.2.0",
            "_model_name": "LayoutModel",
            "_view_count": null,
            "_view_module": "@jupyter-widgets/base",
            "_view_module_version": "1.2.0",
            "_view_name": "LayoutView",
            "align_content": null,
            "align_items": null,
            "align_self": null,
            "border": null,
            "bottom": null,
            "display": null,
            "flex": null,
            "flex_flow": null,
            "grid_area": null,
            "grid_auto_columns": null,
            "grid_auto_flow": null,
            "grid_auto_rows": null,
            "grid_column": null,
            "grid_gap": null,
            "grid_row": null,
            "grid_template_areas": null,
            "grid_template_columns": null,
            "grid_template_rows": null,
            "height": null,
            "justify_content": null,
            "justify_items": null,
            "left": null,
            "margin": null,
            "max_height": null,
            "max_width": null,
            "min_height": null,
            "min_width": null,
            "object_fit": null,
            "object_position": null,
            "order": null,
            "overflow": null,
            "overflow_x": null,
            "overflow_y": null,
            "padding": null,
            "right": null,
            "top": null,
            "visibility": null,
            "width": null
          }
        },
        "6b49b9b7ef2648df9dca18a089368aaf": {
          "model_module": "@jupyter-widgets/controls",
          "model_name": "ProgressStyleModel",
          "model_module_version": "1.5.0",
          "state": {
            "_model_module": "@jupyter-widgets/controls",
            "_model_module_version": "1.5.0",
            "_model_name": "ProgressStyleModel",
            "_view_count": null,
            "_view_module": "@jupyter-widgets/base",
            "_view_module_version": "1.2.0",
            "_view_name": "StyleView",
            "bar_color": null,
            "description_width": ""
          }
        },
        "8e6cf5edc4924f4d9120b51476e8be02": {
          "model_module": "@jupyter-widgets/base",
          "model_name": "LayoutModel",
          "model_module_version": "1.2.0",
          "state": {
            "_model_module": "@jupyter-widgets/base",
            "_model_module_version": "1.2.0",
            "_model_name": "LayoutModel",
            "_view_count": null,
            "_view_module": "@jupyter-widgets/base",
            "_view_module_version": "1.2.0",
            "_view_name": "LayoutView",
            "align_content": null,
            "align_items": null,
            "align_self": null,
            "border": null,
            "bottom": null,
            "display": null,
            "flex": null,
            "flex_flow": null,
            "grid_area": null,
            "grid_auto_columns": null,
            "grid_auto_flow": null,
            "grid_auto_rows": null,
            "grid_column": null,
            "grid_gap": null,
            "grid_row": null,
            "grid_template_areas": null,
            "grid_template_columns": null,
            "grid_template_rows": null,
            "height": null,
            "justify_content": null,
            "justify_items": null,
            "left": null,
            "margin": null,
            "max_height": null,
            "max_width": null,
            "min_height": null,
            "min_width": null,
            "object_fit": null,
            "object_position": null,
            "order": null,
            "overflow": null,
            "overflow_x": null,
            "overflow_y": null,
            "padding": null,
            "right": null,
            "top": null,
            "visibility": null,
            "width": null
          }
        },
        "f50b81f4e93e4a4eb7fb41f342e881ba": {
          "model_module": "@jupyter-widgets/controls",
          "model_name": "DescriptionStyleModel",
          "model_module_version": "1.5.0",
          "state": {
            "_model_module": "@jupyter-widgets/controls",
            "_model_module_version": "1.5.0",
            "_model_name": "DescriptionStyleModel",
            "_view_count": null,
            "_view_module": "@jupyter-widgets/base",
            "_view_module_version": "1.2.0",
            "_view_name": "StyleView",
            "description_width": ""
          }
        },
        "458004f4ea324dd0bab5ae21202be00b": {
          "model_module": "@jupyter-widgets/controls",
          "model_name": "HBoxModel",
          "model_module_version": "1.5.0",
          "state": {
            "_dom_classes": [],
            "_model_module": "@jupyter-widgets/controls",
            "_model_module_version": "1.5.0",
            "_model_name": "HBoxModel",
            "_view_count": null,
            "_view_module": "@jupyter-widgets/controls",
            "_view_module_version": "1.5.0",
            "_view_name": "HBoxView",
            "box_style": "",
            "children": [
              "IPY_MODEL_7b9468bfa564443abb784b8e189164a5",
              "IPY_MODEL_d5e4751b161c4f0ab86e5110477d1b93",
              "IPY_MODEL_8f05c6a980d241bb85e8cad7fc22d404"
            ],
            "layout": "IPY_MODEL_ffa477efae1e4ba5a198efcc363ed465"
          }
        },
        "7b9468bfa564443abb784b8e189164a5": {
          "model_module": "@jupyter-widgets/controls",
          "model_name": "HTMLModel",
          "model_module_version": "1.5.0",
          "state": {
            "_dom_classes": [],
            "_model_module": "@jupyter-widgets/controls",
            "_model_module_version": "1.5.0",
            "_model_name": "HTMLModel",
            "_view_count": null,
            "_view_module": "@jupyter-widgets/controls",
            "_view_module_version": "1.5.0",
            "_view_name": "HTMLView",
            "description": "",
            "description_tooltip": null,
            "layout": "IPY_MODEL_9c3cb663ae9f4441a0af7749e3673424",
            "placeholder": "​",
            "style": "IPY_MODEL_4e1c122716274274be5f4381bf1eff31",
            "value": "Downloading builder script: 100%"
          }
        },
        "d5e4751b161c4f0ab86e5110477d1b93": {
          "model_module": "@jupyter-widgets/controls",
          "model_name": "FloatProgressModel",
          "model_module_version": "1.5.0",
          "state": {
            "_dom_classes": [],
            "_model_module": "@jupyter-widgets/controls",
            "_model_module_version": "1.5.0",
            "_model_name": "FloatProgressModel",
            "_view_count": null,
            "_view_module": "@jupyter-widgets/controls",
            "_view_module_version": "1.5.0",
            "_view_name": "ProgressView",
            "bar_style": "success",
            "description": "",
            "description_tooltip": null,
            "layout": "IPY_MODEL_dc7aa3affc1643528ef1e4e85878c99f",
            "max": 12929,
            "min": 0,
            "orientation": "horizontal",
            "style": "IPY_MODEL_7bca547c41494475b975a028ab5fb758",
            "value": 12929
          }
        },
        "8f05c6a980d241bb85e8cad7fc22d404": {
          "model_module": "@jupyter-widgets/controls",
          "model_name": "HTMLModel",
          "model_module_version": "1.5.0",
          "state": {
            "_dom_classes": [],
            "_model_module": "@jupyter-widgets/controls",
            "_model_module_version": "1.5.0",
            "_model_name": "HTMLModel",
            "_view_count": null,
            "_view_module": "@jupyter-widgets/controls",
            "_view_module_version": "1.5.0",
            "_view_name": "HTMLView",
            "description": "",
            "description_tooltip": null,
            "layout": "IPY_MODEL_d91f01bde3f641d0b92114f8c6e0d6d9",
            "placeholder": "​",
            "style": "IPY_MODEL_3643c260f80347d89deeb6b1fbf5fa0f",
            "value": " 12.9k/12.9k [00:00&lt;00:00, 491kB/s]"
          }
        },
        "ffa477efae1e4ba5a198efcc363ed465": {
          "model_module": "@jupyter-widgets/base",
          "model_name": "LayoutModel",
          "model_module_version": "1.2.0",
          "state": {
            "_model_module": "@jupyter-widgets/base",
            "_model_module_version": "1.2.0",
            "_model_name": "LayoutModel",
            "_view_count": null,
            "_view_module": "@jupyter-widgets/base",
            "_view_module_version": "1.2.0",
            "_view_name": "LayoutView",
            "align_content": null,
            "align_items": null,
            "align_self": null,
            "border": null,
            "bottom": null,
            "display": null,
            "flex": null,
            "flex_flow": null,
            "grid_area": null,
            "grid_auto_columns": null,
            "grid_auto_flow": null,
            "grid_auto_rows": null,
            "grid_column": null,
            "grid_gap": null,
            "grid_row": null,
            "grid_template_areas": null,
            "grid_template_columns": null,
            "grid_template_rows": null,
            "height": null,
            "justify_content": null,
            "justify_items": null,
            "left": null,
            "margin": null,
            "max_height": null,
            "max_width": null,
            "min_height": null,
            "min_width": null,
            "object_fit": null,
            "object_position": null,
            "order": null,
            "overflow": null,
            "overflow_x": null,
            "overflow_y": null,
            "padding": null,
            "right": null,
            "top": null,
            "visibility": null,
            "width": null
          }
        },
        "9c3cb663ae9f4441a0af7749e3673424": {
          "model_module": "@jupyter-widgets/base",
          "model_name": "LayoutModel",
          "model_module_version": "1.2.0",
          "state": {
            "_model_module": "@jupyter-widgets/base",
            "_model_module_version": "1.2.0",
            "_model_name": "LayoutModel",
            "_view_count": null,
            "_view_module": "@jupyter-widgets/base",
            "_view_module_version": "1.2.0",
            "_view_name": "LayoutView",
            "align_content": null,
            "align_items": null,
            "align_self": null,
            "border": null,
            "bottom": null,
            "display": null,
            "flex": null,
            "flex_flow": null,
            "grid_area": null,
            "grid_auto_columns": null,
            "grid_auto_flow": null,
            "grid_auto_rows": null,
            "grid_column": null,
            "grid_gap": null,
            "grid_row": null,
            "grid_template_areas": null,
            "grid_template_columns": null,
            "grid_template_rows": null,
            "height": null,
            "justify_content": null,
            "justify_items": null,
            "left": null,
            "margin": null,
            "max_height": null,
            "max_width": null,
            "min_height": null,
            "min_width": null,
            "object_fit": null,
            "object_position": null,
            "order": null,
            "overflow": null,
            "overflow_x": null,
            "overflow_y": null,
            "padding": null,
            "right": null,
            "top": null,
            "visibility": null,
            "width": null
          }
        },
        "4e1c122716274274be5f4381bf1eff31": {
          "model_module": "@jupyter-widgets/controls",
          "model_name": "DescriptionStyleModel",
          "model_module_version": "1.5.0",
          "state": {
            "_model_module": "@jupyter-widgets/controls",
            "_model_module_version": "1.5.0",
            "_model_name": "DescriptionStyleModel",
            "_view_count": null,
            "_view_module": "@jupyter-widgets/base",
            "_view_module_version": "1.2.0",
            "_view_name": "StyleView",
            "description_width": ""
          }
        },
        "dc7aa3affc1643528ef1e4e85878c99f": {
          "model_module": "@jupyter-widgets/base",
          "model_name": "LayoutModel",
          "model_module_version": "1.2.0",
          "state": {
            "_model_module": "@jupyter-widgets/base",
            "_model_module_version": "1.2.0",
            "_model_name": "LayoutModel",
            "_view_count": null,
            "_view_module": "@jupyter-widgets/base",
            "_view_module_version": "1.2.0",
            "_view_name": "LayoutView",
            "align_content": null,
            "align_items": null,
            "align_self": null,
            "border": null,
            "bottom": null,
            "display": null,
            "flex": null,
            "flex_flow": null,
            "grid_area": null,
            "grid_auto_columns": null,
            "grid_auto_flow": null,
            "grid_auto_rows": null,
            "grid_column": null,
            "grid_gap": null,
            "grid_row": null,
            "grid_template_areas": null,
            "grid_template_columns": null,
            "grid_template_rows": null,
            "height": null,
            "justify_content": null,
            "justify_items": null,
            "left": null,
            "margin": null,
            "max_height": null,
            "max_width": null,
            "min_height": null,
            "min_width": null,
            "object_fit": null,
            "object_position": null,
            "order": null,
            "overflow": null,
            "overflow_x": null,
            "overflow_y": null,
            "padding": null,
            "right": null,
            "top": null,
            "visibility": null,
            "width": null
          }
        },
        "7bca547c41494475b975a028ab5fb758": {
          "model_module": "@jupyter-widgets/controls",
          "model_name": "ProgressStyleModel",
          "model_module_version": "1.5.0",
          "state": {
            "_model_module": "@jupyter-widgets/controls",
            "_model_module_version": "1.5.0",
            "_model_name": "ProgressStyleModel",
            "_view_count": null,
            "_view_module": "@jupyter-widgets/base",
            "_view_module_version": "1.2.0",
            "_view_name": "StyleView",
            "bar_color": null,
            "description_width": ""
          }
        },
        "d91f01bde3f641d0b92114f8c6e0d6d9": {
          "model_module": "@jupyter-widgets/base",
          "model_name": "LayoutModel",
          "model_module_version": "1.2.0",
          "state": {
            "_model_module": "@jupyter-widgets/base",
            "_model_module_version": "1.2.0",
            "_model_name": "LayoutModel",
            "_view_count": null,
            "_view_module": "@jupyter-widgets/base",
            "_view_module_version": "1.2.0",
            "_view_name": "LayoutView",
            "align_content": null,
            "align_items": null,
            "align_self": null,
            "border": null,
            "bottom": null,
            "display": null,
            "flex": null,
            "flex_flow": null,
            "grid_area": null,
            "grid_auto_columns": null,
            "grid_auto_flow": null,
            "grid_auto_rows": null,
            "grid_column": null,
            "grid_gap": null,
            "grid_row": null,
            "grid_template_areas": null,
            "grid_template_columns": null,
            "grid_template_rows": null,
            "height": null,
            "justify_content": null,
            "justify_items": null,
            "left": null,
            "margin": null,
            "max_height": null,
            "max_width": null,
            "min_height": null,
            "min_width": null,
            "object_fit": null,
            "object_position": null,
            "order": null,
            "overflow": null,
            "overflow_x": null,
            "overflow_y": null,
            "padding": null,
            "right": null,
            "top": null,
            "visibility": null,
            "width": null
          }
        },
        "3643c260f80347d89deeb6b1fbf5fa0f": {
          "model_module": "@jupyter-widgets/controls",
          "model_name": "DescriptionStyleModel",
          "model_module_version": "1.5.0",
          "state": {
            "_model_module": "@jupyter-widgets/controls",
            "_model_module_version": "1.5.0",
            "_model_name": "DescriptionStyleModel",
            "_view_count": null,
            "_view_module": "@jupyter-widgets/base",
            "_view_module_version": "1.2.0",
            "_view_name": "StyleView",
            "description_width": ""
          }
        }
      }
    }
  },
  "cells": [
    {
      "cell_type": "markdown",
      "metadata": {
        "id": "view-in-github",
        "colab_type": "text"
      },
      "source": [
        "<a href=\"https://colab.research.google.com/github/elliemci/vision-transformer-models/blob/main/image_segmentation/maskformer_seg_training.ipynb\" target=\"_parent\"><img src=\"https://colab.research.google.com/assets/colab-badge.svg\" alt=\"Open In Colab\"/></a>"
      ]
    },
    {
      "cell_type": "markdown",
      "source": [
        "# Train and evaluate MaskFormer image segmentation model"
      ],
      "metadata": {
        "id": "Hsnrgi8mcW8t"
      }
    },
    {
      "cell_type": "code",
      "execution_count": null,
      "metadata": {
        "id": "QCLcEclYadfz"
      },
      "outputs": [],
      "source": [
        "!pip install jedi"
      ]
    },
    {
      "cell_type": "code",
      "source": [
        "!apt-get install libcairo2-dev pkg-config python3-dev"
      ],
      "metadata": {
        "id": "0bwYS_Kya1Za"
      },
      "execution_count": null,
      "outputs": []
    },
    {
      "cell_type": "code",
      "source": [
        "!pip install pycairo"
      ],
      "metadata": {
        "id": "TQkPHF5da6_N"
      },
      "execution_count": null,
      "outputs": []
    },
    {
      "cell_type": "code",
      "source": [
        "!pip install --upgrade fsspec==2024.10.0"
      ],
      "metadata": {
        "colab": {
          "base_uri": "https://localhost:8080/"
        },
        "id": "VOWT4FhWa8G1",
        "outputId": "c605a677-2d1e-44de-b9b8-d118b02629f6"
      },
      "execution_count": 4,
      "outputs": [
        {
          "output_type": "stream",
          "name": "stdout",
          "text": [
            "Requirement already satisfied: fsspec==2024.10.0 in /usr/local/lib/python3.11/dist-packages (2024.10.0)\n"
          ]
        }
      ]
    },
    {
      "cell_type": "code",
      "source": [
        "!pip install datasets transformers"
      ],
      "metadata": {
        "id": "JbiP5O5Za_kd"
      },
      "execution_count": null,
      "outputs": []
    },
    {
      "cell_type": "code",
      "source": [
        "!pip install -q albumentations"
      ],
      "metadata": {
        "id": "tgWgGwzPkjZG"
      },
      "execution_count": 6,
      "outputs": []
    },
    {
      "cell_type": "code",
      "source": [
        "!pip install -q evaluate"
      ],
      "metadata": {
        "colab": {
          "base_uri": "https://localhost:8080/"
        },
        "id": "NeygKkd-i7fk",
        "outputId": "ba1d5ebe-de8a-4687-f8b0-05401d43f571"
      },
      "execution_count": 8,
      "outputs": [
        {
          "output_type": "stream",
          "name": "stdout",
          "text": [
            "\u001b[?25l   \u001b[90m━━━━━━━━━━━━━━━━━━━━━━━━━━━━━━━━━━━━━━━━\u001b[0m \u001b[32m0.0/84.0 kB\u001b[0m \u001b[31m?\u001b[0m eta \u001b[36m-:--:--\u001b[0m\r\u001b[2K   \u001b[90m━━━━━━━━━━━━━━━━━━━━━━━━━━━━━━━━━━━━━━━━\u001b[0m \u001b[32m84.0/84.0 kB\u001b[0m \u001b[31m2.5 MB/s\u001b[0m eta \u001b[36m0:00:00\u001b[0m\n",
            "\u001b[?25h"
          ]
        }
      ]
    },
    {
      "cell_type": "code",
      "source": [
        "from google.colab import drive\n",
        "drive.mount('/content/drive')"
      ],
      "metadata": {
        "colab": {
          "base_uri": "https://localhost:8080/"
        },
        "id": "1M3NT__MbCYJ",
        "outputId": "88e777e3-bde1-4f5d-9c72-dd5fa0ad1777"
      },
      "execution_count": 9,
      "outputs": [
        {
          "output_type": "stream",
          "name": "stdout",
          "text": [
            "Mounted at /content/drive\n"
          ]
        }
      ]
    },
    {
      "cell_type": "code",
      "source": [
        "%cd /content/drive/MyDrive/ColabNotebooks/ExplainableAI/image_segmentation"
      ],
      "metadata": {
        "colab": {
          "base_uri": "https://localhost:8080/"
        },
        "id": "ItQX9YuzbFMW",
        "outputId": "4cc03558-25e1-4cfc-b079-bcdf115849e1"
      },
      "execution_count": 10,
      "outputs": [
        {
          "output_type": "stream",
          "name": "stdout",
          "text": [
            "/content/drive/MyDrive/ColabNotebooks/ExplainableAI/image_segmentation\n"
          ]
        }
      ]
    },
    {
      "cell_type": "code",
      "source": [
        "import os\n",
        "import glob  # file path matching using patterns\n",
        "import cv2   # OpenCV library for computer vision tasks\n",
        "import numpy as np\n",
        "import pandas as pd\n",
        "\n",
        "from PIL import Image  # python imaging library for image processing\n",
        "from matplotlib import pyplot as plt"
      ],
      "metadata": {
        "id": "Cmc8Gx7yk_yC"
      },
      "execution_count": 11,
      "outputs": []
    },
    {
      "cell_type": "markdown",
      "source": [
        "## 1. Load MRI Segmentation Dataset from Hugging Face"
      ],
      "metadata": {
        "id": "iISdHp7dbc0F"
      }
    },
    {
      "cell_type": "code",
      "source": [
        "from datasets import load_dataset\n",
        "from huggingface_hub import login\n",
        "\n",
        "login(token=input(\"Enter Hugging Face token: \"))"
      ],
      "metadata": {
        "id": "JXmwSMFObxc8"
      },
      "execution_count": null,
      "outputs": []
    },
    {
      "cell_type": "code",
      "source": [
        "dataset = load_dataset(\"akar49/MRI_Segmentation-1\")   # load_dataset(\"username/datasetname\", split=\"train\")\n",
        "dataset"
      ],
      "metadata": {
        "colab": {
          "base_uri": "https://localhost:8080/",
          "height": 531,
          "referenced_widgets": [
            "8a7cfabe01154445935794cbfa71816a",
            "b8ead6e052374d8ebb171125a6a3896d",
            "4d2e127c11194db8bbe42225b544d29b",
            "3fcd2246e4594ae7adb0256f5151caa9",
            "60e5d80989b4408fae96d9b18f7f320c",
            "678162b4454648c49680bf11209a56cb",
            "a428202b8391446588d5de2081b380d6",
            "6f4d312c1e024f2791b47fd6eb8a8436",
            "e67067b0de1d4baa9b3d96420763ec90",
            "84bda7d1ca304b6dab0094ebd8485352",
            "a7a172273cd942d89dcb7b0d1160915c",
            "200f1bdf236c4872b52b5353429e2bfd",
            "0d7e0f0e823144e28da6db0bdadc11c9",
            "4a0f5671020944dfbc2d0c57ef6a3aab",
            "3d840ab6a304442699978b1daf123377",
            "795089d5d5c647959b3f1051170a9dc4",
            "41633d9410ba45578611a51358b1a1c7",
            "4fd2462c0f3e48d287672ea45826cbb3",
            "ff915f85b41241b09ed979ccc9bf7adb",
            "247256c5b85e46068629a5284cfd1ed6",
            "8222e441b7cc47fdadda7c3833be7b51",
            "edaadb5078bd4762a34e80b3f4536481",
            "d1d95acaf6ec488fb8b37b96b60499fc",
            "5602fa0cb2164599ab7fbebc10c3fc6c",
            "607895e2ebec49c8baf5bacdaf373c5e",
            "f32c165f48324df6a84badc939ae0f68",
            "227b6714b9c140f3b8d2bf2782d13dc9",
            "9317cd1bea534ce68ed155707c58891a",
            "e8d23f0ef44f40e79ad8f05953f957f0",
            "fab287a3af3d4abca717beea3872f591",
            "c45e47825dbe4944bd9ffaa152ee57ab",
            "6bd9510a80784d8283a23fbc18042e1a",
            "54969089b9c24bd68841b3a887ac2283",
            "0f0a3c6aee084adc9f8acf766fd5c8bc",
            "53ffa4230ece452bacf868d31b2d58d1",
            "34c6c380ca864a89895683de7939f1f7",
            "f05330c0b33f4f948b5d733414d33130",
            "7fbd123c9ba7498dac6e0ab1a92b5eb3",
            "cee75419c2cd43b49d3f78cb69073dda",
            "e424bce16a604e3282341bdccbd8be1a",
            "bd579c17c4f448fdb2f9de3926811589",
            "ff08bd33a65146a3a54c53503f9f172f",
            "c49af19ceeb44cd794879ecb3b19f58b",
            "1d3c8464e7914c48b81451cf8aa849db",
            "8851340c37a24f79ac99ab4c69dcffd9",
            "1d9954beab5f45238d9862d81e7aed8b",
            "eda6eda8ed664db6afe7a734bfb16ca7",
            "bec5f2f1dee74c91b6e2bd982259f4a9",
            "78f75c0ff1c243d1beadf3a26ee8edc3",
            "37678a90a02d45de9e778ef4a4d6fe59",
            "368cb6e790b0422a9f8bc3fe721b0dfd",
            "b741962fc15f4da896ba78fc9d0a7fa7",
            "6b49b9b7ef2648df9dca18a089368aaf",
            "8e6cf5edc4924f4d9120b51476e8be02",
            "f50b81f4e93e4a4eb7fb41f342e881ba"
          ]
        },
        "id": "6t_zJJt1l99N",
        "outputId": "2541af0b-537b-4d2c-cdfd-8a0be59d3c88"
      },
      "execution_count": 13,
      "outputs": [
        {
          "output_type": "stream",
          "name": "stderr",
          "text": [
            "/usr/local/lib/python3.11/dist-packages/huggingface_hub/utils/_auth.py:94: UserWarning: \n",
            "The secret `HF_TOKEN` does not exist in your Colab secrets.\n",
            "To authenticate with the Hugging Face Hub, create a token in your settings tab (https://huggingface.co/settings/tokens), set it as secret in your Google Colab and restart your session.\n",
            "You will be able to reuse this secret in all of your notebooks.\n",
            "Please note that authentication is recommended but still optional to access public models or datasets.\n",
            "  warnings.warn(\n"
          ]
        },
        {
          "output_type": "display_data",
          "data": {
            "text/plain": [
              "README.md:   0%|          | 0.00/597 [00:00<?, ?B/s]"
            ],
            "application/vnd.jupyter.widget-view+json": {
              "version_major": 2,
              "version_minor": 0,
              "model_id": "8a7cfabe01154445935794cbfa71816a"
            }
          },
          "metadata": {}
        },
        {
          "output_type": "display_data",
          "data": {
            "text/plain": [
              "(…)-00000-of-00001-f217d7b7e614d60a.parquet:   0%|          | 0.00/43.2M [00:00<?, ?B/s]"
            ],
            "application/vnd.jupyter.widget-view+json": {
              "version_major": 2,
              "version_minor": 0,
              "model_id": "200f1bdf236c4872b52b5353429e2bfd"
            }
          },
          "metadata": {}
        },
        {
          "output_type": "display_data",
          "data": {
            "text/plain": [
              "(…)-00000-of-00001-e13f34d2abe15bae.parquet:   0%|          | 0.00/20.0M [00:00<?, ?B/s]"
            ],
            "application/vnd.jupyter.widget-view+json": {
              "version_major": 2,
              "version_minor": 0,
              "model_id": "d1d95acaf6ec488fb8b37b96b60499fc"
            }
          },
          "metadata": {}
        },
        {
          "output_type": "display_data",
          "data": {
            "text/plain": [
              "Generating train split:   0%|          | 0/500 [00:00<?, ? examples/s]"
            ],
            "application/vnd.jupyter.widget-view+json": {
              "version_major": 2,
              "version_minor": 0,
              "model_id": "0f0a3c6aee084adc9f8acf766fd5c8bc"
            }
          },
          "metadata": {}
        },
        {
          "output_type": "display_data",
          "data": {
            "text/plain": [
              "Generating validation split:   0%|          | 0/200 [00:00<?, ? examples/s]"
            ],
            "application/vnd.jupyter.widget-view+json": {
              "version_major": 2,
              "version_minor": 0,
              "model_id": "8851340c37a24f79ac99ab4c69dcffd9"
            }
          },
          "metadata": {}
        },
        {
          "output_type": "execute_result",
          "data": {
            "text/plain": [
              "DatasetDict({\n",
              "    train: Dataset({\n",
              "        features: ['image', 'label'],\n",
              "        num_rows: 500\n",
              "    })\n",
              "    validation: Dataset({\n",
              "        features: ['image', 'label'],\n",
              "        num_rows: 200\n",
              "    })\n",
              "})"
            ]
          },
          "metadata": {},
          "execution_count": 13
        }
      ]
    },
    {
      "cell_type": "code",
      "source": [
        "train = dataset[\"train\"]\n",
        "test = dataset[\"validation\"]"
      ],
      "metadata": {
        "id": "k4fUBGLsmVd7"
      },
      "execution_count": 14,
      "outputs": []
    },
    {
      "cell_type": "markdown",
      "source": [
        "### Create a dictionary containg images and masks"
      ],
      "metadata": {
        "id": "IRD66ZKGbmV_"
      }
    },
    {
      "cell_type": "code",
      "source": [
        "import numpy as np\n",
        "from torch.utils.data import Dataset\n",
        "from torchvision.transforms import ToTensor"
      ],
      "metadata": {
        "id": "uzlxOGBSn8yM"
      },
      "execution_count": 15,
      "outputs": []
    },
    {
      "cell_type": "code",
      "source": [
        "class CustomDataset(Dataset):\n",
        "    def __init__(self, dataset, transform=None):\n",
        "        \"\"\" Constructor for the image segmentation dataset, a lit of image and mask pairs. \"\"\"\n",
        "        self.dataset = dataset\n",
        "        self.transform = transform\n",
        "        #self.resize = A.Compose([A.Resize(width=224, height=224)])\n",
        "\n",
        "\n",
        "    def __len__(self):\n",
        "      \"\"\" Gets length of dataset. \"\"\"\n",
        "      return len(self.dataset)\n",
        "\n",
        "    def __getitem__(self, idx):\n",
        "      \"\"\" For a given dataset index extract image and mask, convert image to RGB,\n",
        "          since model is trained on RGB images, normalize pixel values to [0, 1],\n",
        "          and apply transformation. \"\"\"\n",
        "\n",
        "      # extract image and mask from dataset\n",
        "      image = self.dataset[idx]['image']\n",
        "      mask  = self.dataset[idx]['label']\n",
        "\n",
        "      # convert grayscale image to RGB\n",
        "      org_image = np.stack((image,) * 3, axis=-1)\n",
        "      # convert mask to NumPy array in order to normalize\n",
        "      mask = np.array(mask)\n",
        "\n",
        "      # pass image and mask to the transform function\n",
        "      transformed = self.transform(image=org_image, mask=mask)\n",
        "      trans_image = transformed['image']\n",
        "      trans_mask = transformed['mask']\n",
        "\n",
        "      # normalize pixel values to [0, 1]\n",
        "      org_image = org_image/255.0\n",
        "      org_mask  = mask/255.0\n",
        "\n",
        "      # apply transformations if provided\n",
        "      transformed = self.transform(image=org_image, mask=org_mask)\n",
        "      # access transformed image and mask\n",
        "      trans_image = transformed['image']\n",
        "      trans_mask = transformed['mask']\n",
        "\n",
        "      # transpose image dimentions changing their order from (H, W, C) to (C, H, W)\n",
        "      # in order to be compatable with Pythorch\n",
        "      trans_image = trans_image.transpose(2, 0, 1)\n",
        "\n",
        "\n",
        "      return trans_image, trans_mask, org_image, org_mask\n"
      ],
      "metadata": {
        "id": "_uQ2WxotOECW"
      },
      "execution_count": 16,
      "outputs": []
    },
    {
      "cell_type": "markdown",
      "source": [
        "### Image and masks resize transformation"
      ],
      "metadata": {
        "id": "KTcPXrlWdBq1"
      }
    },
    {
      "cell_type": "code",
      "source": [
        "import albumentations as A # albumentations library used in computer vision, specifically for image augmentation\n",
        "\n",
        "# create a transform object (optional)\n",
        "transform = A.Compose([A.Resize(width=224, height=224)])\n",
        "\n",
        "# create an instance of image segmentation custom dataset with transformations:\n",
        "custom_dataset = CustomDataset(train, transform=transform)\n",
        "\n",
        "\n",
        "# access first item in dataset\n",
        "trans_image, trans_mask, org_image, org_mask = custom_dataset[0]\n",
        "\n",
        "# verify transformation and normalization\n",
        "print(f\"original image: {org_image.shape}\")\n",
        "print(f\"original image pixel values: min={org_image.min()}, max={org_image.max()}\")\n",
        "print(f\"transformed image: {trans_image.shape}\")\n",
        "print(f\"transformed image pixel values: min={trans_image.min()}, max={trans_image.max()}\")\n",
        "\n",
        "# plot original and transform images with coresponding masks\n",
        "plt.figure(figsize=(10, 5))\n",
        "plt.subplot(1, 2, 1)\n",
        "plt.axis(\"off\")\n",
        "plt.imshow(org_image)\n",
        "plt.title(\"Original Image\")\n",
        "\n",
        "plt.subplot(1, 2, 2)\n",
        "plt.imshow(org_mask, cmap='gray')\n",
        "plt.axis(\"off\")\n",
        "plt.title(\"Original Mask\")\n",
        "plt.show()"
      ],
      "metadata": {
        "colab": {
          "base_uri": "https://localhost:8080/",
          "height": 535
        },
        "id": "OIEBRrWFRXpW",
        "outputId": "7f76d547-2e31-41bd-b934-36200288f0b2"
      },
      "execution_count": 17,
      "outputs": [
        {
          "output_type": "stream",
          "name": "stderr",
          "text": [
            "/usr/local/lib/python3.11/dist-packages/albumentations/__init__.py:24: UserWarning: A new version of Albumentations is available: 2.0.0 (you have 1.4.20). Upgrade using: pip install -U albumentations. To disable automatic update checks, set the environment variable NO_ALBUMENTATIONS_UPDATE to 1.\n",
            "  check_for_updates()\n"
          ]
        },
        {
          "output_type": "stream",
          "name": "stdout",
          "text": [
            "original image: (512, 512, 3)\n",
            "original image pixel values: min=0.0, max=1.0\n",
            "transformed image: (3, 224, 224)\n",
            "transformed image pixel values: min=0.0, max=0.976350540216086\n"
          ]
        },
        {
          "output_type": "display_data",
          "data": {
            "text/plain": [
              "<Figure size 1000x500 with 2 Axes>"
            ],
            "image/png": "[encoded data removed]"
          },
          "metadata": {}
        }
      ]
    },
    {
      "cell_type": "markdown",
      "source": [
        "### Transform training and test datasets"
      ],
      "metadata": {
        "id": "atExgzf9dLjp"
      }
    },
    {
      "cell_type": "code",
      "source": [
        "import torch\n",
        "import torchvision.transforms as T\n",
        "\n",
        "# define the training and test data transformation using Albumentations\n",
        "transform = A.Compose([A.Resize(width=224, height=224)])\n",
        "\n",
        "train_dataset = CustomDataset(train, transform=transform)\n",
        "test_dataset = CustomDataset(test, transform=transform)"
      ],
      "metadata": {
        "id": "oyYFqSnmRwtg"
      },
      "execution_count": 18,
      "outputs": []
    },
    {
      "cell_type": "code",
      "source": [
        "# test the successful creation of train and test_dataset\n",
        "print(len(train_dataset))\n",
        "print(len(test_dataset))"
      ],
      "metadata": {
        "colab": {
          "base_uri": "https://localhost:8080/"
        },
        "id": "w0R_M16DSqTJ",
        "outputId": "c0c5c4ed-16c1-4a9d-bde7-f5be6e0ec381"
      },
      "execution_count": 19,
      "outputs": [
        {
          "output_type": "stream",
          "name": "stdout",
          "text": [
            "500\n",
            "200\n"
          ]
        }
      ]
    },
    {
      "cell_type": "markdown",
      "source": [
        "### Id to label mapping"
      ],
      "metadata": {
        "id": "Sry4rbxzcEIS"
      }
    },
    {
      "cell_type": "code",
      "source": [
        "id2label = {0:  'bg',\n",
        "            1:  'tumor'}\n",
        "label2id = { label: id for id, label in id2label.items() }\n",
        "n_classes = len(id2label)\n",
        "n_classes"
      ],
      "metadata": {
        "colab": {
          "base_uri": "https://localhost:8080/"
        },
        "id": "EE6vZ2l_ZAdJ",
        "outputId": "f55b2a7a-929a-4487-db02-5bdc28e4f6b5"
      },
      "execution_count": 20,
      "outputs": [
        {
          "output_type": "execute_result",
          "data": {
            "text/plain": [
              "2"
            ]
          },
          "metadata": {},
          "execution_count": 20
        }
      ]
    },
    {
      "cell_type": "markdown",
      "source": [
        "## 2. PyTorch DataLoders"
      ],
      "metadata": {
        "id": "agCD1zA1c0a6"
      }
    },
    {
      "cell_type": "code",
      "source": [
        "from transformers import MaskFormerImageProcessor\n",
        "\n",
        "# create a generic instance of the MaskFormerImageProcessor with specified preprocessing settings\n",
        "#image_processor = MaskFormerImageProcessor(\n",
        "    #ignore_index=255,       # ignore pixels with this index during processing\n",
        "    #reduce_labels=False,    # the processor won't reduce the label indices to a smaller range as in multiclass segmentation\n",
        "    #do_resize=False,        # already done with Albumentations\n",
        "    #do_rescale=False,\n",
        "    #do_normalize=False)\n",
        "\n",
        "# load a pretrained MaskFormerImageProcessor from HuggingFace Hub, which comes with default preprocessing settings used for training\n",
        "image_processor = MaskFormerImageProcessor.from_pretrained(\"facebook/maskformer-swin-base-ade\")\n",
        "\n",
        "image_processor.ignore_index = 255\n",
        "image_processor.reduce_labels = False\n",
        "image_processor.do_resize = False\n",
        "image_processor.do_rescale = False\n",
        "image_processor.do_normalize = False"
      ],
      "metadata": {
        "id": "YufsjwulcHKZ"
      },
      "execution_count": 46,
      "outputs": []
    },
    {
      "cell_type": "code",
      "source": [
        "from torch.utils.data import DataLoader\n",
        "\n",
        "def collate_func(batch):\n",
        "  \"\"\" Collate function for DataLoader, process a single batch of data, which is a list of samples,\n",
        "  where each sample contains a transformed image segmentation mask, the original image and\n",
        "  the original segmentationmask. The batch is unpacked into separate list of images and\n",
        "  segmentation maps, the processor is applied and returns a dictionary woth the processed\n",
        "  data as tensors. The original images and segmentation masks are addedd to the processed\n",
        "  batch dictionary\"\"\"\n",
        "\n",
        "  pixel_values = [item[0] for item in batch]\n",
        "  labels = [item[1] for item in batch]\n",
        "  org_images = [item[2] for item in batch]\n",
        "  org_masks = [item[3] for item in batch]\n",
        "\n",
        "  # apply image processor\n",
        "  inputs = image_processor(images=pixel_values, segmentation_maps=labels, return_tensors=\"pt\")\n",
        "\n",
        "  # add original images and masks to the processed batch\n",
        "  inputs['org_images'] = torch.tensor(np.array(org_images))\n",
        "  inputs['org_masks'] = torch.tensor(np.array(org_masks))\n",
        "\n",
        "  return inputs"
      ],
      "metadata": {
        "id": "7mVf7hlkaZkj"
      },
      "execution_count": 47,
      "outputs": []
    },
    {
      "cell_type": "code",
      "source": [
        "# create data loaders for training and testing datasets\n",
        "train_dataloader = DataLoader(train_dataset, batch_size=2, collate_fn=collate_func, shuffle=True, num_workers=2)\n",
        "test_dataloader = DataLoader(test_dataset, batch_size=2, collate_fn=collate_func, shuffle=False, num_workers=2)\n",
        "\n",
        "print(f\"Train dataloader number of samples: {len(train_dataloader.dataset)}\")\n",
        "print(f\"Test dataloader number of samples: {len(test_dataloader.dataset)}\")"
      ],
      "metadata": {
        "colab": {
          "base_uri": "https://localhost:8080/"
        },
        "id": "okbW5_mAg5SB",
        "outputId": "de6c4cc5-b242-454b-e1a0-dd0385be743d"
      },
      "execution_count": 48,
      "outputs": [
        {
          "output_type": "stream",
          "name": "stdout",
          "text": [
            "Train dataloader number of samples: 500\n",
            "Test dataloader number of samples: 200\n"
          ]
        }
      ]
    },
    {
      "cell_type": "markdown",
      "source": [
        "### Test loading data"
      ],
      "metadata": {
        "id": "5Vfnv-h5dybK"
      }
    },
    {
      "cell_type": "code",
      "source": [
        "for batch_idx, batch in enumerate(test_dataloader):\n",
        "  print(batch.keys())\n",
        "  break"
      ],
      "metadata": {
        "colab": {
          "base_uri": "https://localhost:8080/"
        },
        "id": "NCyz4KXe7jZz",
        "outputId": "036f937c-52d3-4b90-b411-fbf57226436b"
      },
      "execution_count": 49,
      "outputs": [
        {
          "output_type": "stream",
          "name": "stdout",
          "text": [
            "dict_keys(['pixel_values', 'pixel_mask', 'mask_labels', 'class_labels', 'org_images', 'org_masks'])\n"
          ]
        }
      ]
    },
    {
      "cell_type": "code",
      "source": [
        "for batch_idx, batch in enumerate(train_dataloader):\n",
        "\n",
        "  images = batch[\"pixel_values\"]\n",
        "  masks = batch[\"pixel_mask\"]\n",
        "  org_images = batch[\"org_images\"]\n",
        "  org_masks = batch[\"org_masks\"]\n",
        "\n",
        "  print(f\"Training Batch {batch_idx}:\")\n",
        "  print(f\"Image shape: {images.shape}\")\n",
        "  print(f\"Mask shape: {masks.shape}\")\n",
        "  # training operations ...\n",
        "  break # break after the first batch\n",
        "\n",
        "# Example of iterating through the test data loader\n",
        "for batch_idx, batch in enumerate(test_dataloader):\n",
        "\n",
        "  # print(batch.keys())\n",
        "\n",
        "  images = batch[\"pixel_values\"]\n",
        "  masks = batch[\"pixel_mask\"]\n",
        "  org_images = batch[\"org_images\"]\n",
        "  org_masks = batch[\"org_masks\"]\n",
        "\n",
        "  print(f\"Testing Batch {batch_idx}:\")\n",
        "  print(f\"Image shape: {images.shape}\")\n",
        "  print(f\"Mask shape: {masks.shape}\")\n",
        "  # testing operations ...\n",
        "  break  # break after the first batch"
      ],
      "metadata": {
        "colab": {
          "base_uri": "https://localhost:8080/"
        },
        "id": "A9ArAwXibh1C",
        "outputId": "825ef834-08bb-4039-9cfc-59776dfa71f3"
      },
      "execution_count": 50,
      "outputs": [
        {
          "output_type": "stream",
          "name": "stdout",
          "text": [
            "Training Batch 0:\n",
            "Image shape: torch.Size([2, 3, 224, 224])\n",
            "Mask shape: torch.Size([2, 224, 224])\n",
            "Testing Batch 0:\n",
            "Image shape: torch.Size([2, 3, 224, 224])\n",
            "Mask shape: torch.Size([2, 224, 224])\n"
          ]
        }
      ]
    },
    {
      "cell_type": "markdown",
      "source": [
        "### Convert integer to string labels"
      ],
      "metadata": {
        "id": "GPj2ggjPhxXj"
      }
    },
    {
      "cell_type": "code",
      "source": [
        "# access class labels for first item in batch, convert the tensor into a list, itterates\n",
        "# through the list of lables and converts them into string\n",
        "class_labels = [id2label[label] for label in batch[\"class_labels\"][0].tolist()]\n",
        "print(class_labels)"
      ],
      "metadata": {
        "colab": {
          "base_uri": "https://localhost:8080/"
        },
        "id": "7zTzDDdPirWN",
        "outputId": "33afec4a-5084-4fe5-aec6-32b0d4eea7c2"
      },
      "execution_count": 51,
      "outputs": [
        {
          "output_type": "stream",
          "name": "stdout",
          "text": [
            "['bg', 'tumor']\n"
          ]
        }
      ]
    },
    {
      "cell_type": "markdown",
      "source": [
        "## 3. Accuracy metric"
      ],
      "metadata": {
        "id": "03JdzSR4rCBf"
      }
    },
    {
      "cell_type": "code",
      "source": [
        "import evaluate\n",
        "\n",
        "metric = evaluate.load(\"mean_iou\")"
      ],
      "metadata": {
        "colab": {
          "base_uri": "https://localhost:8080/",
          "height": 49,
          "referenced_widgets": [
            "458004f4ea324dd0bab5ae21202be00b",
            "7b9468bfa564443abb784b8e189164a5",
            "d5e4751b161c4f0ab86e5110477d1b93",
            "8f05c6a980d241bb85e8cad7fc22d404",
            "ffa477efae1e4ba5a198efcc363ed465",
            "9c3cb663ae9f4441a0af7749e3673424",
            "4e1c122716274274be5f4381bf1eff31",
            "dc7aa3affc1643528ef1e4e85878c99f",
            "7bca547c41494475b975a028ab5fb758",
            "d91f01bde3f641d0b92114f8c6e0d6d9",
            "3643c260f80347d89deeb6b1fbf5fa0f"
          ]
        },
        "id": "RMmneJ62rKiz",
        "outputId": "9dfed483-138d-4552-cf43-7b9eb45c578a"
      },
      "execution_count": 36,
      "outputs": [
        {
          "output_type": "display_data",
          "data": {
            "text/plain": [
              "Downloading builder script:   0%|          | 0.00/12.9k [00:00<?, ?B/s]"
            ],
            "application/vnd.jupyter.widget-view+json": {
              "version_major": 2,
              "version_minor": 0,
              "model_id": "458004f4ea324dd0bab5ae21202be00b"
            }
          },
          "metadata": {}
        }
      ]
    },
    {
      "cell_type": "markdown",
      "source": [
        "## 4. Load, train, evaluate model"
      ],
      "metadata": {
        "id": "utVOkbMid6JM"
      }
    },
    {
      "cell_type": "code",
      "source": [
        "from transformers import MaskFormerForInstanceSegmentation\n",
        "\n",
        "# replace pre-trained model head\n",
        "model = MaskFormerForInstanceSegmentation.from_pretrained(\"facebook/maskformer-swin-base-ade\",\n",
        "                                                            id2label=id2label,\n",
        "                                                            label2id=label2id,\n",
        "                                                            ignore_mismatched_sizes=True)"
      ],
      "metadata": {
        "colab": {
          "base_uri": "https://localhost:8080/"
        },
        "id": "zSLGfU4_rZkS",
        "outputId": "45655c27-a5bd-414b-d622-8fa7b4ee3e2b"
      },
      "execution_count": 52,
      "outputs": [
        {
          "output_type": "stream",
          "name": "stderr",
          "text": [
            "Some weights of MaskFormerForInstanceSegmentation were not initialized from the model checkpoint at facebook/maskformer-swin-base-ade and are newly initialized because the shapes did not match:\n",
            "- class_predictor.weight: found shape torch.Size([151, 256]) in the checkpoint and torch.Size([3, 256]) in the model instantiated\n",
            "- class_predictor.bias: found shape torch.Size([151]) in the checkpoint and torch.Size([3]) in the model instantiated\n",
            "- criterion.empty_weight: found shape torch.Size([151]) in the checkpoint and torch.Size([3]) in the model instantiated\n",
            "You should probably TRAIN this model on a down-stream task to be able to use it for predictions and inference.\n"
          ]
        }
      ]
    },
    {
      "cell_type": "code",
      "source": [
        "import torch\n",
        "import torch.nn as nn\n",
        "import torch.optim as optim\n",
        "from tqdm import tqdm\n",
        "\n",
        "device = torch.device(\"cuda\" if torch.cuda.is_available() else \"cpu\")\n",
        "model.to(device)\n",
        "\n",
        "# set optimizer\n",
        "optimizer = optim.AdamW(model.parameters(), lr=5e-5)\n",
        "\n",
        "# set loss function\n",
        "criterion = nn.CrossEntropyLoss()\n",
        "\n",
        "# initialize variables for tracking running loss and the number of sample\n",
        "running_loss = 0.0\n",
        "num_samples = 0"
      ],
      "metadata": {
        "id": "VxVtcLP4s0SU"
      },
      "execution_count": 53,
      "outputs": []
    },
    {
      "cell_type": "markdown",
      "source": [
        "### Training loop with evaluation"
      ],
      "metadata": {
        "id": "sXu3BJJ8vOBq"
      }
    },
    {
      "cell_type": "code",
      "source": [
        "# training loop for 2 apochs\n",
        "num_epochs = 2\n",
        "\n",
        "# initialize variables for tracking mean IoU\n",
        "mean_iou_metric = 0.0\n",
        "num_samples = 0\n",
        "\n",
        "for epoch in range(num_epochs):\n",
        "\n",
        "  # set the model to training mode\n",
        "  model.train()\n",
        "\n",
        "  print(\"Epoch:\", epoch + 1)\n",
        "\n",
        "  # iterate through batches in training loader\n",
        "  for idx, batch in enumerate(tqdm(train_dataloader)):\n",
        "    # move batch data to device and convert to float32\n",
        "    pixel_values = batch[\"pixel_values\"].to(device, dtype=torch.float32)\n",
        "    mask_labels = batch[\"pixel_mask\"].to(device)\n",
        "    class_labels = [labels.to(device) for labels in batch[\"class_labels\"]]\n",
        "\n",
        "    # zero the parameter gradients\n",
        "    optimizer.zero_grad()\n",
        "\n",
        "    # forward pass\n",
        "    outputs = model(pixel_values = pixel_values)\n",
        "                    #mask_labels = mask_labels,\n",
        "                    #class_labels = class_labels)\n",
        "\n",
        "    # predicted class labels\n",
        "    logits = outputs.class_queries_logits\n",
        "\n",
        "    # upsample predication mask to size of true mask\n",
        "    predicted = logits.argmax(dim=1)\n",
        "    print(f\"predicted size: {predicted.shape}\")\n",
        "    predicted_upsampled = nn.functional.interpolate(\n",
        "          predicted[:, None, :, :].float(),  # Add a channel dimension and convert to float\n",
        "          size=(224, 224),  # Target size\n",
        "          mode=\"nearest\",  # Interpolation mode\n",
        "      )\n",
        "    predicted_upsampled = predicted_upsampled[:, 0, :, :].long()  # Remove channel dimension and convert back to long\n",
        "\n",
        "    # calculate the mean IoU metric for the current batch\n",
        "    metric.add_batch(redictions=predicted_upsampled.detach().cpu().numpy(),\n",
        "                     references=mask_labels.detach().cpu().numpy())\n",
        "\n",
        "    # calculate loss\n",
        "    loss = outputs.loss\n",
        "\n",
        "    # accumulate loss and number of samples for the current epoch\n",
        "    running_loss += loss.item() * pixel_values.size(0)\n",
        "    num_samples += pixel_values.size(0)\n",
        "\n",
        "    # backward pass and optimization\n",
        "    loss.backward()\n",
        "    optimizer.step()\n",
        "\n",
        "    # print running loss every 50 batches\n",
        "    if idx % 50 == 0:\n",
        "      print(\"Loss:\", running_loss / num_samples)\n",
        "\n",
        "\n",
        "  # calculate the overall mean IoU for the epoch\n",
        "  mean_iou_metric = metric.compute(num_labels=n_classes, ignore_index=255, reduce_labels=False)\n",
        "  # print the mean IoU metric for the epoch\n",
        "  print(f\"Epoch {epoch+1} Mean IoU: {mean_iou_metric}\")\n",
        "\n",
        "\n",
        "  # evaluation loop\n",
        "  model.eval() # set the model to evaluation mode\n",
        "\n",
        "  with torch.no_grad():\n",
        "    # iterate through batches in the test dataloader\n",
        "    for batch in tqdm(test_dataloader):\n",
        "      pixel_values = batch[\"pixel_values\"].to(device)\n",
        "      mask_labels = batch[\"pixel_mask\"].to(device)\n",
        "\n",
        "      # forward pass through the model\n",
        "      outputs = model(pixel_values=pixel_values)\n",
        "\n",
        "      # get predicted class labels\n",
        "      logits = outputs.logits\n",
        "      predicted = logits.argmax(dim=1)\n",
        "\n",
        "      # calculate the mean IoU metric for the current batch\n",
        "      metric.add_batch(predictions = predicted.detach().cpu().numpy(),\n",
        "                       references = mask_labels.detach().cpu().numpy())\n",
        "\n",
        "      # update the number of samples\n",
        "      num_samples += len(mask_labels)\n",
        "\n",
        "  # calculate the overall mean IoU for the epoch\n",
        "  mean_iou_metric = metric.compute(num_labels=n_classes, ignore_index=255, reduce_labels=False)\n",
        "\n",
        "  # print the mean IoU metric for the epoch\n",
        "  print(f\"Epoch {epoch+1} Mean IoU: {mean_iou_metric}\")\n",
        "\n",
        ""
      ],
      "metadata": {
        "colab": {
          "base_uri": "https://localhost:8080/"
        },
        "id": "x2v_2vK5s21S",
        "outputId": "5016b8ea-46f7-45bb-8da3-a9b6911091f0"
      },
      "execution_count": null,
      "outputs": [
        {
          "output_type": "stream",
          "name": "stdout",
          "text": [
            "Epoch: 1\n"
          ]
        },
        {
          "output_type": "stream",
          "name": "stderr",
          "text": [
            "\r  0%|          | 0/250 [00:00<?, ?it/s]It looks like you are trying to rescale already rescaled images. If the input images have pixel values between 0 and 1, set `do_rescale=False` to avoid rescaling them again.\n",
            "It looks like you are trying to rescale already rescaled images. If the input images have pixel values between 0 and 1, set `do_rescale=False` to avoid rescaling them again.\n"
          ]
        }
      ]
    },
    {
      "cell_type": "code",
      "source": [
        "class Trainer:\n",
        "    def __init__(self, model, train_dataloader, test_dataloader, criterion, optimizer, device, id2label, n_classes, metric):\n",
        "        self.model = model\n",
        "        self.train_dataloader = train_dataloader\n",
        "        self.test_dataloader = test_dataloader\n",
        "        self.criterion = criterion\n",
        "        self.optimizer = optimizer\n",
        "        self.device = device\n",
        "        self.id2label = id2label\n",
        "        self.n_classes = n_classes\n",
        "        self.metric = metric\n",
        "\n",
        "    def train_one_epoch(self, epoch):\n",
        "        self.model.train()\n",
        "        running_loss = 0.0\n",
        "        num_samples = 0\n",
        "\n",
        "        for idx, batch in enumerate(tqdm(self.train_dataloader)):\n",
        "            pixel_values = batch[\"pixel_values\"].to(self.device)\n",
        "            labels = batch[\"labels\"].to(self.device)\n",
        "\n",
        "            self.optimizer.zero_grad()\n",
        "            outputs = self.model(pixel_values=pixel_values, labels=labels)\n",
        "            loss = outputs.loss\n",
        "\n",
        "            running_loss += loss.item() * pixel_values.size(0)\n",
        "            num_samples += pixel_values.size(0)\n",
        "\n",
        "            loss.backward()\n",
        "            self.optimizer.step()\n",
        "\n",
        "            if idx % 50 == 0:\n",
        "                print(\"Loss:\", running_loss / num_samples)\n",
        "\n",
        "        epoch_loss = running_loss / num_samples\n",
        "        print(f\"Epoch {epoch+1}, Loss: {epoch_loss:.4f}\")\n",
        "        return epoch_loss\n",
        "\n",
        "    def evaluate(self, epoch):\n",
        "        self.model.eval()\n",
        "        self.metric.reset()  # reset the metric for each epoch\n",
        "        num_samples = 0\n",
        "\n",
        "        with torch.no_grad():\n",
        "            for batch in tqdm(self.test_dataloader):\n",
        "                pixel_values = batch[\"pixel_values\"].to(self.device)\n",
        "                labels = batch[\"labels\"].to(self.device)\n",
        "\n",
        "                outputs = self.model(pixel_values=pixel_values)\n",
        "                logits = outputs.logits\n",
        "                predicted = logits.argmax(dim=1)\n",
        "\n",
        "                self.metric.add_batch(predictions=predicted.detach().cpu().numpy(), references=labels.detach().cpu().numpy())\n",
        "                num_samples += len(labels)\n",
        "\n",
        "        mean_iou = self.metric.compute(num_labels=self.n_classes, ignore_index=255, reduce_labels=False)\n",
        "        print(f\"Epoch {epoch+1} Mean IoU: {mean_iou}\")\n",
        "        return mean_iou\n",
        "\n",
        "    def train(self, num_epochs):\n",
        "        for epoch in range(num_epochs):\n",
        "            train_loss = self.train_one_epoch(epoch)\n",
        "            mean_iou = self.evaluate(epoch)\n",
        "\n",
        "# Instantiate the Trainer\n",
        "trainer = Trainer(model, train_dataloader, test_dataloader, criterion, optimizer, device, id2label, n_classes, metric)\n",
        "\n",
        "# Train the model\n",
        "trainer.train(num_epochs=2)"
      ],
      "metadata": {
        "id": "MjZQEht01Iks"
      },
      "execution_count": null,
      "outputs": []
    },
    {
      "cell_type": "markdown",
      "source": [
        "## 5. Inference"
      ],
      "metadata": {
        "id": "knV0eCPKeBVn"
      }
    }
  ]
}