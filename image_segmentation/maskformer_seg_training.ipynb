{
  "nbformat": 4,
  "nbformat_minor": 0,
  "metadata": {
    "colab": {
      "provenance": [],
      "authorship_tag": "ABX9TyPl+Hv+zIj4wSlYpbbjLi6H",
      "include_colab_link": true
    },
    "kernelspec": {
      "name": "python3",
      "display_name": "Python 3"
    },
    "language_info": {
      "name": "python"
    },
    "widgets": {
      "application/vnd.jupyter.widget-state+json": {
        "879d46a8f5c842f1bf3f9504400597fb": {
          "model_module": "@jupyter-widgets/controls",
          "model_name": "HBoxModel",
          "model_module_version": "1.5.0",
          "state": {
            "_dom_classes": [],
            "_model_module": "@jupyter-widgets/controls",
            "_model_module_version": "1.5.0",
            "_model_name": "HBoxModel",
            "_view_count": null,
            "_view_module": "@jupyter-widgets/controls",
            "_view_module_version": "1.5.0",
            "_view_name": "HBoxView",
            "box_style": "",
            "children": [
              "IPY_MODEL_619da5b4ae954236ba1316a2cc89f7bd",
              "IPY_MODEL_9763916414914c39aedf93a1d081107f",
              "IPY_MODEL_a3cba8af5a874cbbbd9f0ecfd288759d"
            ],
            "layout": "IPY_MODEL_59104ef5030246b092ed2a0ced7e9b1a"
          }
        },
        "619da5b4ae954236ba1316a2cc89f7bd": {
          "model_module": "@jupyter-widgets/controls",
          "model_name": "HTMLModel",
          "model_module_version": "1.5.0",
          "state": {
            "_dom_classes": [],
            "_model_module": "@jupyter-widgets/controls",
            "_model_module_version": "1.5.0",
            "_model_name": "HTMLModel",
            "_view_count": null,
            "_view_module": "@jupyter-widgets/controls",
            "_view_module_version": "1.5.0",
            "_view_name": "HTMLView",
            "description": "",
            "description_tooltip": null,
            "layout": "IPY_MODEL_a1ed57d3552b45a0b1f678e87ce705aa",
            "placeholder": "​",
            "style": "IPY_MODEL_fc407fc03cc445509250be64d390553b",
            "value": "Downloading builder script: 100%"
          }
        },
        "9763916414914c39aedf93a1d081107f": {
          "model_module": "@jupyter-widgets/controls",
          "model_name": "FloatProgressModel",
          "model_module_version": "1.5.0",
          "state": {
            "_dom_classes": [],
            "_model_module": "@jupyter-widgets/controls",
            "_model_module_version": "1.5.0",
            "_model_name": "FloatProgressModel",
            "_view_count": null,
            "_view_module": "@jupyter-widgets/controls",
            "_view_module_version": "1.5.0",
            "_view_name": "ProgressView",
            "bar_style": "success",
            "description": "",
            "description_tooltip": null,
            "layout": "IPY_MODEL_0a6452fb20f2484eb831b7b685eaadd5",
            "max": 12929,
            "min": 0,
            "orientation": "horizontal",
            "style": "IPY_MODEL_290444beb799456b95d7af24cde75d6f",
            "value": 12929
          }
        },
        "a3cba8af5a874cbbbd9f0ecfd288759d": {
          "model_module": "@jupyter-widgets/controls",
          "model_name": "HTMLModel",
          "model_module_version": "1.5.0",
          "state": {
            "_dom_classes": [],
            "_model_module": "@jupyter-widgets/controls",
            "_model_module_version": "1.5.0",
            "_model_name": "HTMLModel",
            "_view_count": null,
            "_view_module": "@jupyter-widgets/controls",
            "_view_module_version": "1.5.0",
            "_view_name": "HTMLView",
            "description": "",
            "description_tooltip": null,
            "layout": "IPY_MODEL_eb8c13d09fc847dea5f99f247e7c8710",
            "placeholder": "​",
            "style": "IPY_MODEL_db1e18e5f9ee4c1bb905b6acb49a2b18",
            "value": " 12.9k/12.9k [00:00&lt;00:00, 997kB/s]"
          }
        },
        "59104ef5030246b092ed2a0ced7e9b1a": {
          "model_module": "@jupyter-widgets/base",
          "model_name": "LayoutModel",
          "model_module_version": "1.2.0",
          "state": {
            "_model_module": "@jupyter-widgets/base",
            "_model_module_version": "1.2.0",
            "_model_name": "LayoutModel",
            "_view_count": null,
            "_view_module": "@jupyter-widgets/base",
            "_view_module_version": "1.2.0",
            "_view_name": "LayoutView",
            "align_content": null,
            "align_items": null,
            "align_self": null,
            "border": null,
            "bottom": null,
            "display": null,
            "flex": null,
            "flex_flow": null,
            "grid_area": null,
            "grid_auto_columns": null,
            "grid_auto_flow": null,
            "grid_auto_rows": null,
            "grid_column": null,
            "grid_gap": null,
            "grid_row": null,
            "grid_template_areas": null,
            "grid_template_columns": null,
            "grid_template_rows": null,
            "height": null,
            "justify_content": null,
            "justify_items": null,
            "left": null,
            "margin": null,
            "max_height": null,
            "max_width": null,
            "min_height": null,
            "min_width": null,
            "object_fit": null,
            "object_position": null,
            "order": null,
            "overflow": null,
            "overflow_x": null,
            "overflow_y": null,
            "padding": null,
            "right": null,
            "top": null,
            "visibility": null,
            "width": null
          }
        },
        "a1ed57d3552b45a0b1f678e87ce705aa": {
          "model_module": "@jupyter-widgets/base",
          "model_name": "LayoutModel",
          "model_module_version": "1.2.0",
          "state": {
            "_model_module": "@jupyter-widgets/base",
            "_model_module_version": "1.2.0",
            "_model_name": "LayoutModel",
            "_view_count": null,
            "_view_module": "@jupyter-widgets/base",
            "_view_module_version": "1.2.0",
            "_view_name": "LayoutView",
            "align_content": null,
            "align_items": null,
            "align_self": null,
            "border": null,
            "bottom": null,
            "display": null,
            "flex": null,
            "flex_flow": null,
            "grid_area": null,
            "grid_auto_columns": null,
            "grid_auto_flow": null,
            "grid_auto_rows": null,
            "grid_column": null,
            "grid_gap": null,
            "grid_row": null,
            "grid_template_areas": null,
            "grid_template_columns": null,
            "grid_template_rows": null,
            "height": null,
            "justify_content": null,
            "justify_items": null,
            "left": null,
            "margin": null,
            "max_height": null,
            "max_width": null,
            "min_height": null,
            "min_width": null,
            "object_fit": null,
            "object_position": null,
            "order": null,
            "overflow": null,
            "overflow_x": null,
            "overflow_y": null,
            "padding": null,
            "right": null,
            "top": null,
            "visibility": null,
            "width": null
          }
        },
        "fc407fc03cc445509250be64d390553b": {
          "model_module": "@jupyter-widgets/controls",
          "model_name": "DescriptionStyleModel",
          "model_module_version": "1.5.0",
          "state": {
            "_model_module": "@jupyter-widgets/controls",
            "_model_module_version": "1.5.0",
            "_model_name": "DescriptionStyleModel",
            "_view_count": null,
            "_view_module": "@jupyter-widgets/base",
            "_view_module_version": "1.2.0",
            "_view_name": "StyleView",
            "description_width": ""
          }
        },
        "0a6452fb20f2484eb831b7b685eaadd5": {
          "model_module": "@jupyter-widgets/base",
          "model_name": "LayoutModel",
          "model_module_version": "1.2.0",
          "state": {
            "_model_module": "@jupyter-widgets/base",
            "_model_module_version": "1.2.0",
            "_model_name": "LayoutModel",
            "_view_count": null,
            "_view_module": "@jupyter-widgets/base",
            "_view_module_version": "1.2.0",
            "_view_name": "LayoutView",
            "align_content": null,
            "align_items": null,
            "align_self": null,
            "border": null,
            "bottom": null,
            "display": null,
            "flex": null,
            "flex_flow": null,
            "grid_area": null,
            "grid_auto_columns": null,
            "grid_auto_flow": null,
            "grid_auto_rows": null,
            "grid_column": null,
            "grid_gap": null,
            "grid_row": null,
            "grid_template_areas": null,
            "grid_template_columns": null,
            "grid_template_rows": null,
            "height": null,
            "justify_content": null,
            "justify_items": null,
            "left": null,
            "margin": null,
            "max_height": null,
            "max_width": null,
            "min_height": null,
            "min_width": null,
            "object_fit": null,
            "object_position": null,
            "order": null,
            "overflow": null,
            "overflow_x": null,
            "overflow_y": null,
            "padding": null,
            "right": null,
            "top": null,
            "visibility": null,
            "width": null
          }
        },
        "290444beb799456b95d7af24cde75d6f": {
          "model_module": "@jupyter-widgets/controls",
          "model_name": "ProgressStyleModel",
          "model_module_version": "1.5.0",
          "state": {
            "_model_module": "@jupyter-widgets/controls",
            "_model_module_version": "1.5.0",
            "_model_name": "ProgressStyleModel",
            "_view_count": null,
            "_view_module": "@jupyter-widgets/base",
            "_view_module_version": "1.2.0",
            "_view_name": "StyleView",
            "bar_color": null,
            "description_width": ""
          }
        },
        "eb8c13d09fc847dea5f99f247e7c8710": {
          "model_module": "@jupyter-widgets/base",
          "model_name": "LayoutModel",
          "model_module_version": "1.2.0",
          "state": {
            "_model_module": "@jupyter-widgets/base",
            "_model_module_version": "1.2.0",
            "_model_name": "LayoutModel",
            "_view_count": null,
            "_view_module": "@jupyter-widgets/base",
            "_view_module_version": "1.2.0",
            "_view_name": "LayoutView",
            "align_content": null,
            "align_items": null,
            "align_self": null,
            "border": null,
            "bottom": null,
            "display": null,
            "flex": null,
            "flex_flow": null,
            "grid_area": null,
            "grid_auto_columns": null,
            "grid_auto_flow": null,
            "grid_auto_rows": null,
            "grid_column": null,
            "grid_gap": null,
            "grid_row": null,
            "grid_template_areas": null,
            "grid_template_columns": null,
            "grid_template_rows": null,
            "height": null,
            "justify_content": null,
            "justify_items": null,
            "left": null,
            "margin": null,
            "max_height": null,
            "max_width": null,
            "min_height": null,
            "min_width": null,
            "object_fit": null,
            "object_position": null,
            "order": null,
            "overflow": null,
            "overflow_x": null,
            "overflow_y": null,
            "padding": null,
            "right": null,
            "top": null,
            "visibility": null,
            "width": null
          }
        },
        "db1e18e5f9ee4c1bb905b6acb49a2b18": {
          "model_module": "@jupyter-widgets/controls",
          "model_name": "DescriptionStyleModel",
          "model_module_version": "1.5.0",
          "state": {
            "_model_module": "@jupyter-widgets/controls",
            "_model_module_version": "1.5.0",
            "_model_name": "DescriptionStyleModel",
            "_view_count": null,
            "_view_module": "@jupyter-widgets/base",
            "_view_module_version": "1.2.0",
            "_view_name": "StyleView",
            "description_width": ""
          }
        },
        "15dd3fc878c74f89b8ca2b17fcbc7a8b": {
          "model_module": "@jupyter-widgets/controls",
          "model_name": "HBoxModel",
          "model_module_version": "1.5.0",
          "state": {
            "_dom_classes": [],
            "_model_module": "@jupyter-widgets/controls",
            "_model_module_version": "1.5.0",
            "_model_name": "HBoxModel",
            "_view_count": null,
            "_view_module": "@jupyter-widgets/controls",
            "_view_module_version": "1.5.0",
            "_view_name": "HBoxView",
            "box_style": "",
            "children": [
              "IPY_MODEL_b8c71238447d4eaaba0f547397a17681",
              "IPY_MODEL_11ed88fa89cc46d08e06e8f22953b092",
              "IPY_MODEL_34c96e53f5de4f0c94dc2fa224c8ce2c"
            ],
            "layout": "IPY_MODEL_8504d232e34e42afa99b3c4dc8f1a921"
          }
        },
        "b8c71238447d4eaaba0f547397a17681": {
          "model_module": "@jupyter-widgets/controls",
          "model_name": "HTMLModel",
          "model_module_version": "1.5.0",
          "state": {
            "_dom_classes": [],
            "_model_module": "@jupyter-widgets/controls",
            "_model_module_version": "1.5.0",
            "_model_name": "HTMLModel",
            "_view_count": null,
            "_view_module": "@jupyter-widgets/controls",
            "_view_module_version": "1.5.0",
            "_view_name": "HTMLView",
            "description": "",
            "description_tooltip": null,
            "layout": "IPY_MODEL_571cc659dcdf487b92e25140b691ce01",
            "placeholder": "​",
            "style": "IPY_MODEL_12dfbc32c7c540109bc8d72c2cb4b65a",
            "value": "config.json: 100%"
          }
        },
        "11ed88fa89cc46d08e06e8f22953b092": {
          "model_module": "@jupyter-widgets/controls",
          "model_name": "FloatProgressModel",
          "model_module_version": "1.5.0",
          "state": {
            "_dom_classes": [],
            "_model_module": "@jupyter-widgets/controls",
            "_model_module_version": "1.5.0",
            "_model_name": "FloatProgressModel",
            "_view_count": null,
            "_view_module": "@jupyter-widgets/controls",
            "_view_module_version": "1.5.0",
            "_view_name": "ProgressView",
            "bar_style": "success",
            "description": "",
            "description_tooltip": null,
            "layout": "IPY_MODEL_c3ec0de010bd47a1b6e70ee3d2049f2e",
            "max": 12504,
            "min": 0,
            "orientation": "horizontal",
            "style": "IPY_MODEL_033bcd3749cc485386644b656ab77233",
            "value": 12504
          }
        },
        "34c96e53f5de4f0c94dc2fa224c8ce2c": {
          "model_module": "@jupyter-widgets/controls",
          "model_name": "HTMLModel",
          "model_module_version": "1.5.0",
          "state": {
            "_dom_classes": [],
            "_model_module": "@jupyter-widgets/controls",
            "_model_module_version": "1.5.0",
            "_model_name": "HTMLModel",
            "_view_count": null,
            "_view_module": "@jupyter-widgets/controls",
            "_view_module_version": "1.5.0",
            "_view_name": "HTMLView",
            "description": "",
            "description_tooltip": null,
            "layout": "IPY_MODEL_e480c2cebb3f4b31b20e99a55d35fd74",
            "placeholder": "​",
            "style": "IPY_MODEL_c611241b818c458aab764da593b6d54a",
            "value": " 12.5k/12.5k [00:00&lt;00:00, 941kB/s]"
          }
        },
        "8504d232e34e42afa99b3c4dc8f1a921": {
          "model_module": "@jupyter-widgets/base",
          "model_name": "LayoutModel",
          "model_module_version": "1.2.0",
          "state": {
            "_model_module": "@jupyter-widgets/base",
            "_model_module_version": "1.2.0",
            "_model_name": "LayoutModel",
            "_view_count": null,
            "_view_module": "@jupyter-widgets/base",
            "_view_module_version": "1.2.0",
            "_view_name": "LayoutView",
            "align_content": null,
            "align_items": null,
            "align_self": null,
            "border": null,
            "bottom": null,
            "display": null,
            "flex": null,
            "flex_flow": null,
            "grid_area": null,
            "grid_auto_columns": null,
            "grid_auto_flow": null,
            "grid_auto_rows": null,
            "grid_column": null,
            "grid_gap": null,
            "grid_row": null,
            "grid_template_areas": null,
            "grid_template_columns": null,
            "grid_template_rows": null,
            "height": null,
            "justify_content": null,
            "justify_items": null,
            "left": null,
            "margin": null,
            "max_height": null,
            "max_width": null,
            "min_height": null,
            "min_width": null,
            "object_fit": null,
            "object_position": null,
            "order": null,
            "overflow": null,
            "overflow_x": null,
            "overflow_y": null,
            "padding": null,
            "right": null,
            "top": null,
            "visibility": null,
            "width": null
          }
        },
        "571cc659dcdf487b92e25140b691ce01": {
          "model_module": "@jupyter-widgets/base",
          "model_name": "LayoutModel",
          "model_module_version": "1.2.0",
          "state": {
            "_model_module": "@jupyter-widgets/base",
            "_model_module_version": "1.2.0",
            "_model_name": "LayoutModel",
            "_view_count": null,
            "_view_module": "@jupyter-widgets/base",
            "_view_module_version": "1.2.0",
            "_view_name": "LayoutView",
            "align_content": null,
            "align_items": null,
            "align_self": null,
            "border": null,
            "bottom": null,
            "display": null,
            "flex": null,
            "flex_flow": null,
            "grid_area": null,
            "grid_auto_columns": null,
            "grid_auto_flow": null,
            "grid_auto_rows": null,
            "grid_column": null,
            "grid_gap": null,
            "grid_row": null,
            "grid_template_areas": null,
            "grid_template_columns": null,
            "grid_template_rows": null,
            "height": null,
            "justify_content": null,
            "justify_items": null,
            "left": null,
            "margin": null,
            "max_height": null,
            "max_width": null,
            "min_height": null,
            "min_width": null,
            "object_fit": null,
            "object_position": null,
            "order": null,
            "overflow": null,
            "overflow_x": null,
            "overflow_y": null,
            "padding": null,
            "right": null,
            "top": null,
            "visibility": null,
            "width": null
          }
        },
        "12dfbc32c7c540109bc8d72c2cb4b65a": {
          "model_module": "@jupyter-widgets/controls",
          "model_name": "DescriptionStyleModel",
          "model_module_version": "1.5.0",
          "state": {
            "_model_module": "@jupyter-widgets/controls",
            "_model_module_version": "1.5.0",
            "_model_name": "DescriptionStyleModel",
            "_view_count": null,
            "_view_module": "@jupyter-widgets/base",
            "_view_module_version": "1.2.0",
            "_view_name": "StyleView",
            "description_width": ""
          }
        },
        "c3ec0de010bd47a1b6e70ee3d2049f2e": {
          "model_module": "@jupyter-widgets/base",
          "model_name": "LayoutModel",
          "model_module_version": "1.2.0",
          "state": {
            "_model_module": "@jupyter-widgets/base",
            "_model_module_version": "1.2.0",
            "_model_name": "LayoutModel",
            "_view_count": null,
            "_view_module": "@jupyter-widgets/base",
            "_view_module_version": "1.2.0",
            "_view_name": "LayoutView",
            "align_content": null,
            "align_items": null,
            "align_self": null,
            "border": null,
            "bottom": null,
            "display": null,
            "flex": null,
            "flex_flow": null,
            "grid_area": null,
            "grid_auto_columns": null,
            "grid_auto_flow": null,
            "grid_auto_rows": null,
            "grid_column": null,
            "grid_gap": null,
            "grid_row": null,
            "grid_template_areas": null,
            "grid_template_columns": null,
            "grid_template_rows": null,
            "height": null,
            "justify_content": null,
            "justify_items": null,
            "left": null,
            "margin": null,
            "max_height": null,
            "max_width": null,
            "min_height": null,
            "min_width": null,
            "object_fit": null,
            "object_position": null,
            "order": null,
            "overflow": null,
            "overflow_x": null,
            "overflow_y": null,
            "padding": null,
            "right": null,
            "top": null,
            "visibility": null,
            "width": null
          }
        },
        "033bcd3749cc485386644b656ab77233": {
          "model_module": "@jupyter-widgets/controls",
          "model_name": "ProgressStyleModel",
          "model_module_version": "1.5.0",
          "state": {
            "_model_module": "@jupyter-widgets/controls",
            "_model_module_version": "1.5.0",
            "_model_name": "ProgressStyleModel",
            "_view_count": null,
            "_view_module": "@jupyter-widgets/base",
            "_view_module_version": "1.2.0",
            "_view_name": "StyleView",
            "bar_color": null,
            "description_width": ""
          }
        },
        "e480c2cebb3f4b31b20e99a55d35fd74": {
          "model_module": "@jupyter-widgets/base",
          "model_name": "LayoutModel",
          "model_module_version": "1.2.0",
          "state": {
            "_model_module": "@jupyter-widgets/base",
            "_model_module_version": "1.2.0",
            "_model_name": "LayoutModel",
            "_view_count": null,
            "_view_module": "@jupyter-widgets/base",
            "_view_module_version": "1.2.0",
            "_view_name": "LayoutView",
            "align_content": null,
            "align_items": null,
            "align_self": null,
            "border": null,
            "bottom": null,
            "display": null,
            "flex": null,
            "flex_flow": null,
            "grid_area": null,
            "grid_auto_columns": null,
            "grid_auto_flow": null,
            "grid_auto_rows": null,
            "grid_column": null,
            "grid_gap": null,
            "grid_row": null,
            "grid_template_areas": null,
            "grid_template_columns": null,
            "grid_template_rows": null,
            "height": null,
            "justify_content": null,
            "justify_items": null,
            "left": null,
            "margin": null,
            "max_height": null,
            "max_width": null,
            "min_height": null,
            "min_width": null,
            "object_fit": null,
            "object_position": null,
            "order": null,
            "overflow": null,
            "overflow_x": null,
            "overflow_y": null,
            "padding": null,
            "right": null,
            "top": null,
            "visibility": null,
            "width": null
          }
        },
        "c611241b818c458aab764da593b6d54a": {
          "model_module": "@jupyter-widgets/controls",
          "model_name": "DescriptionStyleModel",
          "model_module_version": "1.5.0",
          "state": {
            "_model_module": "@jupyter-widgets/controls",
            "_model_module_version": "1.5.0",
            "_model_name": "DescriptionStyleModel",
            "_view_count": null,
            "_view_module": "@jupyter-widgets/base",
            "_view_module_version": "1.2.0",
            "_view_name": "StyleView",
            "description_width": ""
          }
        },
        "4f3302cfadbd4a4b88b02d267e71bde5": {
          "model_module": "@jupyter-widgets/controls",
          "model_name": "HBoxModel",
          "model_module_version": "1.5.0",
          "state": {
            "_dom_classes": [],
            "_model_module": "@jupyter-widgets/controls",
            "_model_module_version": "1.5.0",
            "_model_name": "HBoxModel",
            "_view_count": null,
            "_view_module": "@jupyter-widgets/controls",
            "_view_module_version": "1.5.0",
            "_view_name": "HBoxView",
            "box_style": "",
            "children": [
              "IPY_MODEL_075698c569a843d6921119b33b57e420",
              "IPY_MODEL_af1c283a4c174f54a70cb4af841bd239",
              "IPY_MODEL_c673f1b98a45444ca10d0d9c8d8257d3"
            ],
            "layout": "IPY_MODEL_475788a29d754c2589f53a08877f6e98"
          }
        },
        "075698c569a843d6921119b33b57e420": {
          "model_module": "@jupyter-widgets/controls",
          "model_name": "HTMLModel",
          "model_module_version": "1.5.0",
          "state": {
            "_dom_classes": [],
            "_model_module": "@jupyter-widgets/controls",
            "_model_module_version": "1.5.0",
            "_model_name": "HTMLModel",
            "_view_count": null,
            "_view_module": "@jupyter-widgets/controls",
            "_view_module_version": "1.5.0",
            "_view_name": "HTMLView",
            "description": "",
            "description_tooltip": null,
            "layout": "IPY_MODEL_8ab652f0aa3d43b9b9587fa98d592fa3",
            "placeholder": "​",
            "style": "IPY_MODEL_10ae23c65c574730898cac1476ecad5f",
            "value": "pytorch_model.bin: 100%"
          }
        },
        "af1c283a4c174f54a70cb4af841bd239": {
          "model_module": "@jupyter-widgets/controls",
          "model_name": "FloatProgressModel",
          "model_module_version": "1.5.0",
          "state": {
            "_dom_classes": [],
            "_model_module": "@jupyter-widgets/controls",
            "_model_module_version": "1.5.0",
            "_model_name": "FloatProgressModel",
            "_view_count": null,
            "_view_module": "@jupyter-widgets/controls",
            "_view_module_version": "1.5.0",
            "_view_name": "ProgressView",
            "bar_style": "success",
            "description": "",
            "description_tooltip": null,
            "layout": "IPY_MODEL_3eb3e271bebe41fa92a07696f021cbe8",
            "max": 411600817,
            "min": 0,
            "orientation": "horizontal",
            "style": "IPY_MODEL_e3fbaaa5d2ed4e1bbfbc7e528fbae753",
            "value": 411600817
          }
        },
        "c673f1b98a45444ca10d0d9c8d8257d3": {
          "model_module": "@jupyter-widgets/controls",
          "model_name": "HTMLModel",
          "model_module_version": "1.5.0",
          "state": {
            "_dom_classes": [],
            "_model_module": "@jupyter-widgets/controls",
            "_model_module_version": "1.5.0",
            "_model_name": "HTMLModel",
            "_view_count": null,
            "_view_module": "@jupyter-widgets/controls",
            "_view_module_version": "1.5.0",
            "_view_name": "HTMLView",
            "description": "",
            "description_tooltip": null,
            "layout": "IPY_MODEL_05dc0f0c36f44d769efb8e23c19c286f",
            "placeholder": "​",
            "style": "IPY_MODEL_05bfa2245fcc41698e9e258d1dadce88",
            "value": " 412M/412M [00:16&lt;00:00, 24.6MB/s]"
          }
        },
        "475788a29d754c2589f53a08877f6e98": {
          "model_module": "@jupyter-widgets/base",
          "model_name": "LayoutModel",
          "model_module_version": "1.2.0",
          "state": {
            "_model_module": "@jupyter-widgets/base",
            "_model_module_version": "1.2.0",
            "_model_name": "LayoutModel",
            "_view_count": null,
            "_view_module": "@jupyter-widgets/base",
            "_view_module_version": "1.2.0",
            "_view_name": "LayoutView",
            "align_content": null,
            "align_items": null,
            "align_self": null,
            "border": null,
            "bottom": null,
            "display": null,
            "flex": null,
            "flex_flow": null,
            "grid_area": null,
            "grid_auto_columns": null,
            "grid_auto_flow": null,
            "grid_auto_rows": null,
            "grid_column": null,
            "grid_gap": null,
            "grid_row": null,
            "grid_template_areas": null,
            "grid_template_columns": null,
            "grid_template_rows": null,
            "height": null,
            "justify_content": null,
            "justify_items": null,
            "left": null,
            "margin": null,
            "max_height": null,
            "max_width": null,
            "min_height": null,
            "min_width": null,
            "object_fit": null,
            "object_position": null,
            "order": null,
            "overflow": null,
            "overflow_x": null,
            "overflow_y": null,
            "padding": null,
            "right": null,
            "top": null,
            "visibility": null,
            "width": null
          }
        },
        "8ab652f0aa3d43b9b9587fa98d592fa3": {
          "model_module": "@jupyter-widgets/base",
          "model_name": "LayoutModel",
          "model_module_version": "1.2.0",
          "state": {
            "_model_module": "@jupyter-widgets/base",
            "_model_module_version": "1.2.0",
            "_model_name": "LayoutModel",
            "_view_count": null,
            "_view_module": "@jupyter-widgets/base",
            "_view_module_version": "1.2.0",
            "_view_name": "LayoutView",
            "align_content": null,
            "align_items": null,
            "align_self": null,
            "border": null,
            "bottom": null,
            "display": null,
            "flex": null,
            "flex_flow": null,
            "grid_area": null,
            "grid_auto_columns": null,
            "grid_auto_flow": null,
            "grid_auto_rows": null,
            "grid_column": null,
            "grid_gap": null,
            "grid_row": null,
            "grid_template_areas": null,
            "grid_template_columns": null,
            "grid_template_rows": null,
            "height": null,
            "justify_content": null,
            "justify_items": null,
            "left": null,
            "margin": null,
            "max_height": null,
            "max_width": null,
            "min_height": null,
            "min_width": null,
            "object_fit": null,
            "object_position": null,
            "order": null,
            "overflow": null,
            "overflow_x": null,
            "overflow_y": null,
            "padding": null,
            "right": null,
            "top": null,
            "visibility": null,
            "width": null
          }
        },
        "10ae23c65c574730898cac1476ecad5f": {
          "model_module": "@jupyter-widgets/controls",
          "model_name": "DescriptionStyleModel",
          "model_module_version": "1.5.0",
          "state": {
            "_model_module": "@jupyter-widgets/controls",
            "_model_module_version": "1.5.0",
            "_model_name": "DescriptionStyleModel",
            "_view_count": null,
            "_view_module": "@jupyter-widgets/base",
            "_view_module_version": "1.2.0",
            "_view_name": "StyleView",
            "description_width": ""
          }
        },
        "3eb3e271bebe41fa92a07696f021cbe8": {
          "model_module": "@jupyter-widgets/base",
          "model_name": "LayoutModel",
          "model_module_version": "1.2.0",
          "state": {
            "_model_module": "@jupyter-widgets/base",
            "_model_module_version": "1.2.0",
            "_model_name": "LayoutModel",
            "_view_count": null,
            "_view_module": "@jupyter-widgets/base",
            "_view_module_version": "1.2.0",
            "_view_name": "LayoutView",
            "align_content": null,
            "align_items": null,
            "align_self": null,
            "border": null,
            "bottom": null,
            "display": null,
            "flex": null,
            "flex_flow": null,
            "grid_area": null,
            "grid_auto_columns": null,
            "grid_auto_flow": null,
            "grid_auto_rows": null,
            "grid_column": null,
            "grid_gap": null,
            "grid_row": null,
            "grid_template_areas": null,
            "grid_template_columns": null,
            "grid_template_rows": null,
            "height": null,
            "justify_content": null,
            "justify_items": null,
            "left": null,
            "margin": null,
            "max_height": null,
            "max_width": null,
            "min_height": null,
            "min_width": null,
            "object_fit": null,
            "object_position": null,
            "order": null,
            "overflow": null,
            "overflow_x": null,
            "overflow_y": null,
            "padding": null,
            "right": null,
            "top": null,
            "visibility": null,
            "width": null
          }
        },
        "e3fbaaa5d2ed4e1bbfbc7e528fbae753": {
          "model_module": "@jupyter-widgets/controls",
          "model_name": "ProgressStyleModel",
          "model_module_version": "1.5.0",
          "state": {
            "_model_module": "@jupyter-widgets/controls",
            "_model_module_version": "1.5.0",
            "_model_name": "ProgressStyleModel",
            "_view_count": null,
            "_view_module": "@jupyter-widgets/base",
            "_view_module_version": "1.2.0",
            "_view_name": "StyleView",
            "bar_color": null,
            "description_width": ""
          }
        },
        "05dc0f0c36f44d769efb8e23c19c286f": {
          "model_module": "@jupyter-widgets/base",
          "model_name": "LayoutModel",
          "model_module_version": "1.2.0",
          "state": {
            "_model_module": "@jupyter-widgets/base",
            "_model_module_version": "1.2.0",
            "_model_name": "LayoutModel",
            "_view_count": null,
            "_view_module": "@jupyter-widgets/base",
            "_view_module_version": "1.2.0",
            "_view_name": "LayoutView",
            "align_content": null,
            "align_items": null,
            "align_self": null,
            "border": null,
            "bottom": null,
            "display": null,
            "flex": null,
            "flex_flow": null,
            "grid_area": null,
            "grid_auto_columns": null,
            "grid_auto_flow": null,
            "grid_auto_rows": null,
            "grid_column": null,
            "grid_gap": null,
            "grid_row": null,
            "grid_template_areas": null,
            "grid_template_columns": null,
            "grid_template_rows": null,
            "height": null,
            "justify_content": null,
            "justify_items": null,
            "left": null,
            "margin": null,
            "max_height": null,
            "max_width": null,
            "min_height": null,
            "min_width": null,
            "object_fit": null,
            "object_position": null,
            "order": null,
            "overflow": null,
            "overflow_x": null,
            "overflow_y": null,
            "padding": null,
            "right": null,
            "top": null,
            "visibility": null,
            "width": null
          }
        },
        "05bfa2245fcc41698e9e258d1dadce88": {
          "model_module": "@jupyter-widgets/controls",
          "model_name": "DescriptionStyleModel",
          "model_module_version": "1.5.0",
          "state": {
            "_model_module": "@jupyter-widgets/controls",
            "_model_module_version": "1.5.0",
            "_model_name": "DescriptionStyleModel",
            "_view_count": null,
            "_view_module": "@jupyter-widgets/base",
            "_view_module_version": "1.2.0",
            "_view_name": "StyleView",
            "description_width": ""
          }
        },
        "aa916dd7b209438a85a78935a402905a": {
          "model_module": "@jupyter-widgets/controls",
          "model_name": "HBoxModel",
          "model_module_version": "1.5.0",
          "state": {
            "_dom_classes": [],
            "_model_module": "@jupyter-widgets/controls",
            "_model_module_version": "1.5.0",
            "_model_name": "HBoxModel",
            "_view_count": null,
            "_view_module": "@jupyter-widgets/controls",
            "_view_module_version": "1.5.0",
            "_view_name": "HBoxView",
            "box_style": "",
            "children": [
              "IPY_MODEL_cc5cba0619364f06b1ec52c51fa6ca85",
              "IPY_MODEL_275d61a3ff0042188dbe538e05016bca",
              "IPY_MODEL_c03ebd7ce0fe4a5c8b427a3c1bb8b9a8"
            ],
            "layout": "IPY_MODEL_d59b27ac1ce24fa1b8e92d43fc37b381"
          }
        },
        "cc5cba0619364f06b1ec52c51fa6ca85": {
          "model_module": "@jupyter-widgets/controls",
          "model_name": "HTMLModel",
          "model_module_version": "1.5.0",
          "state": {
            "_dom_classes": [],
            "_model_module": "@jupyter-widgets/controls",
            "_model_module_version": "1.5.0",
            "_model_name": "HTMLModel",
            "_view_count": null,
            "_view_module": "@jupyter-widgets/controls",
            "_view_module_version": "1.5.0",
            "_view_name": "HTMLView",
            "description": "",
            "description_tooltip": null,
            "layout": "IPY_MODEL_339b7919557f4a18a6cdcff97b2379e2",
            "placeholder": "​",
            "style": "IPY_MODEL_f576d368c10a4f0c8ed89cf385509ae9",
            "value": ""
          }
        },
        "275d61a3ff0042188dbe538e05016bca": {
          "model_module": "@jupyter-widgets/controls",
          "model_name": "FloatProgressModel",
          "model_module_version": "1.5.0",
          "state": {
            "_dom_classes": [],
            "_model_module": "@jupyter-widgets/controls",
            "_model_module_version": "1.5.0",
            "_model_name": "FloatProgressModel",
            "_view_count": null,
            "_view_module": "@jupyter-widgets/controls",
            "_view_module_version": "1.5.0",
            "_view_name": "ProgressView",
            "bar_style": "success",
            "description": "",
            "description_tooltip": null,
            "layout": "IPY_MODEL_926254fa1ec642eda3e3ad1b727e1646",
            "max": 1,
            "min": 0,
            "orientation": "horizontal",
            "style": "IPY_MODEL_2f5082f46b9f41058dcee6a90e95caeb",
            "value": 0
          }
        },
        "c03ebd7ce0fe4a5c8b427a3c1bb8b9a8": {
          "model_module": "@jupyter-widgets/controls",
          "model_name": "HTMLModel",
          "model_module_version": "1.5.0",
          "state": {
            "_dom_classes": [],
            "_model_module": "@jupyter-widgets/controls",
            "_model_module_version": "1.5.0",
            "_model_name": "HTMLModel",
            "_view_count": null,
            "_view_module": "@jupyter-widgets/controls",
            "_view_module_version": "1.5.0",
            "_view_name": "HTMLView",
            "description": "",
            "description_tooltip": null,
            "layout": "IPY_MODEL_e5f4e7492f7746608e4235bb2c47cfa8",
            "placeholder": "​",
            "style": "IPY_MODEL_6dfa1d7d94f047d08a7a82c711a58707",
            "value": " 0/0 [00:00&lt;?, ?it/s]"
          }
        },
        "d59b27ac1ce24fa1b8e92d43fc37b381": {
          "model_module": "@jupyter-widgets/base",
          "model_name": "LayoutModel",
          "model_module_version": "1.2.0",
          "state": {
            "_model_module": "@jupyter-widgets/base",
            "_model_module_version": "1.2.0",
            "_model_name": "LayoutModel",
            "_view_count": null,
            "_view_module": "@jupyter-widgets/base",
            "_view_module_version": "1.2.0",
            "_view_name": "LayoutView",
            "align_content": null,
            "align_items": null,
            "align_self": null,
            "border": null,
            "bottom": null,
            "display": null,
            "flex": null,
            "flex_flow": null,
            "grid_area": null,
            "grid_auto_columns": null,
            "grid_auto_flow": null,
            "grid_auto_rows": null,
            "grid_column": null,
            "grid_gap": null,
            "grid_row": null,
            "grid_template_areas": null,
            "grid_template_columns": null,
            "grid_template_rows": null,
            "height": null,
            "justify_content": null,
            "justify_items": null,
            "left": null,
            "margin": null,
            "max_height": null,
            "max_width": null,
            "min_height": null,
            "min_width": null,
            "object_fit": null,
            "object_position": null,
            "order": null,
            "overflow": null,
            "overflow_x": null,
            "overflow_y": null,
            "padding": null,
            "right": null,
            "top": null,
            "visibility": null,
            "width": null
          }
        },
        "339b7919557f4a18a6cdcff97b2379e2": {
          "model_module": "@jupyter-widgets/base",
          "model_name": "LayoutModel",
          "model_module_version": "1.2.0",
          "state": {
            "_model_module": "@jupyter-widgets/base",
            "_model_module_version": "1.2.0",
            "_model_name": "LayoutModel",
            "_view_count": null,
            "_view_module": "@jupyter-widgets/base",
            "_view_module_version": "1.2.0",
            "_view_name": "LayoutView",
            "align_content": null,
            "align_items": null,
            "align_self": null,
            "border": null,
            "bottom": null,
            "display": null,
            "flex": null,
            "flex_flow": null,
            "grid_area": null,
            "grid_auto_columns": null,
            "grid_auto_flow": null,
            "grid_auto_rows": null,
            "grid_column": null,
            "grid_gap": null,
            "grid_row": null,
            "grid_template_areas": null,
            "grid_template_columns": null,
            "grid_template_rows": null,
            "height": null,
            "justify_content": null,
            "justify_items": null,
            "left": null,
            "margin": null,
            "max_height": null,
            "max_width": null,
            "min_height": null,
            "min_width": null,
            "object_fit": null,
            "object_position": null,
            "order": null,
            "overflow": null,
            "overflow_x": null,
            "overflow_y": null,
            "padding": null,
            "right": null,
            "top": null,
            "visibility": null,
            "width": null
          }
        },
        "f576d368c10a4f0c8ed89cf385509ae9": {
          "model_module": "@jupyter-widgets/controls",
          "model_name": "DescriptionStyleModel",
          "model_module_version": "1.5.0",
          "state": {
            "_model_module": "@jupyter-widgets/controls",
            "_model_module_version": "1.5.0",
            "_model_name": "DescriptionStyleModel",
            "_view_count": null,
            "_view_module": "@jupyter-widgets/base",
            "_view_module_version": "1.2.0",
            "_view_name": "StyleView",
            "description_width": ""
          }
        },
        "926254fa1ec642eda3e3ad1b727e1646": {
          "model_module": "@jupyter-widgets/base",
          "model_name": "LayoutModel",
          "model_module_version": "1.2.0",
          "state": {
            "_model_module": "@jupyter-widgets/base",
            "_model_module_version": "1.2.0",
            "_model_name": "LayoutModel",
            "_view_count": null,
            "_view_module": "@jupyter-widgets/base",
            "_view_module_version": "1.2.0",
            "_view_name": "LayoutView",
            "align_content": null,
            "align_items": null,
            "align_self": null,
            "border": null,
            "bottom": null,
            "display": null,
            "flex": null,
            "flex_flow": null,
            "grid_area": null,
            "grid_auto_columns": null,
            "grid_auto_flow": null,
            "grid_auto_rows": null,
            "grid_column": null,
            "grid_gap": null,
            "grid_row": null,
            "grid_template_areas": null,
            "grid_template_columns": null,
            "grid_template_rows": null,
            "height": null,
            "justify_content": null,
            "justify_items": null,
            "left": null,
            "margin": null,
            "max_height": null,
            "max_width": null,
            "min_height": null,
            "min_width": null,
            "object_fit": null,
            "object_position": null,
            "order": null,
            "overflow": null,
            "overflow_x": null,
            "overflow_y": null,
            "padding": null,
            "right": null,
            "top": null,
            "visibility": null,
            "width": "20px"
          }
        },
        "2f5082f46b9f41058dcee6a90e95caeb": {
          "model_module": "@jupyter-widgets/controls",
          "model_name": "ProgressStyleModel",
          "model_module_version": "1.5.0",
          "state": {
            "_model_module": "@jupyter-widgets/controls",
            "_model_module_version": "1.5.0",
            "_model_name": "ProgressStyleModel",
            "_view_count": null,
            "_view_module": "@jupyter-widgets/base",
            "_view_module_version": "1.2.0",
            "_view_name": "StyleView",
            "bar_color": null,
            "description_width": ""
          }
        },
        "e5f4e7492f7746608e4235bb2c47cfa8": {
          "model_module": "@jupyter-widgets/base",
          "model_name": "LayoutModel",
          "model_module_version": "1.2.0",
          "state": {
            "_model_module": "@jupyter-widgets/base",
            "_model_module_version": "1.2.0",
            "_model_name": "LayoutModel",
            "_view_count": null,
            "_view_module": "@jupyter-widgets/base",
            "_view_module_version": "1.2.0",
            "_view_name": "LayoutView",
            "align_content": null,
            "align_items": null,
            "align_self": null,
            "border": null,
            "bottom": null,
            "display": null,
            "flex": null,
            "flex_flow": null,
            "grid_area": null,
            "grid_auto_columns": null,
            "grid_auto_flow": null,
            "grid_auto_rows": null,
            "grid_column": null,
            "grid_gap": null,
            "grid_row": null,
            "grid_template_areas": null,
            "grid_template_columns": null,
            "grid_template_rows": null,
            "height": null,
            "justify_content": null,
            "justify_items": null,
            "left": null,
            "margin": null,
            "max_height": null,
            "max_width": null,
            "min_height": null,
            "min_width": null,
            "object_fit": null,
            "object_position": null,
            "order": null,
            "overflow": null,
            "overflow_x": null,
            "overflow_y": null,
            "padding": null,
            "right": null,
            "top": null,
            "visibility": null,
            "width": null
          }
        },
        "6dfa1d7d94f047d08a7a82c711a58707": {
          "model_module": "@jupyter-widgets/controls",
          "model_name": "DescriptionStyleModel",
          "model_module_version": "1.5.0",
          "state": {
            "_model_module": "@jupyter-widgets/controls",
            "_model_module_version": "1.5.0",
            "_model_name": "DescriptionStyleModel",
            "_view_count": null,
            "_view_module": "@jupyter-widgets/base",
            "_view_module_version": "1.2.0",
            "_view_name": "StyleView",
            "description_width": ""
          }
        },
        "a6a983e24bb64f228b180a324ada1e8c": {
          "model_module": "@jupyter-widgets/controls",
          "model_name": "HBoxModel",
          "model_module_version": "1.5.0",
          "state": {
            "_dom_classes": [],
            "_model_module": "@jupyter-widgets/controls",
            "_model_module_version": "1.5.0",
            "_model_name": "HBoxModel",
            "_view_count": null,
            "_view_module": "@jupyter-widgets/controls",
            "_view_module_version": "1.5.0",
            "_view_name": "HBoxView",
            "box_style": "",
            "children": [
              "IPY_MODEL_157ddbbc7c98477aaea58fe30c9c70fe",
              "IPY_MODEL_0bbd29a17693413591933bb3ebb3056f",
              "IPY_MODEL_698f6b5249bc40fa97dee1bba05f9587"
            ],
            "layout": "IPY_MODEL_dd41d70691874af7b8e5b220f1a31b29"
          }
        },
        "157ddbbc7c98477aaea58fe30c9c70fe": {
          "model_module": "@jupyter-widgets/controls",
          "model_name": "HTMLModel",
          "model_module_version": "1.5.0",
          "state": {
            "_dom_classes": [],
            "_model_module": "@jupyter-widgets/controls",
            "_model_module_version": "1.5.0",
            "_model_name": "HTMLModel",
            "_view_count": null,
            "_view_module": "@jupyter-widgets/controls",
            "_view_module_version": "1.5.0",
            "_view_name": "HTMLView",
            "description": "",
            "description_tooltip": null,
            "layout": "IPY_MODEL_ca62eea533ad4b86b144db6ffe667419",
            "placeholder": "​",
            "style": "IPY_MODEL_c24aeddb9e4a468e89e30bf4d688fb0e",
            "value": "preprocessor_config.json: 100%"
          }
        },
        "0bbd29a17693413591933bb3ebb3056f": {
          "model_module": "@jupyter-widgets/controls",
          "model_name": "FloatProgressModel",
          "model_module_version": "1.5.0",
          "state": {
            "_dom_classes": [],
            "_model_module": "@jupyter-widgets/controls",
            "_model_module_version": "1.5.0",
            "_model_name": "FloatProgressModel",
            "_view_count": null,
            "_view_module": "@jupyter-widgets/controls",
            "_view_module_version": "1.5.0",
            "_view_name": "ProgressView",
            "bar_style": "success",
            "description": "",
            "description_tooltip": null,
            "layout": "IPY_MODEL_5a2f5a6e551b494cb251fba3f8b078af",
            "max": 380,
            "min": 0,
            "orientation": "horizontal",
            "style": "IPY_MODEL_14facdc6eca0492093ede6a2547c7aaa",
            "value": 380
          }
        },
        "698f6b5249bc40fa97dee1bba05f9587": {
          "model_module": "@jupyter-widgets/controls",
          "model_name": "HTMLModel",
          "model_module_version": "1.5.0",
          "state": {
            "_dom_classes": [],
            "_model_module": "@jupyter-widgets/controls",
            "_model_module_version": "1.5.0",
            "_model_name": "HTMLModel",
            "_view_count": null,
            "_view_module": "@jupyter-widgets/controls",
            "_view_module_version": "1.5.0",
            "_view_name": "HTMLView",
            "description": "",
            "description_tooltip": null,
            "layout": "IPY_MODEL_7134a2ffa0984c66b7f3bb993d5deab1",
            "placeholder": "​",
            "style": "IPY_MODEL_8c12fd5415e045c48cd3cd709f95f96f",
            "value": " 380/380 [00:00&lt;00:00, 17.6kB/s]"
          }
        },
        "dd41d70691874af7b8e5b220f1a31b29": {
          "model_module": "@jupyter-widgets/base",
          "model_name": "LayoutModel",
          "model_module_version": "1.2.0",
          "state": {
            "_model_module": "@jupyter-widgets/base",
            "_model_module_version": "1.2.0",
            "_model_name": "LayoutModel",
            "_view_count": null,
            "_view_module": "@jupyter-widgets/base",
            "_view_module_version": "1.2.0",
            "_view_name": "LayoutView",
            "align_content": null,
            "align_items": null,
            "align_self": null,
            "border": null,
            "bottom": null,
            "display": null,
            "flex": null,
            "flex_flow": null,
            "grid_area": null,
            "grid_auto_columns": null,
            "grid_auto_flow": null,
            "grid_auto_rows": null,
            "grid_column": null,
            "grid_gap": null,
            "grid_row": null,
            "grid_template_areas": null,
            "grid_template_columns": null,
            "grid_template_rows": null,
            "height": null,
            "justify_content": null,
            "justify_items": null,
            "left": null,
            "margin": null,
            "max_height": null,
            "max_width": null,
            "min_height": null,
            "min_width": null,
            "object_fit": null,
            "object_position": null,
            "order": null,
            "overflow": null,
            "overflow_x": null,
            "overflow_y": null,
            "padding": null,
            "right": null,
            "top": null,
            "visibility": null,
            "width": null
          }
        },
        "ca62eea533ad4b86b144db6ffe667419": {
          "model_module": "@jupyter-widgets/base",
          "model_name": "LayoutModel",
          "model_module_version": "1.2.0",
          "state": {
            "_model_module": "@jupyter-widgets/base",
            "_model_module_version": "1.2.0",
            "_model_name": "LayoutModel",
            "_view_count": null,
            "_view_module": "@jupyter-widgets/base",
            "_view_module_version": "1.2.0",
            "_view_name": "LayoutView",
            "align_content": null,
            "align_items": null,
            "align_self": null,
            "border": null,
            "bottom": null,
            "display": null,
            "flex": null,
            "flex_flow": null,
            "grid_area": null,
            "grid_auto_columns": null,
            "grid_auto_flow": null,
            "grid_auto_rows": null,
            "grid_column": null,
            "grid_gap": null,
            "grid_row": null,
            "grid_template_areas": null,
            "grid_template_columns": null,
            "grid_template_rows": null,
            "height": null,
            "justify_content": null,
            "justify_items": null,
            "left": null,
            "margin": null,
            "max_height": null,
            "max_width": null,
            "min_height": null,
            "min_width": null,
            "object_fit": null,
            "object_position": null,
            "order": null,
            "overflow": null,
            "overflow_x": null,
            "overflow_y": null,
            "padding": null,
            "right": null,
            "top": null,
            "visibility": null,
            "width": null
          }
        },
        "c24aeddb9e4a468e89e30bf4d688fb0e": {
          "model_module": "@jupyter-widgets/controls",
          "model_name": "DescriptionStyleModel",
          "model_module_version": "1.5.0",
          "state": {
            "_model_module": "@jupyter-widgets/controls",
            "_model_module_version": "1.5.0",
            "_model_name": "DescriptionStyleModel",
            "_view_count": null,
            "_view_module": "@jupyter-widgets/base",
            "_view_module_version": "1.2.0",
            "_view_name": "StyleView",
            "description_width": ""
          }
        },
        "5a2f5a6e551b494cb251fba3f8b078af": {
          "model_module": "@jupyter-widgets/base",
          "model_name": "LayoutModel",
          "model_module_version": "1.2.0",
          "state": {
            "_model_module": "@jupyter-widgets/base",
            "_model_module_version": "1.2.0",
            "_model_name": "LayoutModel",
            "_view_count": null,
            "_view_module": "@jupyter-widgets/base",
            "_view_module_version": "1.2.0",
            "_view_name": "LayoutView",
            "align_content": null,
            "align_items": null,
            "align_self": null,
            "border": null,
            "bottom": null,
            "display": null,
            "flex": null,
            "flex_flow": null,
            "grid_area": null,
            "grid_auto_columns": null,
            "grid_auto_flow": null,
            "grid_auto_rows": null,
            "grid_column": null,
            "grid_gap": null,
            "grid_row": null,
            "grid_template_areas": null,
            "grid_template_columns": null,
            "grid_template_rows": null,
            "height": null,
            "justify_content": null,
            "justify_items": null,
            "left": null,
            "margin": null,
            "max_height": null,
            "max_width": null,
            "min_height": null,
            "min_width": null,
            "object_fit": null,
            "object_position": null,
            "order": null,
            "overflow": null,
            "overflow_x": null,
            "overflow_y": null,
            "padding": null,
            "right": null,
            "top": null,
            "visibility": null,
            "width": null
          }
        },
        "14facdc6eca0492093ede6a2547c7aaa": {
          "model_module": "@jupyter-widgets/controls",
          "model_name": "ProgressStyleModel",
          "model_module_version": "1.5.0",
          "state": {
            "_model_module": "@jupyter-widgets/controls",
            "_model_module_version": "1.5.0",
            "_model_name": "ProgressStyleModel",
            "_view_count": null,
            "_view_module": "@jupyter-widgets/base",
            "_view_module_version": "1.2.0",
            "_view_name": "StyleView",
            "bar_color": null,
            "description_width": ""
          }
        },
        "7134a2ffa0984c66b7f3bb993d5deab1": {
          "model_module": "@jupyter-widgets/base",
          "model_name": "LayoutModel",
          "model_module_version": "1.2.0",
          "state": {
            "_model_module": "@jupyter-widgets/base",
            "_model_module_version": "1.2.0",
            "_model_name": "LayoutModel",
            "_view_count": null,
            "_view_module": "@jupyter-widgets/base",
            "_view_module_version": "1.2.0",
            "_view_name": "LayoutView",
            "align_content": null,
            "align_items": null,
            "align_self": null,
            "border": null,
            "bottom": null,
            "display": null,
            "flex": null,
            "flex_flow": null,
            "grid_area": null,
            "grid_auto_columns": null,
            "grid_auto_flow": null,
            "grid_auto_rows": null,
            "grid_column": null,
            "grid_gap": null,
            "grid_row": null,
            "grid_template_areas": null,
            "grid_template_columns": null,
            "grid_template_rows": null,
            "height": null,
            "justify_content": null,
            "justify_items": null,
            "left": null,
            "margin": null,
            "max_height": null,
            "max_width": null,
            "min_height": null,
            "min_width": null,
            "object_fit": null,
            "object_position": null,
            "order": null,
            "overflow": null,
            "overflow_x": null,
            "overflow_y": null,
            "padding": null,
            "right": null,
            "top": null,
            "visibility": null,
            "width": null
          }
        },
        "8c12fd5415e045c48cd3cd709f95f96f": {
          "model_module": "@jupyter-widgets/controls",
          "model_name": "DescriptionStyleModel",
          "model_module_version": "1.5.0",
          "state": {
            "_model_module": "@jupyter-widgets/controls",
            "_model_module_version": "1.5.0",
            "_model_name": "DescriptionStyleModel",
            "_view_count": null,
            "_view_module": "@jupyter-widgets/base",
            "_view_module_version": "1.2.0",
            "_view_name": "StyleView",
            "description_width": ""
          }
        }
      }
    }
  },
  "cells": [
    {
      "cell_type": "markdown",
      "metadata": {
        "id": "view-in-github",
        "colab_type": "text"
      },
      "source": [
        "<a href=\"https://colab.research.google.com/github/elliemci/vision-transformer-models/blob/main/image_segmentation/maskformer_seg_training.ipynb\" target=\"_parent\"><img src=\"https://colab.research.google.com/assets/colab-badge.svg\" alt=\"Open In Colab\"/></a>"
      ]
    },
    {
      "cell_type": "markdown",
      "source": [
        "# Train and evaluate MaskFormer image segmentation model"
      ],
      "metadata": {
        "id": "Hsnrgi8mcW8t"
      }
    },
    {
      "cell_type": "code",
      "execution_count": null,
      "metadata": {
        "id": "QCLcEclYadfz"
      },
      "outputs": [],
      "source": [
        "!pip install jedi"
      ]
    },
    {
      "cell_type": "code",
      "source": [
        "!apt-get install libcairo2-dev pkg-config python3-dev"
      ],
      "metadata": {
        "id": "0bwYS_Kya1Za"
      },
      "execution_count": null,
      "outputs": []
    },
    {
      "cell_type": "code",
      "source": [
        "!pip install pycairo"
      ],
      "metadata": {
        "id": "TQkPHF5da6_N"
      },
      "execution_count": null,
      "outputs": []
    },
    {
      "cell_type": "code",
      "source": [
        "!pip install --upgrade fsspec==2024.10.0"
      ],
      "metadata": {
        "id": "VOWT4FhWa8G1"
      },
      "execution_count": null,
      "outputs": []
    },
    {
      "cell_type": "code",
      "source": [
        "!pip install datasets transformers"
      ],
      "metadata": {
        "id": "JbiP5O5Za_kd"
      },
      "execution_count": null,
      "outputs": []
    },
    {
      "cell_type": "code",
      "source": [
        "!pip install -q albumentations"
      ],
      "metadata": {
        "id": "tgWgGwzPkjZG"
      },
      "execution_count": 6,
      "outputs": []
    },
    {
      "cell_type": "code",
      "source": [
        "!pip install -q evaluate"
      ],
      "metadata": {
        "id": "NeygKkd-i7fk"
      },
      "execution_count": null,
      "outputs": []
    },
    {
      "cell_type": "code",
      "source": [
        "from google.colab import drive\n",
        "drive.mount('/content/drive')"
      ],
      "metadata": {
        "colab": {
          "base_uri": "https://localhost:8080/"
        },
        "id": "1M3NT__MbCYJ",
        "outputId": "3abef3e4-8560-4326-bdb8-09e7f1b5a10a"
      },
      "execution_count": 8,
      "outputs": [
        {
          "output_type": "stream",
          "name": "stdout",
          "text": [
            "Mounted at /content/drive\n"
          ]
        }
      ]
    },
    {
      "cell_type": "code",
      "source": [
        "%cd /content/drive/MyDrive/ColabNotebooks/ExplainableAI/image_segmentation"
      ],
      "metadata": {
        "colab": {
          "base_uri": "https://localhost:8080/"
        },
        "id": "ItQX9YuzbFMW",
        "outputId": "8bc7fbe8-15fd-40ef-c923-4f292ba2a4f8"
      },
      "execution_count": 9,
      "outputs": [
        {
          "output_type": "stream",
          "name": "stdout",
          "text": [
            "/content/drive/MyDrive/ColabNotebooks/ExplainableAI/image_segmentation\n"
          ]
        }
      ]
    },
    {
      "cell_type": "code",
      "source": [
        "import os\n",
        "import glob  # file path matching using patterns\n",
        "import cv2   # OpenCV library for computer vision tasks\n",
        "import numpy as np\n",
        "\n",
        "from PIL import Image  # python imaging library for image processing\n",
        "from matplotlib import pyplot as plt"
      ],
      "metadata": {
        "id": "Cmc8Gx7yk_yC"
      },
      "execution_count": 10,
      "outputs": []
    },
    {
      "cell_type": "markdown",
      "source": [
        "## 1. Load MRI Segmentation Dataset from Hugging Face"
      ],
      "metadata": {
        "id": "iISdHp7dbc0F"
      }
    },
    {
      "cell_type": "code",
      "source": [
        "from datasets import load_dataset\n",
        "from huggingface_hub import login\n",
        "\n",
        "login(token=input(\"Enter Hugging Face token: \"))"
      ],
      "metadata": {
        "id": "JXmwSMFObxc8"
      },
      "execution_count": null,
      "outputs": []
    },
    {
      "cell_type": "code",
      "source": [
        "# load_dataset(\"username/datasetname\", split=\"train\")\n",
        "dataset = load_dataset(\"akar49/MRI_Segmentation-1\")\n",
        "dataset"
      ],
      "metadata": {
        "id": "6t_zJJt1l99N"
      },
      "execution_count": null,
      "outputs": []
    },
    {
      "cell_type": "code",
      "source": [
        "train = dataset[\"train\"]\n",
        "test = dataset[\"validation\"]"
      ],
      "metadata": {
        "id": "k4fUBGLsmVd7"
      },
      "execution_count": 13,
      "outputs": []
    },
    {
      "cell_type": "markdown",
      "source": [
        "### Create a dictionary containg images and masks"
      ],
      "metadata": {
        "id": "IRD66ZKGbmV_"
      }
    },
    {
      "cell_type": "code",
      "source": [
        "from torch.utils.data import Dataset\n",
        "from torchvision.transforms import ToTensor"
      ],
      "metadata": {
        "id": "uzlxOGBSn8yM"
      },
      "execution_count": 14,
      "outputs": []
    },
    {
      "cell_type": "code",
      "source": [
        "class CustomDataset(Dataset):\n",
        "    def __init__(self, dataset, transform=None):\n",
        "        \"\"\" Constructor for the image segmentation dataset, a lit of image and mask pairs. \"\"\"\n",
        "        self.dataset = dataset\n",
        "        self.transform = transform\n",
        "\n",
        "\n",
        "    def __len__(self):\n",
        "      \"\"\" Gets length of dataset. \"\"\"\n",
        "      return len(self.dataset)\n",
        "\n",
        "    def __getitem__(self, idx):\n",
        "      \"\"\" For a given dataset index extract image and mask, convert image to RGB,\n",
        "          since model is trained on RGB images, normalize pixel values to [0, 1],\n",
        "          and apply transformation. \"\"\"\n",
        "\n",
        "      # extract image and mask from dataset\n",
        "      image = self.dataset[idx]['image']\n",
        "      mask  = self.dataset[idx]['label']\n",
        "\n",
        "      # convert grayscale image to RGB\n",
        "      org_image = np.stack((image,) * 3, axis=-1)\n",
        "      # convert mask to NumPy array in order to normalize\n",
        "      mask = np.array(mask)\n",
        "\n",
        "      # pass image and mask to the transform function\n",
        "      transformed = self.transform(image=org_image, mask=mask)\n",
        "      trans_image = transformed['image']\n",
        "      trans_mask = transformed['mask']\n",
        "\n",
        "      # normalize pixel values to [0, 1]\n",
        "      org_image = org_image/255.0\n",
        "      org_mask  = mask/255.0\n",
        "\n",
        "      # apply transformations provided\n",
        "      transformed = self.transform(image=org_image, mask=org_mask)\n",
        "      # access transformed image and mask\n",
        "      trans_image = transformed['image']\n",
        "      trans_mask = transformed['mask']\n",
        "\n",
        "      # transpose image dimentions changing their order from (H, W, C) to (C, H, W)\n",
        "      # in order to be compatable with Pythorch\n",
        "      trans_image = trans_image.transpose(2, 0, 1)\n",
        "\n",
        "\n",
        "      return trans_image, trans_mask, org_image, org_mask\n"
      ],
      "metadata": {
        "id": "_uQ2WxotOECW"
      },
      "execution_count": 15,
      "outputs": []
    },
    {
      "cell_type": "markdown",
      "source": [
        "### Image and masks resize transformation"
      ],
      "metadata": {
        "id": "KTcPXrlWdBq1"
      }
    },
    {
      "cell_type": "code",
      "source": [
        "import albumentations as A # albumentations library used in computer vision, specifically for image augmentation\n",
        "\n",
        "# create a transform object (optional)\n",
        "transform = A.Compose([A.Resize(width=224, height=224)])\n",
        "\n",
        "# create an instance of image segmentation custom dataset with transformations:\n",
        "custom_dataset = CustomDataset(train, transform=transform)\n",
        "\n",
        "\n",
        "# access first item in dataset\n",
        "trans_image, trans_mask, org_image, org_mask = custom_dataset[0]\n",
        "\n",
        "# verify transformation and normalization\n",
        "print(f\"original image: {org_image.shape}\")\n",
        "print(f\"original image pixel values: min={org_image.min()}, max={org_image.max()}\")\n",
        "print(f\"transformed image: {trans_image.shape}\")\n",
        "print(f\"transformed image pixel values: min={trans_image.min()}, max={trans_image.max()}\")\n",
        "\n",
        "# plot original and transform images with coresponding masks\n",
        "plt.figure(figsize=(10, 5))\n",
        "plt.subplot(1, 2, 1)\n",
        "plt.axis(\"off\")\n",
        "plt.imshow(org_image)\n",
        "plt.title(\"Original Image\")\n",
        "\n",
        "plt.subplot(1, 2, 2)\n",
        "plt.imshow(org_mask, cmap='gray')\n",
        "plt.axis(\"off\")\n",
        "plt.title(\"Original Mask\")\n",
        "plt.show()"
      ],
      "metadata": {
        "colab": {
          "base_uri": "https://localhost:8080/",
          "height": 535
        },
        "id": "OIEBRrWFRXpW",
        "outputId": "9792c15e-7b8b-447c-d979-3ef887c4b71d"
      },
      "execution_count": 16,
      "outputs": [
        {
          "output_type": "stream",
          "name": "stderr",
          "text": [
            "/usr/local/lib/python3.11/dist-packages/albumentations/__init__.py:24: UserWarning: A new version of Albumentations is available: 2.0.1 (you have 1.4.20). Upgrade using: pip install -U albumentations. To disable automatic update checks, set the environment variable NO_ALBUMENTATIONS_UPDATE to 1.\n",
            "  check_for_updates()\n"
          ]
        },
        {
          "output_type": "stream",
          "name": "stdout",
          "text": [
            "original image: (512, 512, 3)\n",
            "original image pixel values: min=0.0, max=1.0\n",
            "transformed image: (3, 224, 224)\n",
            "transformed image pixel values: min=0.0, max=0.976350540216086\n"
          ]
        },
        {
          "output_type": "display_data",
          "data": {
            "text/plain": [
              "<Figure size 1000x500 with 2 Axes>"
            ],
            "image/png": "[encoded data removed]"
          },
          "metadata": {}
        }
      ]
    },
    {
      "cell_type": "markdown",
      "source": [
        "### Transform training and test datasets"
      ],
      "metadata": {
        "id": "atExgzf9dLjp"
      }
    },
    {
      "cell_type": "code",
      "source": [
        "import torch\n",
        "import torchvision.transforms as T\n",
        "\n",
        "# define the training and test data transformation using Albumentations\n",
        "transform = A.Compose([A.Resize(width=224, height=224)])\n",
        "\n",
        "train_dataset = CustomDataset(train, transform=transform)\n",
        "test_dataset = CustomDataset(test, transform=transform)"
      ],
      "metadata": {
        "id": "oyYFqSnmRwtg"
      },
      "execution_count": 17,
      "outputs": []
    },
    {
      "cell_type": "markdown",
      "source": [
        "### Id to label mapping"
      ],
      "metadata": {
        "id": "Sry4rbxzcEIS"
      }
    },
    {
      "cell_type": "code",
      "source": [
        "id2label = {0:  'bg',\n",
        "            1:  'tumor'}\n",
        "label2id = { label: id for id, label in id2label.items() }\n",
        "n_classes = len(id2label)\n",
        "n_classes"
      ],
      "metadata": {
        "colab": {
          "base_uri": "https://localhost:8080/"
        },
        "id": "EE6vZ2l_ZAdJ",
        "outputId": "68059573-a778-4ba1-f0f0-6e04e3d358ce"
      },
      "execution_count": 18,
      "outputs": [
        {
          "output_type": "execute_result",
          "data": {
            "text/plain": [
              "2"
            ]
          },
          "metadata": {},
          "execution_count": 18
        }
      ]
    },
    {
      "cell_type": "markdown",
      "source": [
        "## 2. PyTorch DataLoders"
      ],
      "metadata": {
        "id": "agCD1zA1c0a6"
      }
    },
    {
      "cell_type": "code",
      "source": [
        "from transformers import MaskFormerImageProcessor\n",
        "\n",
        "# create a generic instance of the MaskFormerImageProcessor with specified preprocessing settings\n",
        "#image_processor = MaskFormerImageProcessor(\n",
        "    #ignore_index=255,       # ignore pixels with this index during processing\n",
        "    #reduce_labels=False,    # the processor won't reduce the label indices to a smaller range as in multiclass segmentation\n",
        "    #do_resize=False,        # already done with Albumentations\n",
        "    #do_rescale=False,\n",
        "    #do_normalize=False)\n",
        "\n",
        "# load a pre-trained MaskFormerImageProcessor from HuggingFace Hub, which comes with default preprocessing settings used for training\n",
        "image_processor = MaskFormerImageProcessor.from_pretrained(\"facebook/maskformer-swin-base-ade\")\n",
        "image_processor.ignore_index = 255\n",
        "image_processor.reduce_labels = False\n",
        "image_processor.do_resize = False\n",
        "image_processor.do_rescale = False\n",
        "image_processor.do_normalize = False"
      ],
      "metadata": {
        "id": "YufsjwulcHKZ",
        "colab": {
          "base_uri": "https://localhost:8080/",
          "height": 188,
          "referenced_widgets": [
            "aa916dd7b209438a85a78935a402905a",
            "cc5cba0619364f06b1ec52c51fa6ca85",
            "275d61a3ff0042188dbe538e05016bca",
            "c03ebd7ce0fe4a5c8b427a3c1bb8b9a8",
            "d59b27ac1ce24fa1b8e92d43fc37b381",
            "339b7919557f4a18a6cdcff97b2379e2",
            "f576d368c10a4f0c8ed89cf385509ae9",
            "926254fa1ec642eda3e3ad1b727e1646",
            "2f5082f46b9f41058dcee6a90e95caeb",
            "e5f4e7492f7746608e4235bb2c47cfa8",
            "6dfa1d7d94f047d08a7a82c711a58707",
            "a6a983e24bb64f228b180a324ada1e8c",
            "157ddbbc7c98477aaea58fe30c9c70fe",
            "0bbd29a17693413591933bb3ebb3056f",
            "698f6b5249bc40fa97dee1bba05f9587",
            "dd41d70691874af7b8e5b220f1a31b29",
            "ca62eea533ad4b86b144db6ffe667419",
            "c24aeddb9e4a468e89e30bf4d688fb0e",
            "5a2f5a6e551b494cb251fba3f8b078af",
            "14facdc6eca0492093ede6a2547c7aaa",
            "7134a2ffa0984c66b7f3bb993d5deab1",
            "8c12fd5415e045c48cd3cd709f95f96f"
          ]
        },
        "outputId": "de80d7df-ea01-479a-8c37-707d051a0c17"
      },
      "execution_count": 19,
      "outputs": [
        {
          "output_type": "stream",
          "name": "stderr",
          "text": [
            "The cache for model files in Transformers v4.22.0 has been updated. Migrating your old cache. This is a one-time only operation. You can interrupt this and resume the migration later on by calling `transformers.utils.move_cache()`.\n"
          ]
        },
        {
          "output_type": "display_data",
          "data": {
            "text/plain": [
              "0it [00:00, ?it/s]"
            ],
            "application/vnd.jupyter.widget-view+json": {
              "version_major": 2,
              "version_minor": 0,
              "model_id": "aa916dd7b209438a85a78935a402905a"
            }
          },
          "metadata": {}
        },
        {
          "output_type": "display_data",
          "data": {
            "text/plain": [
              "preprocessor_config.json:   0%|          | 0.00/380 [00:00<?, ?B/s]"
            ],
            "application/vnd.jupyter.widget-view+json": {
              "version_major": 2,
              "version_minor": 0,
              "model_id": "a6a983e24bb64f228b180a324ada1e8c"
            }
          },
          "metadata": {}
        },
        {
          "output_type": "stream",
          "name": "stderr",
          "text": [
            "/usr/local/lib/python3.11/dist-packages/transformers/utils/deprecation.py:165: FutureWarning: `max_size` is deprecated and removed starting from version 4.27.0 for `MaskFormerImageProcessor.__init__`.\n",
            "  return func(*args, **kwargs)\n",
            "/usr/local/lib/python3.11/dist-packages/transformers/utils/deprecation.py:165: UserWarning: The following named arguments are not valid for `MaskFormerImageProcessor.__init__` and were ignored: 'feature_extractor_type'\n",
            "  return func(*args, **kwargs)\n"
          ]
        }
      ]
    },
    {
      "cell_type": "code",
      "source": [
        "def collate_func(batch):\n",
        "\n",
        "    \"\"\" Custom collate function for DataLoader, for an input batch list of samples,\n",
        "    each containing transformed image, segmentation mask, original image, and\n",
        "    original segmentation mask, returning a dictionary containing processed batch data. \"\"\"\n",
        "\n",
        "    # unpack the input batch into separate lists for images and segmentation maps\n",
        "    inputs = list(zip(*batch))\n",
        "\n",
        "    images = inputs[0]\n",
        "    masks = inputs[1]\n",
        "\n",
        "    # apply the MaskFormerImageProcessor to the batch\n",
        "    batch = image_processor(\n",
        "        images,\n",
        "        segmentation_maps=masks,\n",
        "        return_tensors=\"pt\",\n",
        "    )\n",
        "\n",
        "    # add original images and segmentation maps to the processed batch\n",
        "    batch[\"org_images\"] = inputs[2]\n",
        "    batch[\"org_mask\"] = inputs[3]\n",
        "\n",
        "    return batch"
      ],
      "metadata": {
        "id": "uWlqMmgmsa7z"
      },
      "execution_count": 20,
      "outputs": []
    },
    {
      "cell_type": "code",
      "source": [
        "from torch.utils.data import DataLoader\n",
        "\n",
        "# create data loaders for training and testing datasets\n",
        "train_dataloader = DataLoader(train_dataset, batch_size=2, collate_fn=collate_func, shuffle=True, num_workers=2)\n",
        "test_dataloader = DataLoader(test_dataset, batch_size=2, collate_fn=collate_func, shuffle=False, num_workers=2)\n",
        "\n",
        "print(f\"Train dataloader number of samples: {len(train_dataloader.dataset)}\")\n",
        "print(f\"Test dataloader number of samples: {len(test_dataloader.dataset)}\")"
      ],
      "metadata": {
        "colab": {
          "base_uri": "https://localhost:8080/"
        },
        "id": "okbW5_mAg5SB",
        "outputId": "9340faa3-60bf-4028-ff8c-f380963a7af5"
      },
      "execution_count": 21,
      "outputs": [
        {
          "output_type": "stream",
          "name": "stdout",
          "text": [
            "Train dataloader number of samples: 500\n",
            "Test dataloader number of samples: 200\n"
          ]
        }
      ]
    },
    {
      "cell_type": "markdown",
      "source": [
        "### Test loading data"
      ],
      "metadata": {
        "id": "5Vfnv-h5dybK"
      }
    },
    {
      "cell_type": "code",
      "source": [
        "for batch_idx, batch in enumerate(test_dataloader):\n",
        "  print(batch.keys())\n",
        "  break"
      ],
      "metadata": {
        "colab": {
          "base_uri": "https://localhost:8080/"
        },
        "id": "NCyz4KXe7jZz",
        "outputId": "28e1131b-42f1-449d-bb95-ba50d00eb03f"
      },
      "execution_count": null,
      "outputs": [
        {
          "output_type": "stream",
          "name": "stdout",
          "text": [
            "dict_keys(['pixel_values', 'pixel_mask', 'mask_labels', 'class_labels', 'org_images', 'org_mask'])\n"
          ]
        }
      ]
    },
    {
      "cell_type": "code",
      "source": [
        "for batch_idx, batch in enumerate(train_dataloader):\n",
        "\n",
        "  images = batch[\"pixel_values\"]\n",
        "  masks = batch[\"pixel_mask\"]\n",
        "  org_images = batch[\"org_images\"]\n",
        "  org_masks = batch[\"org_mask\"]\n",
        "\n",
        "  print(f\"Training Batch {batch_idx}:\")\n",
        "  print(f\"Image shape: {images.shape}\")\n",
        "  print(f\"Mask shape: {masks.shape}\")\n",
        "  # training operations ...\n",
        "  break # break after the first batch\n",
        "\n",
        "# Example of iterating through the test data loader\n",
        "for batch_idx, batch in enumerate(test_dataloader):\n",
        "\n",
        "  images = batch[\"pixel_values\"]\n",
        "  masks = batch[\"pixel_mask\"]\n",
        "  org_images = batch[\"org_images\"]\n",
        "  org_masks = batch[\"org_mask\"]\n",
        "\n",
        "  print(f\"Tasting Batch {batch_idx}:\")\n",
        "  print(f\"Image shape: {images.shape}\")\n",
        "  print(f\"Mask shape: {masks.shape}\")\n",
        "  # testing operations ...\n",
        "  break  # break after the first batch"
      ],
      "metadata": {
        "colab": {
          "base_uri": "https://localhost:8080/"
        },
        "id": "A9ArAwXibh1C",
        "outputId": "55a6809b-97c0-4e0a-b5f2-07d80d36ae59"
      },
      "execution_count": null,
      "outputs": [
        {
          "output_type": "stream",
          "name": "stdout",
          "text": [
            "Training Batch 0:\n",
            "Image shape: torch.Size([2, 3, 224, 224])\n",
            "Mask shape: torch.Size([2, 224, 224])\n",
            "Tasting Batch 0:\n",
            "Image shape: torch.Size([2, 3, 224, 224])\n",
            "Mask shape: torch.Size([2, 224, 224])\n"
          ]
        }
      ]
    },
    {
      "cell_type": "markdown",
      "source": [
        "### Convert integer to string labels"
      ],
      "metadata": {
        "id": "GPj2ggjPhxXj"
      }
    },
    {
      "cell_type": "code",
      "source": [
        "# access class labels for first item in batch, convert the tensor into a list, itterates\n",
        "# through the list of lables and converts them into string\n",
        "class_labels = [id2label[label] for label in batch[\"class_labels\"][0].tolist()]\n",
        "print(class_labels)"
      ],
      "metadata": {
        "colab": {
          "base_uri": "https://localhost:8080/"
        },
        "id": "7zTzDDdPirWN",
        "outputId": "d6fdb55a-a087-4001-ca2a-eecd22631cb5"
      },
      "execution_count": null,
      "outputs": [
        {
          "output_type": "stream",
          "name": "stdout",
          "text": [
            "['bg', 'tumor']\n"
          ]
        }
      ]
    },
    {
      "cell_type": "markdown",
      "source": [
        "## 3. Accuracy metric"
      ],
      "metadata": {
        "id": "03JdzSR4rCBf"
      }
    },
    {
      "cell_type": "markdown",
      "source": [
        "The Mean IoU quantifies the similarity between predicted and ground truth segmentation; for Intersection being the area of overlap between the predicted segmentation and the ground truth segmentation and Union the total area covered by both the predicted segmentation and the ground truth segmentation: IoU = Intersection / Union"
      ],
      "metadata": {
        "id": "ljA4IqVNJ5Do"
      }
    },
    {
      "cell_type": "code",
      "source": [
        "import evaluate\n",
        "\n",
        "metric = evaluate.load(\"mean_iou\")"
      ],
      "metadata": {
        "colab": {
          "base_uri": "https://localhost:8080/",
          "height": 49,
          "referenced_widgets": [
            "879d46a8f5c842f1bf3f9504400597fb",
            "619da5b4ae954236ba1316a2cc89f7bd",
            "9763916414914c39aedf93a1d081107f",
            "a3cba8af5a874cbbbd9f0ecfd288759d",
            "59104ef5030246b092ed2a0ced7e9b1a",
            "a1ed57d3552b45a0b1f678e87ce705aa",
            "fc407fc03cc445509250be64d390553b",
            "0a6452fb20f2484eb831b7b685eaadd5",
            "290444beb799456b95d7af24cde75d6f",
            "eb8c13d09fc847dea5f99f247e7c8710",
            "db1e18e5f9ee4c1bb905b6acb49a2b18"
          ]
        },
        "id": "RMmneJ62rKiz",
        "outputId": "851da287-4f20-4269-b0e7-bc6aab1e1ea1"
      },
      "execution_count": null,
      "outputs": [
        {
          "output_type": "display_data",
          "data": {
            "text/plain": [
              "Downloading builder script:   0%|          | 0.00/12.9k [00:00<?, ?B/s]"
            ],
            "application/vnd.jupyter.widget-view+json": {
              "version_major": 2,
              "version_minor": 0,
              "model_id": "879d46a8f5c842f1bf3f9504400597fb"
            }
          },
          "metadata": {}
        }
      ]
    },
    {
      "cell_type": "markdown",
      "source": [
        "## 4. Load, train, evaluate model"
      ],
      "metadata": {
        "id": "utVOkbMid6JM"
      }
    },
    {
      "cell_type": "code",
      "source": [
        "from transformers import MaskFormerForInstanceSegmentation\n",
        "\n",
        "# replace pre-trained model head\n",
        "model = MaskFormerForInstanceSegmentation.from_pretrained(\"facebook/maskformer-swin-base-ade\",\n",
        "                                                            id2label=id2label,\n",
        "                                                            label2id=label2id,\n",
        "                                                            ignore_mismatched_sizes=True)"
      ],
      "metadata": {
        "colab": {
          "base_uri": "https://localhost:8080/",
          "height": 188,
          "referenced_widgets": [
            "15dd3fc878c74f89b8ca2b17fcbc7a8b",
            "b8c71238447d4eaaba0f547397a17681",
            "11ed88fa89cc46d08e06e8f22953b092",
            "34c96e53f5de4f0c94dc2fa224c8ce2c",
            "8504d232e34e42afa99b3c4dc8f1a921",
            "571cc659dcdf487b92e25140b691ce01",
            "12dfbc32c7c540109bc8d72c2cb4b65a",
            "c3ec0de010bd47a1b6e70ee3d2049f2e",
            "033bcd3749cc485386644b656ab77233",
            "e480c2cebb3f4b31b20e99a55d35fd74",
            "c611241b818c458aab764da593b6d54a",
            "4f3302cfadbd4a4b88b02d267e71bde5",
            "075698c569a843d6921119b33b57e420",
            "af1c283a4c174f54a70cb4af841bd239",
            "c673f1b98a45444ca10d0d9c8d8257d3",
            "475788a29d754c2589f53a08877f6e98",
            "8ab652f0aa3d43b9b9587fa98d592fa3",
            "10ae23c65c574730898cac1476ecad5f",
            "3eb3e271bebe41fa92a07696f021cbe8",
            "e3fbaaa5d2ed4e1bbfbc7e528fbae753",
            "05dc0f0c36f44d769efb8e23c19c286f",
            "05bfa2245fcc41698e9e258d1dadce88"
          ]
        },
        "id": "zSLGfU4_rZkS",
        "outputId": "a0e9a42f-60df-45c2-d931-2a65bcfb7fd1"
      },
      "execution_count": null,
      "outputs": [
        {
          "output_type": "display_data",
          "data": {
            "text/plain": [
              "config.json:   0%|          | 0.00/12.5k [00:00<?, ?B/s]"
            ],
            "application/vnd.jupyter.widget-view+json": {
              "version_major": 2,
              "version_minor": 0,
              "model_id": "15dd3fc878c74f89b8ca2b17fcbc7a8b"
            }
          },
          "metadata": {}
        },
        {
          "output_type": "display_data",
          "data": {
            "text/plain": [
              "pytorch_model.bin:   0%|          | 0.00/412M [00:00<?, ?B/s]"
            ],
            "application/vnd.jupyter.widget-view+json": {
              "version_major": 2,
              "version_minor": 0,
              "model_id": "4f3302cfadbd4a4b88b02d267e71bde5"
            }
          },
          "metadata": {}
        },
        {
          "output_type": "stream",
          "name": "stderr",
          "text": [
            "Some weights of MaskFormerForInstanceSegmentation were not initialized from the model checkpoint at facebook/maskformer-swin-base-ade and are newly initialized because the shapes did not match:\n",
            "- class_predictor.weight: found shape torch.Size([151, 256]) in the checkpoint and torch.Size([3, 256]) in the model instantiated\n",
            "- class_predictor.bias: found shape torch.Size([151]) in the checkpoint and torch.Size([3]) in the model instantiated\n",
            "- criterion.empty_weight: found shape torch.Size([151]) in the checkpoint and torch.Size([3]) in the model instantiated\n",
            "You should probably TRAIN this model on a down-stream task to be able to use it for predictions and inference.\n"
          ]
        }
      ]
    },
    {
      "cell_type": "code",
      "source": [
        "import torch\n",
        "import torch.nn as nn\n",
        "import torch.optim as optim\n",
        "from tqdm import tqdm\n",
        "\n",
        "device = torch.device(\"cuda\" if torch.cuda.is_available() else \"cpu\")\n",
        "model.to(device)\n",
        "\n",
        "# set optimizer\n",
        "optimizer = optim.AdamW(model.parameters(), lr=5e-5)\n",
        "\n",
        "# set loss function\n",
        "criterion = nn.CrossEntropyLoss()\n",
        "\n",
        "# initialize variables for tracking running loss and the number of sample\n",
        "running_loss = 0.0\n",
        "num_samples = 0\n",
        "num_epochs = 20"
      ],
      "metadata": {
        "id": "VxVtcLP4s0SU"
      },
      "execution_count": null,
      "outputs": []
    },
    {
      "cell_type": "markdown",
      "source": [
        "### Training loop with evaluation"
      ],
      "metadata": {
        "id": "sXu3BJJ8vOBq"
      }
    },
    {
      "cell_type": "code",
      "source": [
        "import torch\n",
        "from tqdm import tqdm\n",
        "\n",
        "class Trainer:\n",
        "    def __init__(self, model, train_dataloader, test_dataloader, optimizer, device, image_processor, id2label, metric):\n",
        "        self.model = model\n",
        "        self.train_dataloader = train_dataloader\n",
        "        self.test_dataloader = test_dataloader\n",
        "        self.optimizer = optimizer\n",
        "        self.device = device\n",
        "        self.image_processor = image_processor\n",
        "        self.id2label = id2label\n",
        "        self.metric = metric\n",
        "\n",
        "\n",
        "    def train_one_epoch(self, epoch):\n",
        "        \"\"\"Trains the model for one epoch and returns the average training loss.\"\"\"\n",
        "        self.model.train()\n",
        "        running_loss = 0.0\n",
        "        num_samples = 0\n",
        "\n",
        "        for idx, batch in enumerate(tqdm(self.train_dataloader)):\n",
        "            self.optimizer.zero_grad()\n",
        "\n",
        "            pixel_values = batch[\"pixel_values\"].to(self.device, dtype=torch.float32)\n",
        "            mask_labels = [labels.to(self.device) for labels in batch[\"mask_labels\"]]\n",
        "            class_labels = [labels.to(self.device) for labels in batch[\"class_labels\"]]\n",
        "\n",
        "            outputs = self.model(\n",
        "                pixel_values=pixel_values,\n",
        "                mask_labels=mask_labels,\n",
        "                class_labels=class_labels,\n",
        "            )\n",
        "\n",
        "            loss = outputs.loss\n",
        "            loss.backward()\n",
        "\n",
        "            batch_size = batch[\"pixel_values\"].size(0)\n",
        "            running_loss += loss.item()\n",
        "            num_samples += batch_size\n",
        "\n",
        "            if idx % 100 == 0:\n",
        "                print(\"Loss:\", running_loss / num_samples)\n",
        "\n",
        "            self.optimizer.step()\n",
        "\n",
        "        epoch_loss = running_loss / num_samples\n",
        "        print(f\"Epoch {epoch + 1}, Loss: {epoch_loss:.4f}\")\n",
        "        return epoch_loss\n",
        "\n",
        "    def evaluate(self, epoch):\n",
        "        \"\"\"Evaluates the model on the test dataset and returns the mean IoU.\"\"\"\n",
        "        self.model.eval()\n",
        "        # clear the evaluation metric before a new evaluation\n",
        "        self.metric = evaluate.load(\"mean_iou\")\n",
        "\n",
        "        with torch.no_grad():\n",
        "            for idx, batch in enumerate(tqdm(self.test_dataloader)):\n",
        "                pixel_values = batch[\"pixel_values\"].to(self.device, dtype=torch.float32)\n",
        "\n",
        "                outputs = self.model(pixel_values=pixel_values)\n",
        "\n",
        "                original_images = batch[\"org_images\"]\n",
        "                target_sizes = [(image.shape[0], image.shape[1]) for image in original_images]\n",
        "\n",
        "                predicted_segmentation_maps = self.image_processor.post_process_semantic_segmentation(\n",
        "                    outputs, target_sizes=target_sizes\n",
        "                )\n",
        "\n",
        "                ground_truth_segmentation_maps = batch[\"org_mask\"]\n",
        "\n",
        "                self.metric.add_batch(\n",
        "                    references=ground_truth_segmentation_maps,\n",
        "                    predictions=predicted_segmentation_maps\n",
        "                )\n",
        "\n",
        "        mean_iou = self.metric.compute(num_labels=len(self.id2label), ignore_index=0)[\"mean_iou\"]\n",
        "        print(f\"Epoch {epoch + 1} Mean IoU: {mean_iou}\")\n",
        "        return mean_iou\n",
        "\n",
        "    def train(self, num_epochs):\n",
        "        \"\"\"Trains the model for the specified number of epochs.\"\"\"\n",
        "        for epoch in range(num_epochs):\n",
        "            train_loss = self.train_one_epoch(epoch)\n",
        "            mean_iou = self.evaluate(epoch)\n",
        "\n",
        "# Create an instance of the Trainer and start training\n",
        "trainer = Trainer(model, train_dataloader, test_dataloader, optimizer, device, image_processor, id2label, metric)\n",
        "trainer.train(num_epochs=num_epochs)  # Train for 20 epochs"
      ],
      "metadata": {
        "colab": {
          "base_uri": "https://localhost:8080/"
        },
        "collapsed": true,
        "id": "ZeCe5oR4COsf",
        "outputId": "dd452cde-2239-4674-f8d6-dbb84aa7af38"
      },
      "execution_count": null,
      "outputs": [
        {
          "output_type": "stream",
          "name": "stderr",
          "text": [
            "  0%|          | 1/250 [00:00<03:39,  1.14it/s]"
          ]
        },
        {
          "output_type": "stream",
          "name": "stdout",
          "text": [
            "Loss: 0.026326561346650124\n"
          ]
        },
        {
          "output_type": "stream",
          "name": "stderr",
          "text": [
            " 40%|████      | 101/250 [00:27<00:36,  4.03it/s]"
          ]
        },
        {
          "output_type": "stream",
          "name": "stdout",
          "text": [
            "Loss: 0.03409979844668714\n"
          ]
        },
        {
          "output_type": "stream",
          "name": "stderr",
          "text": [
            " 80%|████████  | 201/250 [00:54<00:12,  4.05it/s]"
          ]
        },
        {
          "output_type": "stream",
          "name": "stdout",
          "text": [
            "Loss: 0.039997399390781695\n"
          ]
        },
        {
          "output_type": "stream",
          "name": "stderr",
          "text": [
            "100%|██████████| 250/250 [01:07<00:00,  3.71it/s]\n"
          ]
        },
        {
          "output_type": "stream",
          "name": "stdout",
          "text": [
            "Epoch 1, Loss: 0.0409\n"
          ]
        },
        {
          "output_type": "stream",
          "name": "stderr",
          "text": [
            "  0%|          | 0/100 [00:00<?, ?it/s]/usr/local/lib/python3.11/dist-packages/datasets/features/image.py:348: UserWarning: Downcasting array dtype int64 to int32 to be compatible with 'Pillow'\n",
            "  warnings.warn(f\"Downcasting array dtype {dtype} to {dest_dtype} to be compatible with 'Pillow'\")\n",
            "100%|██████████| 100/100 [00:15<00:00,  6.63it/s]\n",
            "/root/.cache/huggingface/modules/evaluate_modules/metrics/evaluate-metric--mean_iou/9e450724f21f05592bfb0255fe2fa576df8171fa060d11121d8aecfff0db80d0/mean_iou.py:260: RuntimeWarning: invalid value encountered in divide\n",
            "  acc = total_area_intersect / total_area_label\n"
          ]
        },
        {
          "output_type": "stream",
          "name": "stdout",
          "text": [
            "Epoch 1 Mean IoU: 0.4472720681529817\n"
          ]
        },
        {
          "output_type": "stream",
          "name": "stderr",
          "text": [
            "  0%|          | 1/250 [00:00<02:35,  1.60it/s]"
          ]
        },
        {
          "output_type": "stream",
          "name": "stdout",
          "text": [
            "Loss: 0.03471022844314575\n"
          ]
        },
        {
          "output_type": "stream",
          "name": "stderr",
          "text": [
            " 40%|████      | 101/250 [00:27<00:38,  3.87it/s]"
          ]
        },
        {
          "output_type": "stream",
          "name": "stdout",
          "text": [
            "Loss: 0.03415878993080984\n"
          ]
        },
        {
          "output_type": "stream",
          "name": "stderr",
          "text": [
            " 80%|████████  | 201/250 [00:52<00:14,  3.38it/s]"
          ]
        },
        {
          "output_type": "stream",
          "name": "stdout",
          "text": [
            "Loss: 0.032517235573214384\n"
          ]
        },
        {
          "output_type": "stream",
          "name": "stderr",
          "text": [
            "100%|██████████| 250/250 [01:07<00:00,  3.72it/s]\n"
          ]
        },
        {
          "output_type": "stream",
          "name": "stdout",
          "text": [
            "Epoch 2, Loss: 0.0322\n"
          ]
        },
        {
          "output_type": "stream",
          "name": "stderr",
          "text": [
            "100%|██████████| 100/100 [00:14<00:00,  6.98it/s]\n"
          ]
        },
        {
          "output_type": "stream",
          "name": "stdout",
          "text": [
            "Epoch 2 Mean IoU: 0.46680109963144223\n"
          ]
        },
        {
          "output_type": "stream",
          "name": "stderr",
          "text": [
            "  0%|          | 1/250 [00:00<03:34,  1.16it/s]"
          ]
        },
        {
          "output_type": "stream",
          "name": "stdout",
          "text": [
            "Loss: 0.0319649912416935\n"
          ]
        },
        {
          "output_type": "stream",
          "name": "stderr",
          "text": [
            " 40%|████      | 101/250 [00:27<00:35,  4.16it/s]"
          ]
        },
        {
          "output_type": "stream",
          "name": "stdout",
          "text": [
            "Loss: 0.03241616896916144\n"
          ]
        },
        {
          "output_type": "stream",
          "name": "stderr",
          "text": [
            " 80%|████████  | 201/250 [00:53<00:11,  4.14it/s]"
          ]
        },
        {
          "output_type": "stream",
          "name": "stdout",
          "text": [
            "Loss: 0.0305963939945422\n"
          ]
        },
        {
          "output_type": "stream",
          "name": "stderr",
          "text": [
            "100%|██████████| 250/250 [01:06<00:00,  3.73it/s]\n"
          ]
        },
        {
          "output_type": "stream",
          "name": "stdout",
          "text": [
            "Epoch 3, Loss: 0.0307\n"
          ]
        },
        {
          "output_type": "stream",
          "name": "stderr",
          "text": [
            "100%|██████████| 100/100 [00:14<00:00,  6.67it/s]\n"
          ]
        },
        {
          "output_type": "stream",
          "name": "stdout",
          "text": [
            "Epoch 3 Mean IoU: 0.4687536503333132\n"
          ]
        },
        {
          "output_type": "stream",
          "name": "stderr",
          "text": [
            "  0%|          | 1/250 [00:00<02:28,  1.68it/s]"
          ]
        },
        {
          "output_type": "stream",
          "name": "stdout",
          "text": [
            "Loss: 0.022289324551820755\n"
          ]
        },
        {
          "output_type": "stream",
          "name": "stderr",
          "text": [
            " 40%|████      | 101/250 [00:27<00:45,  3.26it/s]"
          ]
        },
        {
          "output_type": "stream",
          "name": "stdout",
          "text": [
            "Loss: 0.027419156422561937\n"
          ]
        },
        {
          "output_type": "stream",
          "name": "stderr",
          "text": [
            " 80%|████████  | 201/250 [00:52<00:11,  4.09it/s]"
          ]
        },
        {
          "output_type": "stream",
          "name": "stdout",
          "text": [
            "Loss: 0.029360364005896287\n"
          ]
        },
        {
          "output_type": "stream",
          "name": "stderr",
          "text": [
            "100%|██████████| 250/250 [01:06<00:00,  3.78it/s]\n"
          ]
        },
        {
          "output_type": "stream",
          "name": "stdout",
          "text": [
            "Epoch 4, Loss: 0.0320\n"
          ]
        },
        {
          "output_type": "stream",
          "name": "stderr",
          "text": [
            "100%|██████████| 100/100 [00:15<00:00,  6.58it/s]\n"
          ]
        },
        {
          "output_type": "stream",
          "name": "stdout",
          "text": [
            "Epoch 4 Mean IoU: 0.4743424365093751\n"
          ]
        },
        {
          "output_type": "stream",
          "name": "stderr",
          "text": [
            "  0%|          | 1/250 [00:00<02:21,  1.76it/s]"
          ]
        },
        {
          "output_type": "stream",
          "name": "stdout",
          "text": [
            "Loss: 0.04033815860748291\n"
          ]
        },
        {
          "output_type": "stream",
          "name": "stderr",
          "text": [
            " 40%|████      | 101/250 [00:27<00:36,  4.09it/s]"
          ]
        },
        {
          "output_type": "stream",
          "name": "stdout",
          "text": [
            "Loss: 0.03830202904041156\n"
          ]
        },
        {
          "output_type": "stream",
          "name": "stderr",
          "text": [
            " 80%|████████  | 201/250 [00:54<00:13,  3.77it/s]"
          ]
        },
        {
          "output_type": "stream",
          "name": "stdout",
          "text": [
            "Loss: 0.03729281448457965\n"
          ]
        },
        {
          "output_type": "stream",
          "name": "stderr",
          "text": [
            "100%|██████████| 250/250 [01:06<00:00,  3.73it/s]\n"
          ]
        },
        {
          "output_type": "stream",
          "name": "stdout",
          "text": [
            "Epoch 5, Loss: 0.0357\n"
          ]
        },
        {
          "output_type": "stream",
          "name": "stderr",
          "text": [
            "100%|██████████| 100/100 [00:15<00:00,  6.35it/s]\n"
          ]
        },
        {
          "output_type": "stream",
          "name": "stdout",
          "text": [
            "Epoch 5 Mean IoU: 0.4697047509717439\n"
          ]
        },
        {
          "output_type": "stream",
          "name": "stderr",
          "text": [
            "  0%|          | 1/250 [00:00<02:39,  1.57it/s]"
          ]
        },
        {
          "output_type": "stream",
          "name": "stdout",
          "text": [
            "Loss: 0.032106850296258926\n"
          ]
        },
        {
          "output_type": "stream",
          "name": "stderr",
          "text": [
            " 40%|████      | 101/250 [00:28<00:49,  3.04it/s]"
          ]
        },
        {
          "output_type": "stream",
          "name": "stdout",
          "text": [
            "Loss: 0.024835804339018788\n"
          ]
        },
        {
          "output_type": "stream",
          "name": "stderr",
          "text": [
            " 80%|████████  | 201/250 [00:53<00:11,  4.24it/s]"
          ]
        },
        {
          "output_type": "stream",
          "name": "stdout",
          "text": [
            "Loss: 0.02514101669136713\n"
          ]
        },
        {
          "output_type": "stream",
          "name": "stderr",
          "text": [
            "100%|██████████| 250/250 [01:07<00:00,  3.73it/s]\n"
          ]
        },
        {
          "output_type": "stream",
          "name": "stdout",
          "text": [
            "Epoch 6, Loss: 0.0251\n"
          ]
        },
        {
          "output_type": "stream",
          "name": "stderr",
          "text": [
            "100%|██████████| 100/100 [00:15<00:00,  6.62it/s]\n"
          ]
        },
        {
          "output_type": "stream",
          "name": "stdout",
          "text": [
            "Epoch 6 Mean IoU: 0.46115340462811916\n"
          ]
        },
        {
          "output_type": "stream",
          "name": "stderr",
          "text": [
            "  0%|          | 1/250 [00:00<02:21,  1.77it/s]"
          ]
        },
        {
          "output_type": "stream",
          "name": "stdout",
          "text": [
            "Loss: 0.019288981333374977\n"
          ]
        },
        {
          "output_type": "stream",
          "name": "stderr",
          "text": [
            " 40%|████      | 101/250 [00:27<00:36,  4.12it/s]"
          ]
        },
        {
          "output_type": "stream",
          "name": "stdout",
          "text": [
            "Loss: 0.023869971707832106\n"
          ]
        },
        {
          "output_type": "stream",
          "name": "stderr",
          "text": [
            " 80%|████████  | 201/250 [00:54<00:12,  3.97it/s]"
          ]
        },
        {
          "output_type": "stream",
          "name": "stdout",
          "text": [
            "Loss: 0.02325575549470548\n"
          ]
        },
        {
          "output_type": "stream",
          "name": "stderr",
          "text": [
            "100%|██████████| 250/250 [01:07<00:00,  3.72it/s]\n"
          ]
        },
        {
          "output_type": "stream",
          "name": "stdout",
          "text": [
            "Epoch 7, Loss: 0.0230\n"
          ]
        },
        {
          "output_type": "stream",
          "name": "stderr",
          "text": [
            "100%|██████████| 100/100 [00:14<00:00,  6.67it/s]\n"
          ]
        },
        {
          "output_type": "stream",
          "name": "stdout",
          "text": [
            "Epoch 7 Mean IoU: 0.46038658288522344\n"
          ]
        },
        {
          "output_type": "stream",
          "name": "stderr",
          "text": [
            "  0%|          | 1/250 [00:00<02:34,  1.61it/s]"
          ]
        },
        {
          "output_type": "stream",
          "name": "stdout",
          "text": [
            "Loss: 0.02140587754547596\n"
          ]
        },
        {
          "output_type": "stream",
          "name": "stderr",
          "text": [
            " 40%|████      | 101/250 [00:26<00:44,  3.33it/s]"
          ]
        },
        {
          "output_type": "stream",
          "name": "stdout",
          "text": [
            "Loss: 0.02025476691894012\n"
          ]
        },
        {
          "output_type": "stream",
          "name": "stderr",
          "text": [
            " 80%|████████  | 201/250 [00:53<00:16,  2.92it/s]"
          ]
        },
        {
          "output_type": "stream",
          "name": "stdout",
          "text": [
            "Loss: 0.020320380477243986\n"
          ]
        },
        {
          "output_type": "stream",
          "name": "stderr",
          "text": [
            "100%|██████████| 250/250 [01:06<00:00,  3.76it/s]\n"
          ]
        },
        {
          "output_type": "stream",
          "name": "stdout",
          "text": [
            "Epoch 8, Loss: 0.0208\n"
          ]
        },
        {
          "output_type": "stream",
          "name": "stderr",
          "text": [
            "100%|██████████| 100/100 [00:15<00:00,  6.62it/s]\n"
          ]
        },
        {
          "output_type": "stream",
          "name": "stdout",
          "text": [
            "Epoch 8 Mean IoU: 0.4611821038003746\n"
          ]
        },
        {
          "output_type": "stream",
          "name": "stderr",
          "text": [
            "  0%|          | 1/250 [00:00<02:32,  1.63it/s]"
          ]
        },
        {
          "output_type": "stream",
          "name": "stdout",
          "text": [
            "Loss: 0.021790826693177223\n"
          ]
        },
        {
          "output_type": "stream",
          "name": "stderr",
          "text": [
            " 40%|████      | 101/250 [00:29<00:35,  4.19it/s]"
          ]
        },
        {
          "output_type": "stream",
          "name": "stdout",
          "text": [
            "Loss: 0.02145842199979147\n"
          ]
        },
        {
          "output_type": "stream",
          "name": "stderr",
          "text": [
            " 80%|████████  | 201/250 [00:55<00:12,  4.05it/s]"
          ]
        },
        {
          "output_type": "stream",
          "name": "stdout",
          "text": [
            "Loss: 0.02133835134888763\n"
          ]
        },
        {
          "output_type": "stream",
          "name": "stderr",
          "text": [
            "100%|██████████| 250/250 [01:08<00:00,  3.64it/s]\n"
          ]
        },
        {
          "output_type": "stream",
          "name": "stdout",
          "text": [
            "Epoch 9, Loss: 0.0214\n"
          ]
        },
        {
          "output_type": "stream",
          "name": "stderr",
          "text": [
            "100%|██████████| 100/100 [00:14<00:00,  6.73it/s]\n"
          ]
        },
        {
          "output_type": "stream",
          "name": "stdout",
          "text": [
            "Epoch 9 Mean IoU: 0.4642700340362113\n"
          ]
        },
        {
          "output_type": "stream",
          "name": "stderr",
          "text": [
            "  0%|          | 1/250 [00:00<02:24,  1.72it/s]"
          ]
        },
        {
          "output_type": "stream",
          "name": "stdout",
          "text": [
            "Loss: 0.012957250699400902\n"
          ]
        },
        {
          "output_type": "stream",
          "name": "stderr",
          "text": [
            " 40%|████      | 101/250 [00:26<00:43,  3.40it/s]"
          ]
        },
        {
          "output_type": "stream",
          "name": "stdout",
          "text": [
            "Loss: 0.020485093853998892\n"
          ]
        },
        {
          "output_type": "stream",
          "name": "stderr",
          "text": [
            " 80%|████████  | 201/250 [00:53<00:11,  4.15it/s]"
          ]
        },
        {
          "output_type": "stream",
          "name": "stdout",
          "text": [
            "Loss: 0.019700067377283206\n"
          ]
        },
        {
          "output_type": "stream",
          "name": "stderr",
          "text": [
            "100%|██████████| 250/250 [01:06<00:00,  3.74it/s]\n"
          ]
        },
        {
          "output_type": "stream",
          "name": "stdout",
          "text": [
            "Epoch 10, Loss: 0.0197\n"
          ]
        },
        {
          "output_type": "stream",
          "name": "stderr",
          "text": [
            "100%|██████████| 100/100 [00:15<00:00,  6.63it/s]\n"
          ]
        },
        {
          "output_type": "stream",
          "name": "stdout",
          "text": [
            "Epoch 10 Mean IoU: 0.4638189031881256\n"
          ]
        },
        {
          "output_type": "stream",
          "name": "stderr",
          "text": [
            "  0%|          | 1/250 [00:00<02:27,  1.69it/s]"
          ]
        },
        {
          "output_type": "stream",
          "name": "stdout",
          "text": [
            "Loss: 0.025509046390652657\n"
          ]
        },
        {
          "output_type": "stream",
          "name": "stderr",
          "text": [
            " 40%|████      | 101/250 [00:27<00:38,  3.91it/s]"
          ]
        },
        {
          "output_type": "stream",
          "name": "stdout",
          "text": [
            "Loss: 0.017964732445924\n"
          ]
        },
        {
          "output_type": "stream",
          "name": "stderr",
          "text": [
            " 80%|████████  | 201/250 [00:54<00:15,  3.14it/s]"
          ]
        },
        {
          "output_type": "stream",
          "name": "stdout",
          "text": [
            "Loss: 0.018069674580622076\n"
          ]
        },
        {
          "output_type": "stream",
          "name": "stderr",
          "text": [
            "100%|██████████| 250/250 [01:06<00:00,  3.75it/s]\n"
          ]
        },
        {
          "output_type": "stream",
          "name": "stdout",
          "text": [
            "Epoch 11, Loss: 0.0188\n"
          ]
        },
        {
          "output_type": "stream",
          "name": "stderr",
          "text": [
            "100%|██████████| 100/100 [00:14<00:00,  6.90it/s]\n"
          ]
        },
        {
          "output_type": "stream",
          "name": "stdout",
          "text": [
            "Epoch 11 Mean IoU: 0.4660403198195477\n"
          ]
        },
        {
          "output_type": "stream",
          "name": "stderr",
          "text": [
            "  0%|          | 1/250 [00:00<03:41,  1.12it/s]"
          ]
        },
        {
          "output_type": "stream",
          "name": "stdout",
          "text": [
            "Loss: 0.015750085934996605\n"
          ]
        },
        {
          "output_type": "stream",
          "name": "stderr",
          "text": [
            " 40%|████      | 101/250 [00:27<00:37,  3.99it/s]"
          ]
        },
        {
          "output_type": "stream",
          "name": "stdout",
          "text": [
            "Loss: 0.01748867707769617\n"
          ]
        },
        {
          "output_type": "stream",
          "name": "stderr",
          "text": [
            " 80%|████████  | 201/250 [00:56<00:11,  4.17it/s]"
          ]
        },
        {
          "output_type": "stream",
          "name": "stdout",
          "text": [
            "Loss: 0.018375210725790382\n"
          ]
        },
        {
          "output_type": "stream",
          "name": "stderr",
          "text": [
            "100%|██████████| 250/250 [01:09<00:00,  3.59it/s]\n"
          ]
        },
        {
          "output_type": "stream",
          "name": "stdout",
          "text": [
            "Epoch 12, Loss: 0.0184\n"
          ]
        },
        {
          "output_type": "stream",
          "name": "stderr",
          "text": [
            "100%|██████████| 100/100 [00:14<00:00,  6.69it/s]\n"
          ]
        },
        {
          "output_type": "stream",
          "name": "stdout",
          "text": [
            "Epoch 12 Mean IoU: 0.4572226250176223\n"
          ]
        },
        {
          "output_type": "stream",
          "name": "stderr",
          "text": [
            "  0%|          | 1/250 [00:00<02:34,  1.61it/s]"
          ]
        },
        {
          "output_type": "stream",
          "name": "stdout",
          "text": [
            "Loss: 0.02310534194111824\n"
          ]
        },
        {
          "output_type": "stream",
          "name": "stderr",
          "text": [
            " 40%|████      | 101/250 [00:27<00:46,  3.18it/s]"
          ]
        },
        {
          "output_type": "stream",
          "name": "stdout",
          "text": [
            "Loss: 0.017343174205115525\n"
          ]
        },
        {
          "output_type": "stream",
          "name": "stderr",
          "text": [
            " 80%|████████  | 201/250 [00:53<00:11,  4.08it/s]"
          ]
        },
        {
          "output_type": "stream",
          "name": "stdout",
          "text": [
            "Loss: 0.022772113838932705\n"
          ]
        },
        {
          "output_type": "stream",
          "name": "stderr",
          "text": [
            "100%|██████████| 250/250 [01:06<00:00,  3.78it/s]\n"
          ]
        },
        {
          "output_type": "stream",
          "name": "stdout",
          "text": [
            "Epoch 13, Loss: 0.0288\n"
          ]
        },
        {
          "output_type": "stream",
          "name": "stderr",
          "text": [
            "100%|██████████| 100/100 [00:15<00:00,  6.59it/s]\n"
          ]
        },
        {
          "output_type": "stream",
          "name": "stdout",
          "text": [
            "Epoch 13 Mean IoU: 0.4240242281433146\n"
          ]
        },
        {
          "output_type": "stream",
          "name": "stderr",
          "text": [
            "  0%|          | 1/250 [00:00<02:39,  1.57it/s]"
          ]
        },
        {
          "output_type": "stream",
          "name": "stdout",
          "text": [
            "Loss: 0.049532655626535416\n"
          ]
        },
        {
          "output_type": "stream",
          "name": "stderr",
          "text": [
            " 40%|████      | 101/250 [00:27<00:37,  4.02it/s]"
          ]
        },
        {
          "output_type": "stream",
          "name": "stdout",
          "text": [
            "Loss: 0.05084740185169595\n"
          ]
        },
        {
          "output_type": "stream",
          "name": "stderr",
          "text": [
            " 80%|████████  | 201/250 [00:54<00:12,  4.02it/s]"
          ]
        },
        {
          "output_type": "stream",
          "name": "stdout",
          "text": [
            "Loss: 0.037904673483018854\n"
          ]
        },
        {
          "output_type": "stream",
          "name": "stderr",
          "text": [
            "100%|██████████| 250/250 [01:07<00:00,  3.71it/s]\n"
          ]
        },
        {
          "output_type": "stream",
          "name": "stdout",
          "text": [
            "Epoch 14, Loss: 0.0350\n"
          ]
        },
        {
          "output_type": "stream",
          "name": "stderr",
          "text": [
            "100%|██████████| 100/100 [00:14<00:00,  6.67it/s]\n"
          ]
        },
        {
          "output_type": "stream",
          "name": "stdout",
          "text": [
            "Epoch 14 Mean IoU: 0.4656853563732302\n"
          ]
        },
        {
          "output_type": "stream",
          "name": "stderr",
          "text": [
            "  0%|          | 1/250 [00:00<02:16,  1.82it/s]"
          ]
        },
        {
          "output_type": "stream",
          "name": "stdout",
          "text": [
            "Loss: 0.023849207907915115\n"
          ]
        },
        {
          "output_type": "stream",
          "name": "stderr",
          "text": [
            " 40%|████      | 101/250 [00:26<00:44,  3.34it/s]"
          ]
        },
        {
          "output_type": "stream",
          "name": "stdout",
          "text": [
            "Loss: 0.03025192984997636\n"
          ]
        },
        {
          "output_type": "stream",
          "name": "stderr",
          "text": [
            " 80%|████████  | 201/250 [00:56<00:12,  4.05it/s]"
          ]
        },
        {
          "output_type": "stream",
          "name": "stdout",
          "text": [
            "Loss: 0.03174969275014021\n"
          ]
        },
        {
          "output_type": "stream",
          "name": "stderr",
          "text": [
            "100%|██████████| 250/250 [01:09<00:00,  3.59it/s]\n"
          ]
        },
        {
          "output_type": "stream",
          "name": "stdout",
          "text": [
            "Epoch 15, Loss: 0.0295\n"
          ]
        },
        {
          "output_type": "stream",
          "name": "stderr",
          "text": [
            "100%|██████████| 100/100 [00:15<00:00,  6.35it/s]\n"
          ]
        },
        {
          "output_type": "stream",
          "name": "stdout",
          "text": [
            "Epoch 15 Mean IoU: 0.460226471713693\n"
          ]
        },
        {
          "output_type": "stream",
          "name": "stderr",
          "text": [
            "  0%|          | 1/250 [00:00<02:32,  1.63it/s]"
          ]
        },
        {
          "output_type": "stream",
          "name": "stdout",
          "text": [
            "Loss: 0.015369807370007038\n"
          ]
        },
        {
          "output_type": "stream",
          "name": "stderr",
          "text": [
            " 40%|████      | 101/250 [00:28<00:37,  4.00it/s]"
          ]
        },
        {
          "output_type": "stream",
          "name": "stdout",
          "text": [
            "Loss: 0.019532604880704737\n"
          ]
        },
        {
          "output_type": "stream",
          "name": "stderr",
          "text": [
            " 80%|████████  | 201/250 [00:54<00:16,  2.93it/s]"
          ]
        },
        {
          "output_type": "stream",
          "name": "stdout",
          "text": [
            "Loss: 0.01969151077467707\n"
          ]
        },
        {
          "output_type": "stream",
          "name": "stderr",
          "text": [
            "100%|██████████| 250/250 [01:07<00:00,  3.70it/s]\n"
          ]
        },
        {
          "output_type": "stream",
          "name": "stdout",
          "text": [
            "Epoch 16, Loss: 0.0195\n"
          ]
        },
        {
          "output_type": "stream",
          "name": "stderr",
          "text": [
            "100%|██████████| 100/100 [00:14<00:00,  6.72it/s]\n"
          ]
        },
        {
          "output_type": "stream",
          "name": "stdout",
          "text": [
            "Epoch 16 Mean IoU: 0.4649195416188347\n"
          ]
        },
        {
          "output_type": "stream",
          "name": "stderr",
          "text": [
            "  0%|          | 1/250 [00:00<02:37,  1.58it/s]"
          ]
        },
        {
          "output_type": "stream",
          "name": "stdout",
          "text": [
            "Loss: 0.016131967306137085\n"
          ]
        },
        {
          "output_type": "stream",
          "name": "stderr",
          "text": [
            " 40%|████      | 101/250 [00:26<00:44,  3.34it/s]"
          ]
        },
        {
          "output_type": "stream",
          "name": "stdout",
          "text": [
            "Loss: 0.028462592848936225\n"
          ]
        },
        {
          "output_type": "stream",
          "name": "stderr",
          "text": [
            " 80%|████████  | 201/250 [00:53<00:12,  4.05it/s]"
          ]
        },
        {
          "output_type": "stream",
          "name": "stdout",
          "text": [
            "Loss: 0.026351270495232806\n"
          ]
        },
        {
          "output_type": "stream",
          "name": "stderr",
          "text": [
            "100%|██████████| 250/250 [01:07<00:00,  3.72it/s]\n"
          ]
        },
        {
          "output_type": "stream",
          "name": "stdout",
          "text": [
            "Epoch 17, Loss: 0.0250\n"
          ]
        },
        {
          "output_type": "stream",
          "name": "stderr",
          "text": [
            "100%|██████████| 100/100 [00:14<00:00,  6.75it/s]\n"
          ]
        },
        {
          "output_type": "stream",
          "name": "stdout",
          "text": [
            "Epoch 17 Mean IoU: 0.45529726300525647\n"
          ]
        },
        {
          "output_type": "stream",
          "name": "stderr",
          "text": [
            "  0%|          | 1/250 [00:00<02:17,  1.81it/s]"
          ]
        },
        {
          "output_type": "stream",
          "name": "stdout",
          "text": [
            "Loss: 0.012605337426066399\n"
          ]
        },
        {
          "output_type": "stream",
          "name": "stderr",
          "text": [
            " 40%|████      | 101/250 [00:27<00:36,  4.12it/s]"
          ]
        },
        {
          "output_type": "stream",
          "name": "stdout",
          "text": [
            "Loss: 0.017073886137049975\n"
          ]
        },
        {
          "output_type": "stream",
          "name": "stderr",
          "text": [
            " 80%|████████  | 201/250 [00:55<00:19,  2.55it/s]"
          ]
        },
        {
          "output_type": "stream",
          "name": "stdout",
          "text": [
            "Loss: 0.017499326774618816\n"
          ]
        },
        {
          "output_type": "stream",
          "name": "stderr",
          "text": [
            "100%|██████████| 250/250 [01:08<00:00,  3.65it/s]\n"
          ]
        },
        {
          "output_type": "stream",
          "name": "stdout",
          "text": [
            "Epoch 18, Loss: 0.0180\n"
          ]
        },
        {
          "output_type": "stream",
          "name": "stderr",
          "text": [
            "100%|██████████| 100/100 [00:14<00:00,  6.82it/s]\n"
          ]
        },
        {
          "output_type": "stream",
          "name": "stdout",
          "text": [
            "Epoch 18 Mean IoU: 0.4440889775038769\n"
          ]
        },
        {
          "output_type": "stream",
          "name": "stderr",
          "text": [
            "  0%|          | 1/250 [00:00<03:47,  1.09it/s]"
          ]
        },
        {
          "output_type": "stream",
          "name": "stdout",
          "text": [
            "Loss: 0.019520029425621033\n"
          ]
        },
        {
          "output_type": "stream",
          "name": "stderr",
          "text": [
            " 40%|████      | 101/250 [00:27<00:36,  4.13it/s]"
          ]
        },
        {
          "output_type": "stream",
          "name": "stdout",
          "text": [
            "Loss: 0.016699654889283794\n"
          ]
        },
        {
          "output_type": "stream",
          "name": "stderr",
          "text": [
            " 80%|████████  | 201/250 [00:55<00:11,  4.10it/s]"
          ]
        },
        {
          "output_type": "stream",
          "name": "stdout",
          "text": [
            "Loss: 0.016630341465682236\n"
          ]
        },
        {
          "output_type": "stream",
          "name": "stderr",
          "text": [
            "100%|██████████| 250/250 [01:08<00:00,  3.65it/s]\n"
          ]
        },
        {
          "output_type": "stream",
          "name": "stdout",
          "text": [
            "Epoch 19, Loss: 0.0164\n"
          ]
        },
        {
          "output_type": "stream",
          "name": "stderr",
          "text": [
            "100%|██████████| 100/100 [00:15<00:00,  6.66it/s]\n"
          ]
        },
        {
          "output_type": "stream",
          "name": "stdout",
          "text": [
            "Epoch 19 Mean IoU: 0.46071184017078526\n"
          ]
        },
        {
          "output_type": "stream",
          "name": "stderr",
          "text": [
            "  0%|          | 1/250 [00:00<02:29,  1.67it/s]"
          ]
        },
        {
          "output_type": "stream",
          "name": "stdout",
          "text": [
            "Loss: 0.017417196184396744\n"
          ]
        },
        {
          "output_type": "stream",
          "name": "stderr",
          "text": [
            " 40%|████      | 101/250 [00:27<00:44,  3.38it/s]"
          ]
        },
        {
          "output_type": "stream",
          "name": "stdout",
          "text": [
            "Loss: 0.01663882445802193\n"
          ]
        },
        {
          "output_type": "stream",
          "name": "stderr",
          "text": [
            " 80%|████████  | 201/250 [00:53<00:13,  3.52it/s]"
          ]
        },
        {
          "output_type": "stream",
          "name": "stdout",
          "text": [
            "Loss: 0.01532930195961722\n"
          ]
        },
        {
          "output_type": "stream",
          "name": "stderr",
          "text": [
            "100%|██████████| 250/250 [01:06<00:00,  3.75it/s]\n"
          ]
        },
        {
          "output_type": "stream",
          "name": "stdout",
          "text": [
            "Epoch 20, Loss: 0.0153\n"
          ]
        },
        {
          "output_type": "stream",
          "name": "stderr",
          "text": [
            "100%|██████████| 100/100 [00:15<00:00,  6.42it/s]\n"
          ]
        },
        {
          "output_type": "stream",
          "name": "stdout",
          "text": [
            "Epoch 20 Mean IoU: 0.4616815700964695\n"
          ]
        }
      ]
    },
    {
      "cell_type": "code",
      "source": [
        "# upload trained model to Huggingface hub\n",
        "#model.push_to_hub(\"elliemci/Maskformer_MRIseg_model\")\n",
        "\n",
        "# save model weigths\n",
        "model.save_pretrained(\"maskformer_tumor_segmentation\")"
      ],
      "metadata": {
        "colab": {
          "base_uri": "https://localhost:8080/"
        },
        "id": "FbOrJzNjT5qR",
        "outputId": "d520dbfa-b699-4b5f-e078-22f135a14341"
      },
      "execution_count": null,
      "outputs": [
        {
          "output_type": "stream",
          "name": "stderr",
          "text": [
            "Backbone maskformer-swin is not a supported model and may not be compatible with MaskFormer. Supported model types: resnet,swin\n"
          ]
        }
      ]
    },
    {
      "cell_type": "code",
      "source": [
        "!ls"
      ],
      "metadata": {
        "colab": {
          "base_uri": "https://localhost:8080/"
        },
        "id": "vvHBr38uXkVt",
        "outputId": "467b18ae-761e-4c8b-87cb-121441e9eb95"
      },
      "execution_count": null,
      "outputs": [
        {
          "output_type": "stream",
          "name": "stdout",
          "text": [
            "data_preproces.ipynb\t       mri_data_seg\t\t     transformer_seg_training.ipynb\n",
            "maskformer_seg_training.ipynb  segformer_tumor_segmentation\n",
            "maskformer_tumor_segmentation  segmentation_dataset\n"
          ]
        }
      ]
    },
    {
      "cell_type": "markdown",
      "source": [
        "## 5. Inference"
      ],
      "metadata": {
        "id": "knV0eCPKeBVn"
      }
    },
    {
      "cell_type": "code",
      "source": [
        "from transformers import MaskFormerForInstanceSegmentation\n",
        "\n",
        "# load trained model weigths\n",
        "trained_model = MaskFormerForInstanceSegmentation.from_pretrained(\"maskformer_tumor_segmentation\")"
      ],
      "metadata": {
        "colab": {
          "base_uri": "https://localhost:8080/"
        },
        "id": "zb9qkzmlQfLW",
        "outputId": "c270a154-74ad-417c-ca0c-e91ce1952971"
      },
      "execution_count": 23,
      "outputs": [
        {
          "output_type": "stream",
          "name": "stderr",
          "text": [
            "Backbone maskformer-swin is not a supported model and may not be compatible with MaskFormer. Supported model types: resnet,swin\n"
          ]
        }
      ]
    },
    {
      "cell_type": "markdown",
      "source": [
        "Load 10 test images, predict and display original image with ground truth mask and predicted mask"
      ],
      "metadata": {
        "id": "vxm5ZvzXVoV9"
      }
    },
    {
      "cell_type": "code",
      "source": [
        "test_dataloader = DataLoader(test_dataset, batch_size=10, shuffle=True, collate_fn=collate_func)\n",
        "\n",
        "# print information about the batch data\n",
        "batch = next(iter(test_dataloader))\n",
        "for k, v in batch.items():\n",
        "    if isinstance(v, torch.Tensor):\n",
        "        print(k, v.shape)\n",
        "    else:\n",
        "        print(k, len(v))"
      ],
      "metadata": {
        "colab": {
          "base_uri": "https://localhost:8080/"
        },
        "id": "akFHWY6qNsSd",
        "outputId": "a987e8c8-6834-4494-b7f1-79a51464bd43"
      },
      "execution_count": 25,
      "outputs": [
        {
          "output_type": "stream",
          "name": "stdout",
          "text": [
            "pixel_values torch.Size([10, 3, 224, 224])\n",
            "pixel_mask torch.Size([10, 224, 224])\n",
            "mask_labels 10\n",
            "class_labels 10\n",
            "org_images 10\n",
            "org_mask 10\n"
          ]
        }
      ]
    },
    {
      "cell_type": "code",
      "source": [
        "import matplotlib.pyplot as plt\n",
        "\n",
        "\n",
        "device = torch.device(\"cuda\" if torch.cuda.is_available() else \"cpu\")\n",
        "trained_model.to(device)\n",
        "\n",
        "trained_model.eval()\n",
        "\n",
        "num_test_images = 9\n",
        "\n",
        "#take the firs test batch\n",
        "for i, batch in enumerate(test_dataloader):\n",
        "    if i >= 1:\n",
        "        break\n",
        "\n",
        "    pixel_values = batch[\"pixel_values\"].to(device, dtype=torch.float32)\n",
        "\n",
        "    # run the model on the first batch data\n",
        "    with torch.no_grad():\n",
        "      outputs = trained_model(pixel_values=pixel_values)\n",
        "\n",
        "    original_images = batch[\"org_images\"]\n",
        "    target_sizes = [(image.shape[0], image.shape[1]) for image in original_images]\n",
        "\n",
        "    predicted_masks = image_processor.post_process_semantic_segmentation(outputs, target_sizes=target_sizes)\n",
        "    true_masks= batch[\"org_mask\"]\n",
        "\n",
        "    for j in range(int(num_test_images/3)):  # iterate through 9 images in the first batch\n",
        "        plt.figure(figsize=(15, 5))\n",
        "\n",
        "        plt.subplot(1, 3, 1)\n",
        "        plt.imshow(original_images[j])\n",
        "        plt.title(f\"Original Image\")\n",
        "        plt.axis(\"off\")\n",
        "\n",
        "        plt.subplot(1, 3, 2)\n",
        "        plt.imshow(true_masks[j], cmap=\"gray\")  # Display as grayscale\n",
        "        plt.title(\"Ground Truth Mask\")\n",
        "        plt.axis(\"off\")\n",
        "\n",
        "        plt.subplot(1, 3, 3)\n",
        "        plt.imshow(predicted_masks[j].cpu().numpy(), cmap=\"gray\")  # Display as grayscale\n",
        "        plt.title(f\"Predicted Mask mean IoU:{round(calculate_mean_iou(true_masks[j], predicted_masks[j]), 4)}\")\n",
        "        plt.axis(\"off\")\n",
        "\n",
        "        plt.show()"
      ],
      "metadata": {
        "collapsed": true,
        "id": "B4gmepvpWEGC",
        "colab": {
          "base_uri": "https://localhost:8080/",
          "height": 832
        },
        "outputId": "a5ab9bb0-827e-4c68-efe2-97d6479df737"
      },
      "execution_count": 45,
      "outputs": [
        {
          "output_type": "display_data",
          "data": {
            "text/plain": [
              "<Figure size 1500x500 with 3 Axes>"
            ],
            "image/png": "[encoded data removed]"
          },
          "metadata": {}
        },
        {
          "output_type": "display_data",
          "data": {
            "text/plain": [
              "<Figure size 1500x500 with 3 Axes>"
            ],
            "image/png": "[encoded data removed]"
          },
          "metadata": {}
        },
        {
          "output_type": "display_data",
          "data": {
            "text/plain": [
              "<Figure size 1500x500 with 3 Axes>"
            ],
            "image/png": "[encoded data removed]"
          },
          "metadata": {}
        }
      ]
    },
    {
      "cell_type": "markdown",
      "source": [
        "## 6. Dice Loss"
      ],
      "metadata": {
        "id": "CJmAFl9xj-bi"
      }
    },
    {
      "cell_type": "markdown",
      "source": [
        "The Dice loss function is commonly used in medical image segmentation. It's derived from the Dice coefficient which measures the similarity between the predicted segmentation and the ground truth segmentation:<br> <center>Dice = (2 * |X ∩ Y|) / (|X| + |Y|)</center><br>\n",
        "* X represents the predicted segmentation.\n",
        "* Y represents the ground truth segmentation.\n",
        "* |X ∩ Y| represents the number of pixels where both X and Y have a positive prediction (intersection).\n",
        "* |X| represents the total number of pixels predicted as positive in X.\n",
        "* |Y| represents the total number of pixels predicted as positive in Y.<br><br>\n",
        "<center>Dice Loss = 1 - Dice coefficient</center><br>\n",
        "It handles Class Imbalance: The Dice loss is less sensitive to class imbalance, making it suitable for segmentation tasks where one class might be significantly under-represented compared to others (e.g., segmenting small tumors in medical images).\n",
        "Focuses on Overlap: It directly optimizes for the overlap between the predicted and ground truth segmentations, which is often the primary goal in segmentation.\n",
        "Differentiable: The Dice loss is differentiable, allowing it to be used with gradient-based optimization algorithms during training.\n",
        "\n"
      ],
      "metadata": {
        "id": "amZPG4044Ntd"
      }
    },
    {
      "cell_type": "code",
      "source": [
        "import torch\n",
        "import numpy as np\n",
        "\n",
        "def calculate_dice_score(predicted_masks, ground_truth_masks):\n",
        "    \"\"\" Calculates the average Dice score for a batch of predicted and ground truth segmentation masks. \"\"\"\n",
        "\n",
        "    dice_scores = []\n",
        "    for i in range(len(predicted_masks)):\n",
        "        # if a tensor convert to NumPy arrays\n",
        "        if isinstance(predicted_masks[i], torch.Tensor):\n",
        "            predicted_mask = predicted_masks[i].cpu().numpy()\n",
        "        else:\n",
        "            predicted_mask = predicted_masks[i]\n",
        "        if isinstance(ground_truth_masks[i], torch.Tensor):\n",
        "            ground_truth_mask = ground_truth_masks[i].cpu().numpy()\n",
        "        else:\n",
        "            ground_truth_mask = ground_truth_masks[i]\n",
        "\n",
        "        # flatten the masks\n",
        "        predicted_mask = predicted_mask.flatten()\n",
        "        ground_truth_mask = ground_truth_mask.flatten()\n",
        "\n",
        "        # calculate intersection and union\n",
        "        intersection = np.sum(predicted_mask * ground_truth_mask)\n",
        "        union = np.sum(predicted_mask) + np.sum(ground_truth_mask)\n",
        "\n",
        "        # calculate Dice score\n",
        "        dice_score = (2 * intersection) / (union + 1e-7)  # add small epsilon to avoid division by zero\n",
        "        dice_scores.append(dice_score)\n",
        "\n",
        "    # return the average Dice score\n",
        "    return np.mean(dice_scores)"
      ],
      "metadata": {
        "id": "vq3zLyGP8RBO"
      },
      "execution_count": 29,
      "outputs": []
    },
    {
      "cell_type": "code",
      "source": [
        "dice_score = calculate_dice_score(predicted_masks, ground_truth_masks)\n",
        "print(f\"Average Dice score for 10 test images: {dice_score}\")"
      ],
      "metadata": {
        "id": "izsNmDVB8WgO",
        "colab": {
          "base_uri": "https://localhost:8080/"
        },
        "outputId": "bc12bb56-311f-402b-f11e-12a9c6a05b77"
      },
      "execution_count": 30,
      "outputs": [
        {
          "output_type": "stream",
          "name": "stdout",
          "text": [
            "Average Dice score for 10 test images: 0.947733924327142\n"
          ]
        }
      ]
    },
    {
      "cell_type": "markdown",
      "source": [
        "## Custom Estimation of mean IoU"
      ],
      "metadata": {
        "id": "oM1zvGs_TdqK"
      }
    },
    {
      "cell_type": "code",
      "source": [
        "def calculate_iou(true_mask, pred_mask):\n",
        "  # if necessary convert pytorch tensors to numpy arrays\n",
        "  true_mask = true_mask.cpu().numpy() if isinstance(true_mask, torch.Tensor) else true_mask\n",
        "  pred_mask = pred_mask.cpu().numpy() if isinstance(pred_mask, torch.Tensor) else pred_mask\n",
        "\n",
        "  intersection = np.logical_and(true_mask, pred_mask)\n",
        "  union = np.logical_or(true_mask, pred_mask)\n",
        "  iou = np.sum(intersection)/np.sum(union)\n",
        "\n",
        "  return iou\n",
        "\n",
        "def calculate_mean_iou(true_mask, pred_mask):\n",
        "  # list to store the IoU values for each class label\n",
        "  class_iou = []\n",
        "  # iterate through each class label {0, 1} represented in the ground truth mask\n",
        "  for i in range(int(np.max(true_mask))):\n",
        "    # create a binary mask for the current label class i;\n",
        "    # it contains True where true_mask pixels equal i and False elsewhere\n",
        "    true_mask_i = (true_mask == i)\n",
        "    pred_mask_i = (pred_mask == i)\n",
        "    class_iou.append(calculate_iou(true_mask_i, pred_mask_i))\n",
        "  # take the average of all the class-size IoU values\n",
        "  mean_iou = np.mean(class_iou)\n",
        "  return mean_iou"
      ],
      "metadata": {
        "id": "d_3LYh06TcIg"
      },
      "execution_count": 41,
      "outputs": []
    },
    {
      "cell_type": "code",
      "source": [
        "for i, batch in enumerate(test_dataloader):\n",
        "\n",
        "    if i >= 1:\n",
        "        break\n",
        "\n",
        "    pixel_values = batch[\"pixel_values\"].to(device, dtype=torch.float32)\n",
        "\n",
        "    # run the model on the first batch data\n",
        "    with torch.no_grad():\n",
        "      outputs = trained_model(pixel_values=pixel_values)\n",
        "\n",
        "    original_images = batch[\"org_images\"]\n",
        "    target_sizes = [(image.shape[0], image.shape[1]) for image in original_images]\n",
        "\n",
        "    for j in range(num_test_images):\n",
        "      predicted_mask = image_processor.post_process_semantic_segmentation(outputs, target_sizes=target_sizes)[j]\n",
        "      true_mask = batch[\"org_mask\"][j]\n",
        "      # calculate mean IoU for the current pair of masks\n",
        "      iou_score = calculate_mean_iou(true_mask, predicted_mask)\n",
        "\n",
        "      print(f\"mean IoU score for sample {j}: {iou_score}\")"
      ],
      "metadata": {
        "colab": {
          "base_uri": "https://localhost:8080/"
        },
        "id": "Szsb70zIaFgZ",
        "outputId": "386e5eb4-32e5-43dd-b5b4-94eadb317844"
      },
      "execution_count": 42,
      "outputs": [
        {
          "output_type": "stream",
          "name": "stdout",
          "text": [
            "mean IoU score for sample 0: 0.9987209351901737\n",
            "mean IoU score for sample 1: 0.9975842975462977\n",
            "mean IoU score for sample 2: 0.9975585804833933\n",
            "mean IoU score for sample 3: 0.9988907291145092\n",
            "mean IoU score for sample 4: 0.9956422369045799\n",
            "mean IoU score for sample 5: 0.9989652159249437\n",
            "mean IoU score for sample 6: 0.9991423736341152\n",
            "mean IoU score for sample 7: 0.9990008307269435\n",
            "mean IoU score for sample 8: 0.9991516412478935\n"
          ]
        }
      ]
    }
  ]
}