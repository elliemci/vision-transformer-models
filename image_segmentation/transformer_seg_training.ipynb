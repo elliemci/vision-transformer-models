{
  "nbformat": 4,
  "nbformat_minor": 0,
  "metadata": {
    "colab": {
      "provenance": [],
      "gpuType": "T4",
      "collapsed_sections": [
        "Vf-ot4dHlWoM",
        "25ZiC4EoMZYS",
        "RGtocLEjMyBf",
        "yHANDpo3q_SD",
        "5CMLZyCIlKmP"
      ],
      "authorship_tag": "ABX9TyOfI/Psc1bolNagGy6HYxkY",
      "include_colab_link": true
    },
    "kernelspec": {
      "name": "python3",
      "display_name": "Python 3"
    },
    "language_info": {
      "name": "python"
    },
    "accelerator": "GPU",
    "widgets": {
      "application/vnd.jupyter.widget-state+json": {
        "6340a9c21d194e0783edceff28eea1e7": {
          "model_module": "@jupyter-widgets/controls",
          "model_name": "HBoxModel",
          "model_module_version": "1.5.0",
          "state": {
            "_dom_classes": [],
            "_model_module": "@jupyter-widgets/controls",
            "_model_module_version": "1.5.0",
            "_model_name": "HBoxModel",
            "_view_count": null,
            "_view_module": "@jupyter-widgets/controls",
            "_view_module_version": "1.5.0",
            "_view_name": "HBoxView",
            "box_style": "",
            "children": [
              "IPY_MODEL_536af197b3c84c3aaa40d38868f1bcd0",
              "IPY_MODEL_626fdb42f1a24511af020e85fe4eed52",
              "IPY_MODEL_ed3d0c20c90a417d92638a17c074aeee"
            ],
            "layout": "IPY_MODEL_2bbf13efed2841a88ef2f26946bcd8e3"
          }
        },
        "536af197b3c84c3aaa40d38868f1bcd0": {
          "model_module": "@jupyter-widgets/controls",
          "model_name": "HTMLModel",
          "model_module_version": "1.5.0",
          "state": {
            "_dom_classes": [],
            "_model_module": "@jupyter-widgets/controls",
            "_model_module_version": "1.5.0",
            "_model_name": "HTMLModel",
            "_view_count": null,
            "_view_module": "@jupyter-widgets/controls",
            "_view_module_version": "1.5.0",
            "_view_name": "HTMLView",
            "description": "",
            "description_tooltip": null,
            "layout": "IPY_MODEL_3f949008c1424842b90fbe2897e1c00d",
            "placeholder": "​",
            "style": "IPY_MODEL_0bab806e25664499b0b46ea015d43d1c",
            "value": "preprocessor_config.json: 100%"
          }
        },
        "626fdb42f1a24511af020e85fe4eed52": {
          "model_module": "@jupyter-widgets/controls",
          "model_name": "FloatProgressModel",
          "model_module_version": "1.5.0",
          "state": {
            "_dom_classes": [],
            "_model_module": "@jupyter-widgets/controls",
            "_model_module_version": "1.5.0",
            "_model_name": "FloatProgressModel",
            "_view_count": null,
            "_view_module": "@jupyter-widgets/controls",
            "_view_module_version": "1.5.0",
            "_view_name": "ProgressView",
            "bar_style": "success",
            "description": "",
            "description_tooltip": null,
            "layout": "IPY_MODEL_9034777416804d45b1313da1dd896831",
            "max": 271,
            "min": 0,
            "orientation": "horizontal",
            "style": "IPY_MODEL_9864676cb54e4c17a86ebf2620b04d3e",
            "value": 271
          }
        },
        "ed3d0c20c90a417d92638a17c074aeee": {
          "model_module": "@jupyter-widgets/controls",
          "model_name": "HTMLModel",
          "model_module_version": "1.5.0",
          "state": {
            "_dom_classes": [],
            "_model_module": "@jupyter-widgets/controls",
            "_model_module_version": "1.5.0",
            "_model_name": "HTMLModel",
            "_view_count": null,
            "_view_module": "@jupyter-widgets/controls",
            "_view_module_version": "1.5.0",
            "_view_name": "HTMLView",
            "description": "",
            "description_tooltip": null,
            "layout": "IPY_MODEL_8bed86c3f4774babbeb1460f1c5796f2",
            "placeholder": "​",
            "style": "IPY_MODEL_c346b998fb0644e88a874dc108b36c56",
            "value": " 271/271 [00:00&lt;00:00, 19.3kB/s]"
          }
        },
        "2bbf13efed2841a88ef2f26946bcd8e3": {
          "model_module": "@jupyter-widgets/base",
          "model_name": "LayoutModel",
          "model_module_version": "1.2.0",
          "state": {
            "_model_module": "@jupyter-widgets/base",
            "_model_module_version": "1.2.0",
            "_model_name": "LayoutModel",
            "_view_count": null,
            "_view_module": "@jupyter-widgets/base",
            "_view_module_version": "1.2.0",
            "_view_name": "LayoutView",
            "align_content": null,
            "align_items": null,
            "align_self": null,
            "border": null,
            "bottom": null,
            "display": null,
            "flex": null,
            "flex_flow": null,
            "grid_area": null,
            "grid_auto_columns": null,
            "grid_auto_flow": null,
            "grid_auto_rows": null,
            "grid_column": null,
            "grid_gap": null,
            "grid_row": null,
            "grid_template_areas": null,
            "grid_template_columns": null,
            "grid_template_rows": null,
            "height": null,
            "justify_content": null,
            "justify_items": null,
            "left": null,
            "margin": null,
            "max_height": null,
            "max_width": null,
            "min_height": null,
            "min_width": null,
            "object_fit": null,
            "object_position": null,
            "order": null,
            "overflow": null,
            "overflow_x": null,
            "overflow_y": null,
            "padding": null,
            "right": null,
            "top": null,
            "visibility": null,
            "width": null
          }
        },
        "3f949008c1424842b90fbe2897e1c00d": {
          "model_module": "@jupyter-widgets/base",
          "model_name": "LayoutModel",
          "model_module_version": "1.2.0",
          "state": {
            "_model_module": "@jupyter-widgets/base",
            "_model_module_version": "1.2.0",
            "_model_name": "LayoutModel",
            "_view_count": null,
            "_view_module": "@jupyter-widgets/base",
            "_view_module_version": "1.2.0",
            "_view_name": "LayoutView",
            "align_content": null,
            "align_items": null,
            "align_self": null,
            "border": null,
            "bottom": null,
            "display": null,
            "flex": null,
            "flex_flow": null,
            "grid_area": null,
            "grid_auto_columns": null,
            "grid_auto_flow": null,
            "grid_auto_rows": null,
            "grid_column": null,
            "grid_gap": null,
            "grid_row": null,
            "grid_template_areas": null,
            "grid_template_columns": null,
            "grid_template_rows": null,
            "height": null,
            "justify_content": null,
            "justify_items": null,
            "left": null,
            "margin": null,
            "max_height": null,
            "max_width": null,
            "min_height": null,
            "min_width": null,
            "object_fit": null,
            "object_position": null,
            "order": null,
            "overflow": null,
            "overflow_x": null,
            "overflow_y": null,
            "padding": null,
            "right": null,
            "top": null,
            "visibility": null,
            "width": null
          }
        },
        "0bab806e25664499b0b46ea015d43d1c": {
          "model_module": "@jupyter-widgets/controls",
          "model_name": "DescriptionStyleModel",
          "model_module_version": "1.5.0",
          "state": {
            "_model_module": "@jupyter-widgets/controls",
            "_model_module_version": "1.5.0",
            "_model_name": "DescriptionStyleModel",
            "_view_count": null,
            "_view_module": "@jupyter-widgets/base",
            "_view_module_version": "1.2.0",
            "_view_name": "StyleView",
            "description_width": ""
          }
        },
        "9034777416804d45b1313da1dd896831": {
          "model_module": "@jupyter-widgets/base",
          "model_name": "LayoutModel",
          "model_module_version": "1.2.0",
          "state": {
            "_model_module": "@jupyter-widgets/base",
            "_model_module_version": "1.2.0",
            "_model_name": "LayoutModel",
            "_view_count": null,
            "_view_module": "@jupyter-widgets/base",
            "_view_module_version": "1.2.0",
            "_view_name": "LayoutView",
            "align_content": null,
            "align_items": null,
            "align_self": null,
            "border": null,
            "bottom": null,
            "display": null,
            "flex": null,
            "flex_flow": null,
            "grid_area": null,
            "grid_auto_columns": null,
            "grid_auto_flow": null,
            "grid_auto_rows": null,
            "grid_column": null,
            "grid_gap": null,
            "grid_row": null,
            "grid_template_areas": null,
            "grid_template_columns": null,
            "grid_template_rows": null,
            "height": null,
            "justify_content": null,
            "justify_items": null,
            "left": null,
            "margin": null,
            "max_height": null,
            "max_width": null,
            "min_height": null,
            "min_width": null,
            "object_fit": null,
            "object_position": null,
            "order": null,
            "overflow": null,
            "overflow_x": null,
            "overflow_y": null,
            "padding": null,
            "right": null,
            "top": null,
            "visibility": null,
            "width": null
          }
        },
        "9864676cb54e4c17a86ebf2620b04d3e": {
          "model_module": "@jupyter-widgets/controls",
          "model_name": "ProgressStyleModel",
          "model_module_version": "1.5.0",
          "state": {
            "_model_module": "@jupyter-widgets/controls",
            "_model_module_version": "1.5.0",
            "_model_name": "ProgressStyleModel",
            "_view_count": null,
            "_view_module": "@jupyter-widgets/base",
            "_view_module_version": "1.2.0",
            "_view_name": "StyleView",
            "bar_color": null,
            "description_width": ""
          }
        },
        "8bed86c3f4774babbeb1460f1c5796f2": {
          "model_module": "@jupyter-widgets/base",
          "model_name": "LayoutModel",
          "model_module_version": "1.2.0",
          "state": {
            "_model_module": "@jupyter-widgets/base",
            "_model_module_version": "1.2.0",
            "_model_name": "LayoutModel",
            "_view_count": null,
            "_view_module": "@jupyter-widgets/base",
            "_view_module_version": "1.2.0",
            "_view_name": "LayoutView",
            "align_content": null,
            "align_items": null,
            "align_self": null,
            "border": null,
            "bottom": null,
            "display": null,
            "flex": null,
            "flex_flow": null,
            "grid_area": null,
            "grid_auto_columns": null,
            "grid_auto_flow": null,
            "grid_auto_rows": null,
            "grid_column": null,
            "grid_gap": null,
            "grid_row": null,
            "grid_template_areas": null,
            "grid_template_columns": null,
            "grid_template_rows": null,
            "height": null,
            "justify_content": null,
            "justify_items": null,
            "left": null,
            "margin": null,
            "max_height": null,
            "max_width": null,
            "min_height": null,
            "min_width": null,
            "object_fit": null,
            "object_position": null,
            "order": null,
            "overflow": null,
            "overflow_x": null,
            "overflow_y": null,
            "padding": null,
            "right": null,
            "top": null,
            "visibility": null,
            "width": null
          }
        },
        "c346b998fb0644e88a874dc108b36c56": {
          "model_module": "@jupyter-widgets/controls",
          "model_name": "DescriptionStyleModel",
          "model_module_version": "1.5.0",
          "state": {
            "_model_module": "@jupyter-widgets/controls",
            "_model_module_version": "1.5.0",
            "_model_name": "DescriptionStyleModel",
            "_view_count": null,
            "_view_module": "@jupyter-widgets/base",
            "_view_module_version": "1.2.0",
            "_view_name": "StyleView",
            "description_width": ""
          }
        },
        "ad7793cd68c34655ac833ad6e051bfb4": {
          "model_module": "@jupyter-widgets/controls",
          "model_name": "HBoxModel",
          "model_module_version": "1.5.0",
          "state": {
            "_dom_classes": [],
            "_model_module": "@jupyter-widgets/controls",
            "_model_module_version": "1.5.0",
            "_model_name": "HBoxModel",
            "_view_count": null,
            "_view_module": "@jupyter-widgets/controls",
            "_view_module_version": "1.5.0",
            "_view_name": "HBoxView",
            "box_style": "",
            "children": [
              "IPY_MODEL_d7843de8128042ca8f6a08d0187173b4",
              "IPY_MODEL_9a68724b2b944d558c94e489075f3430",
              "IPY_MODEL_b06154c979f34f90b111513b6da9daeb"
            ],
            "layout": "IPY_MODEL_f72d948257d2429889a336bdd2fb79e8"
          }
        },
        "d7843de8128042ca8f6a08d0187173b4": {
          "model_module": "@jupyter-widgets/controls",
          "model_name": "HTMLModel",
          "model_module_version": "1.5.0",
          "state": {
            "_dom_classes": [],
            "_model_module": "@jupyter-widgets/controls",
            "_model_module_version": "1.5.0",
            "_model_name": "HTMLModel",
            "_view_count": null,
            "_view_module": "@jupyter-widgets/controls",
            "_view_module_version": "1.5.0",
            "_view_name": "HTMLView",
            "description": "",
            "description_tooltip": null,
            "layout": "IPY_MODEL_319abeae564849f3863556a63480e044",
            "placeholder": "​",
            "style": "IPY_MODEL_72a4db27fba04bf6a07cc65f42c1b6b7",
            "value": "preprocessor_config.json: 100%"
          }
        },
        "9a68724b2b944d558c94e489075f3430": {
          "model_module": "@jupyter-widgets/controls",
          "model_name": "FloatProgressModel",
          "model_module_version": "1.5.0",
          "state": {
            "_dom_classes": [],
            "_model_module": "@jupyter-widgets/controls",
            "_model_module_version": "1.5.0",
            "_model_name": "FloatProgressModel",
            "_view_count": null,
            "_view_module": "@jupyter-widgets/controls",
            "_view_module_version": "1.5.0",
            "_view_name": "ProgressView",
            "bar_style": "success",
            "description": "",
            "description_tooltip": null,
            "layout": "IPY_MODEL_74d4e0b4fe70455d80bb09ad902051fe",
            "max": 271,
            "min": 0,
            "orientation": "horizontal",
            "style": "IPY_MODEL_a8de5312b7e546528ab8d0092e69e826",
            "value": 271
          }
        },
        "b06154c979f34f90b111513b6da9daeb": {
          "model_module": "@jupyter-widgets/controls",
          "model_name": "HTMLModel",
          "model_module_version": "1.5.0",
          "state": {
            "_dom_classes": [],
            "_model_module": "@jupyter-widgets/controls",
            "_model_module_version": "1.5.0",
            "_model_name": "HTMLModel",
            "_view_count": null,
            "_view_module": "@jupyter-widgets/controls",
            "_view_module_version": "1.5.0",
            "_view_name": "HTMLView",
            "description": "",
            "description_tooltip": null,
            "layout": "IPY_MODEL_60fc1b6919f54baa93c66a52952fcdc3",
            "placeholder": "​",
            "style": "IPY_MODEL_21b39ed427b149e1aa591e6ab578fd43",
            "value": " 271/271 [00:00&lt;00:00, 11.6kB/s]"
          }
        },
        "f72d948257d2429889a336bdd2fb79e8": {
          "model_module": "@jupyter-widgets/base",
          "model_name": "LayoutModel",
          "model_module_version": "1.2.0",
          "state": {
            "_model_module": "@jupyter-widgets/base",
            "_model_module_version": "1.2.0",
            "_model_name": "LayoutModel",
            "_view_count": null,
            "_view_module": "@jupyter-widgets/base",
            "_view_module_version": "1.2.0",
            "_view_name": "LayoutView",
            "align_content": null,
            "align_items": null,
            "align_self": null,
            "border": null,
            "bottom": null,
            "display": null,
            "flex": null,
            "flex_flow": null,
            "grid_area": null,
            "grid_auto_columns": null,
            "grid_auto_flow": null,
            "grid_auto_rows": null,
            "grid_column": null,
            "grid_gap": null,
            "grid_row": null,
            "grid_template_areas": null,
            "grid_template_columns": null,
            "grid_template_rows": null,
            "height": null,
            "justify_content": null,
            "justify_items": null,
            "left": null,
            "margin": null,
            "max_height": null,
            "max_width": null,
            "min_height": null,
            "min_width": null,
            "object_fit": null,
            "object_position": null,
            "order": null,
            "overflow": null,
            "overflow_x": null,
            "overflow_y": null,
            "padding": null,
            "right": null,
            "top": null,
            "visibility": null,
            "width": null
          }
        },
        "319abeae564849f3863556a63480e044": {
          "model_module": "@jupyter-widgets/base",
          "model_name": "LayoutModel",
          "model_module_version": "1.2.0",
          "state": {
            "_model_module": "@jupyter-widgets/base",
            "_model_module_version": "1.2.0",
            "_model_name": "LayoutModel",
            "_view_count": null,
            "_view_module": "@jupyter-widgets/base",
            "_view_module_version": "1.2.0",
            "_view_name": "LayoutView",
            "align_content": null,
            "align_items": null,
            "align_self": null,
            "border": null,
            "bottom": null,
            "display": null,
            "flex": null,
            "flex_flow": null,
            "grid_area": null,
            "grid_auto_columns": null,
            "grid_auto_flow": null,
            "grid_auto_rows": null,
            "grid_column": null,
            "grid_gap": null,
            "grid_row": null,
            "grid_template_areas": null,
            "grid_template_columns": null,
            "grid_template_rows": null,
            "height": null,
            "justify_content": null,
            "justify_items": null,
            "left": null,
            "margin": null,
            "max_height": null,
            "max_width": null,
            "min_height": null,
            "min_width": null,
            "object_fit": null,
            "object_position": null,
            "order": null,
            "overflow": null,
            "overflow_x": null,
            "overflow_y": null,
            "padding": null,
            "right": null,
            "top": null,
            "visibility": null,
            "width": null
          }
        },
        "72a4db27fba04bf6a07cc65f42c1b6b7": {
          "model_module": "@jupyter-widgets/controls",
          "model_name": "DescriptionStyleModel",
          "model_module_version": "1.5.0",
          "state": {
            "_model_module": "@jupyter-widgets/controls",
            "_model_module_version": "1.5.0",
            "_model_name": "DescriptionStyleModel",
            "_view_count": null,
            "_view_module": "@jupyter-widgets/base",
            "_view_module_version": "1.2.0",
            "_view_name": "StyleView",
            "description_width": ""
          }
        },
        "74d4e0b4fe70455d80bb09ad902051fe": {
          "model_module": "@jupyter-widgets/base",
          "model_name": "LayoutModel",
          "model_module_version": "1.2.0",
          "state": {
            "_model_module": "@jupyter-widgets/base",
            "_model_module_version": "1.2.0",
            "_model_name": "LayoutModel",
            "_view_count": null,
            "_view_module": "@jupyter-widgets/base",
            "_view_module_version": "1.2.0",
            "_view_name": "LayoutView",
            "align_content": null,
            "align_items": null,
            "align_self": null,
            "border": null,
            "bottom": null,
            "display": null,
            "flex": null,
            "flex_flow": null,
            "grid_area": null,
            "grid_auto_columns": null,
            "grid_auto_flow": null,
            "grid_auto_rows": null,
            "grid_column": null,
            "grid_gap": null,
            "grid_row": null,
            "grid_template_areas": null,
            "grid_template_columns": null,
            "grid_template_rows": null,
            "height": null,
            "justify_content": null,
            "justify_items": null,
            "left": null,
            "margin": null,
            "max_height": null,
            "max_width": null,
            "min_height": null,
            "min_width": null,
            "object_fit": null,
            "object_position": null,
            "order": null,
            "overflow": null,
            "overflow_x": null,
            "overflow_y": null,
            "padding": null,
            "right": null,
            "top": null,
            "visibility": null,
            "width": null
          }
        },
        "a8de5312b7e546528ab8d0092e69e826": {
          "model_module": "@jupyter-widgets/controls",
          "model_name": "ProgressStyleModel",
          "model_module_version": "1.5.0",
          "state": {
            "_model_module": "@jupyter-widgets/controls",
            "_model_module_version": "1.5.0",
            "_model_name": "ProgressStyleModel",
            "_view_count": null,
            "_view_module": "@jupyter-widgets/base",
            "_view_module_version": "1.2.0",
            "_view_name": "StyleView",
            "bar_color": null,
            "description_width": ""
          }
        },
        "60fc1b6919f54baa93c66a52952fcdc3": {
          "model_module": "@jupyter-widgets/base",
          "model_name": "LayoutModel",
          "model_module_version": "1.2.0",
          "state": {
            "_model_module": "@jupyter-widgets/base",
            "_model_module_version": "1.2.0",
            "_model_name": "LayoutModel",
            "_view_count": null,
            "_view_module": "@jupyter-widgets/base",
            "_view_module_version": "1.2.0",
            "_view_name": "LayoutView",
            "align_content": null,
            "align_items": null,
            "align_self": null,
            "border": null,
            "bottom": null,
            "display": null,
            "flex": null,
            "flex_flow": null,
            "grid_area": null,
            "grid_auto_columns": null,
            "grid_auto_flow": null,
            "grid_auto_rows": null,
            "grid_column": null,
            "grid_gap": null,
            "grid_row": null,
            "grid_template_areas": null,
            "grid_template_columns": null,
            "grid_template_rows": null,
            "height": null,
            "justify_content": null,
            "justify_items": null,
            "left": null,
            "margin": null,
            "max_height": null,
            "max_width": null,
            "min_height": null,
            "min_width": null,
            "object_fit": null,
            "object_position": null,
            "order": null,
            "overflow": null,
            "overflow_x": null,
            "overflow_y": null,
            "padding": null,
            "right": null,
            "top": null,
            "visibility": null,
            "width": null
          }
        },
        "21b39ed427b149e1aa591e6ab578fd43": {
          "model_module": "@jupyter-widgets/controls",
          "model_name": "DescriptionStyleModel",
          "model_module_version": "1.5.0",
          "state": {
            "_model_module": "@jupyter-widgets/controls",
            "_model_module_version": "1.5.0",
            "_model_name": "DescriptionStyleModel",
            "_view_count": null,
            "_view_module": "@jupyter-widgets/base",
            "_view_module_version": "1.2.0",
            "_view_name": "StyleView",
            "description_width": ""
          }
        }
      }
    }
  },
  "cells": [
    {
      "cell_type": "markdown",
      "metadata": {
        "id": "view-in-github",
        "colab_type": "text"
      },
      "source": [
        "<a href=\"https://colab.research.google.com/github/elliemci/vision-transformer-models/blob/main/image_segmentation/transformer_seg_training.ipynb\" target=\"_parent\"><img src=\"https://colab.research.google.com/assets/colab-badge.svg\" alt=\"Open In Colab\"/></a>"
      ]
    },
    {
      "cell_type": "markdown",
      "source": [
        "# MRI image segmentation with SegFormer"
      ],
      "metadata": {
        "id": "sR-8-pXvkZ9Z"
      }
    },
    {
      "cell_type": "markdown",
      "source": [
        "Train a deep-learning-based semantic segmentation transformer model to identify the tumor locations and boundaries within MRI brain images, using brain images and coresponding ground truth masks. Pnce trained, SegFormer can predict bounderies of tumor regions. A segmentation accuracy metric Mean IoU is appliced to asses model quality."
      ],
      "metadata": {
        "id": "5FWn2EVVkD2l"
      }
    },
    {
      "cell_type": "code",
      "source": [
        "!pip install jedi"
      ],
      "metadata": {
        "collapsed": true,
        "id": "QvJ-OnyHshsd"
      },
      "execution_count": null,
      "outputs": []
    },
    {
      "cell_type": "code",
      "source": [
        "!apt-get install libcairo2-dev pkg-config python3-dev"
      ],
      "metadata": {
        "collapsed": true,
        "id": "kHcWKIV9skvh"
      },
      "execution_count": null,
      "outputs": []
    },
    {
      "cell_type": "code",
      "source": [
        "!pip install pycairo"
      ],
      "metadata": {
        "collapsed": true,
        "id": "lxB1ChMnsnhY"
      },
      "execution_count": null,
      "outputs": []
    },
    {
      "cell_type": "code",
      "source": [
        "!pip install --upgrade fsspec==2024.10.0"
      ],
      "metadata": {
        "collapsed": true,
        "id": "pzDTnejZseQ8"
      },
      "execution_count": null,
      "outputs": []
    },
    {
      "cell_type": "code",
      "execution_count": null,
      "metadata": {
        "id": "FFZVve1ziT2K",
        "collapsed": true
      },
      "outputs": [],
      "source": [
        "!pip install datasets transformers"
      ]
    },
    {
      "cell_type": "code",
      "source": [
        "!pip install -q albumentations"
      ],
      "metadata": {
        "id": "OUb7fSk8pDSS"
      },
      "execution_count": 6,
      "outputs": []
    },
    {
      "cell_type": "code",
      "source": [
        "!pip install -q evaluate"
      ],
      "metadata": {
        "colab": {
          "base_uri": "https://localhost:8080/"
        },
        "id": "Zu-c_FQypGtw",
        "outputId": "b970adb3-c19d-4e7b-b063-723108aec8d7"
      },
      "execution_count": 7,
      "outputs": [
        {
          "output_type": "stream",
          "name": "stdout",
          "text": [
            "\u001b[?25l   \u001b[90m━━━━━━━━━━━━━━━━━━━━━━━━━━━━━━━━━━━━━━━━\u001b[0m \u001b[32m0.0/84.0 kB\u001b[0m \u001b[31m?\u001b[0m eta \u001b[36m-:--:--\u001b[0m\r\u001b[2K   \u001b[90m━━━━━━━━━━━━━━━━━━━━━━━━━━━━━━━━━━━━━━━━\u001b[0m \u001b[32m84.0/84.0 kB\u001b[0m \u001b[31m3.1 MB/s\u001b[0m eta \u001b[36m0:00:00\u001b[0m\n",
            "\u001b[?25h"
          ]
        }
      ]
    },
    {
      "cell_type": "code",
      "source": [
        "from google.colab import drive\n",
        "drive.mount('/content/drive')"
      ],
      "metadata": {
        "colab": {
          "base_uri": "https://localhost:8080/"
        },
        "id": "MvF8rXbQiV-M",
        "outputId": "ec5ece64-764b-450c-8b4d-7211b9069970"
      },
      "execution_count": 8,
      "outputs": [
        {
          "output_type": "stream",
          "name": "stdout",
          "text": [
            "Mounted at /content/drive\n"
          ]
        }
      ]
    },
    {
      "cell_type": "code",
      "source": [
        "%cd /content/drive/MyDrive/ColabNotebooks/ExplainableAI/image_segmentation"
      ],
      "metadata": {
        "colab": {
          "base_uri": "https://localhost:8080/"
        },
        "id": "mKsOx_UtimIq",
        "outputId": "b487aa66-5718-4431-d370-d916aa12d6a2"
      },
      "execution_count": 9,
      "outputs": [
        {
          "output_type": "stream",
          "name": "stdout",
          "text": [
            "/content/drive/MyDrive/ColabNotebooks/ExplainableAI/image_segmentation\n"
          ]
        }
      ]
    },
    {
      "cell_type": "code",
      "source": [
        "!ls"
      ],
      "metadata": {
        "colab": {
          "base_uri": "https://localhost:8080/"
        },
        "id": "wsZzcxS3jGhD",
        "outputId": "6718cb3b-d0dc-419b-e6e5-6ad8ee9a12f3"
      },
      "execution_count": null,
      "outputs": [
        {
          "output_type": "stream",
          "name": "stdout",
          "text": [
            "data_preproces.ipynb  mri_data_seg  segmentation_dataset  transformer_seg_traiining.ipynb\n"
          ]
        }
      ]
    },
    {
      "cell_type": "markdown",
      "source": [
        "## 1. Load MRI dataset"
      ],
      "metadata": {
        "id": "Vf-ot4dHlWoM"
      }
    },
    {
      "cell_type": "markdown",
      "source": [
        "The dataset is a dictionary containg the images and coresponding masks, split into train, test and validate datasets."
      ],
      "metadata": {
        "id": "7tXykZiMl4qD"
      }
    },
    {
      "cell_type": "code",
      "source": [
        "from datasets import load_from_disk\n",
        "\n",
        "dataset = load_from_disk(\"segmentation_dataset\")\n",
        "dataset"
      ],
      "metadata": {
        "id": "EFTiC4ixjIbG",
        "colab": {
          "base_uri": "https://localhost:8080/"
        },
        "outputId": "5e2c6129-3722-4ba1-ba3b-84ab458dc21e"
      },
      "execution_count": null,
      "outputs": [
        {
          "output_type": "execute_result",
          "data": {
            "text/plain": [
              "DatasetDict({\n",
              "    train: Dataset({\n",
              "        features: ['pixel_values', 'label'],\n",
              "        num_rows: 400\n",
              "    })\n",
              "    test: Dataset({\n",
              "        features: ['pixel_values', 'label'],\n",
              "        num_rows: 200\n",
              "    })\n",
              "    validate: Dataset({\n",
              "        features: ['pixel_values', 'label'],\n",
              "        num_rows: 100\n",
              "    })\n",
              "})"
            ]
          },
          "metadata": {},
          "execution_count": 10
        }
      ]
    },
    {
      "cell_type": "code",
      "source": [
        "from datasets import load_dataset\n",
        "from huggingface_hub import login\n",
        "\n",
        "login(token=input(\"Enter Hugging Face token: \"))"
      ],
      "metadata": {
        "id": "dYKsYR_1pQ3x"
      },
      "execution_count": null,
      "outputs": []
    },
    {
      "cell_type": "markdown",
      "source": [
        "## 2. Training Function"
      ],
      "metadata": {
        "id": "25ZiC4EoMZYS"
      }
    },
    {
      "cell_type": "markdown",
      "source": [
        "### Load Hugging Face SegFormer model"
      ],
      "metadata": {
        "id": "ijkE10MlNFZT"
      }
    },
    {
      "cell_type": "code",
      "source": [
        "import torch\n",
        "import os\n",
        "os.environ[\"PYTORCH_CUDA_ALLOC_CONF\"] = \"expandable_segments:True\"\n",
        "\n",
        "# SegformerForSemanticSegmentation model is not competable with 2-class segmentation task\n",
        "from transformers import SegformerForSemanticSegmentation\n",
        "from transformers import AdamW, get_linear_schedule_with_warmup\n",
        "\n",
        "device = torch.device(\"cuda\" if torch.cuda.is_available() else \"cpu\")\n",
        "def list_and_set_gpu_memory_growth():\n",
        "    \"\"\"\n",
        "    Lists available GPUs and sets memory growth for each GPU.\n",
        "    \"\"\"\n",
        "\n",
        "    if torch.cuda.is_available():\n",
        "        num_gpus = torch.cuda.device_count()\n",
        "        print(f\"Number of available GPUs: {num_gpus}\")\n",
        "\n",
        "        for i in range(num_gpus):\n",
        "            gpu_properties = torch.cuda.get_device_properties(i)\n",
        "            print(f\"GPU {i}: {gpu_properties.name}\")\n",
        "\n",
        "            # Enable memory growth for this GPU\n",
        "            torch.cuda.set_per_process_memory_fraction(1.0, device=i)\n",
        "            #torch.cuda.empty_cache()\n",
        "\n",
        "            # Check if memory growth is enabled (optional)\n",
        "            #is_memory_growth_enabled = torch.cuda.is_memory_growth_enabled(i)  # PyTorch 2.0+\n",
        "            #print(f\"  Memory growth enabled: {is_memory_growth_enabled}\")\n",
        "    else:\n",
        "        print(\"CUDA is not available.\")\n",
        "\n",
        "# Call the function to list and set memory growth\n",
        "list_and_set_gpu_memory_growth()\n",
        "\n",
        "# initialize the model\n",
        "model_checkpoint = \"nvidia/segformer-b0-finetuned-ade-512-512\"\n",
        "# load the SegformaerForSemanticSegmentation\n",
        "model = SegformerForSemanticSegmentation.from_pretrained(\n",
        "    model_checkpoint,\n",
        "    num_labels = 2,\n",
        "    id2label = {0: 'background', 1: 'tumor'},\n",
        "    label2id = {'background': 0, 'tumor': 1},\n",
        "    ignore_mismatched_sizes = True\n",
        ")\n",
        "\n",
        "# set hyperparameters for training\n",
        "batch_size = 2\n",
        "num_epochs = 25\n",
        "num_training_steps = (len(dataset['train'])//batch_size) * num_epochs\n",
        "learning_rate = 6e-5\n",
        "weight_decay_rate = 0.01\n",
        "\n",
        "# compile the model\n",
        "optimizer = torch.optim.AdamW(model.parameters(),\n",
        "                              lr=learning_rate,\n",
        "                              weight_decay=weight_decay_rate)\n",
        "\n",
        "scheduler = get_linear_schedule_with_warmup(\n",
        "    optimizer,\n",
        "    num_warmup_steps = 0,\n",
        "    num_training_steps = num_training_steps)\n",
        "\n",
        "criterion = torch.nn.CrossEntropyLoss()"
      ],
      "metadata": {
        "colab": {
          "base_uri": "https://localhost:8080/"
        },
        "id": "K2mYaparrde3",
        "outputId": "cca6129c-a35b-4bd6-ef9d-022470e274fa"
      },
      "execution_count": null,
      "outputs": [
        {
          "output_type": "stream",
          "name": "stdout",
          "text": [
            "Number of available GPUs: 1\n",
            "GPU 0: Tesla T4\n"
          ]
        },
        {
          "output_type": "stream",
          "name": "stderr",
          "text": [
            "Some weights of SegformerForSemanticSegmentation were not initialized from the model checkpoint at nvidia/segformer-b0-finetuned-ade-512-512 and are newly initialized because the shapes did not match:\n",
            "- decode_head.classifier.bias: found shape torch.Size([150]) in the checkpoint and torch.Size([2]) in the model instantiated\n",
            "- decode_head.classifier.weight: found shape torch.Size([150, 256, 1, 1]) in the checkpoint and torch.Size([2, 256, 1, 1]) in the model instantiated\n",
            "You should probably TRAIN this model on a down-stream task to be able to use it for predictions and inference.\n"
          ]
        }
      ]
    },
    {
      "cell_type": "markdown",
      "source": [
        "### Set up training arguments for initializing hyperparameters"
      ],
      "metadata": {
        "id": "GtVH5SO3NSab"
      }
    },
    {
      "cell_type": "code",
      "source": [
        "import numpy as np\n",
        "import torchvision.transforms as transforms\n",
        "from torch.utils.data import DataLoader\n",
        "\n",
        "batch_size = 2\n",
        "\n",
        "# define a transform to convert PIL images to PyTorch tensors\n",
        "transform = transforms.Compose([\n",
        "    # convert PIL image to PyTorch tensor\n",
        "    transforms.ToTensor(),  # convert PIL image to PyTorch tensor\n",
        "])\n",
        "\n",
        "def process_train_batch(batch):\n",
        "  \"\"\" Read an bath of train images and transform them into inputs.\n",
        "      Since transformer is pre-trained on RGB images convert from gray scale\"\"\"\n",
        "\n",
        "  batch_imgs = [transform(img.convert(\"RGB\")) for img in batch['pixel_values']]\n",
        "  batch_masks = [transform(mask.convert(\"L\")) for mask in batch['label']]\n",
        "\n",
        "  # return a dictionary with image and label data\n",
        "  return {'pixel_values': batch_imgs, 'mask': batch_masks}\n",
        "\n",
        "def process_val_batch(batch):\n",
        "  \"\"\" Read an bath of test images and transform them into inputs. \"\"\"\n",
        "  batch_imgs = [transform(img.convert(\"RGB\")) for img in batch['pixel_values']]\n",
        "  batch_masks = [transform(label.convert(\"L\")) for label in batch['label']]\n",
        "\n",
        "  # return a dictionary with image and label data\n",
        "  return {'pixel_values': batch_imgs, 'mask': batch_masks}\n",
        "\n",
        "dataset[\"train\"].set_transform(process_train_batch)\n",
        "dataset[\"test\"].set_transform(process_train_batch)\n",
        "dataset[\"validate\"].set_transform(process_val_batch)\n",
        "\n",
        "train_loader = DataLoader(dataset['train'], batch_size=batch_size, shuffle=True)\n",
        "train_loader = DataLoader(dataset['test'], batch_size=batch_size, shuffle=True)\n",
        "val_loader = DataLoader(dataset['validate'], batch_size=batch_size, shuffle=True)\n",
        "\n",
        "\n",
        "for batch in train_loader:\n",
        "  # convert each gray scale image in batch to RGB\n",
        "\n",
        "  print(f\"batch data type: {type(batch)}\")\n",
        "  print(f\"batch images size: {batch['pixel_values'].shape}\")\n",
        "  print(f\"batch masks size: {batch['mask'].shape}\")\n",
        "  print()\n",
        "  image = batch['pixel_values'][0]\n",
        "  mask = batch['mask'][0]\n",
        "  print(f\"image dimensions: {image.size}\")\n",
        "  print(f\"image data type: {image.dtype}\")\n",
        "  print(f\"image min value: {image.min()}\")\n",
        "  print(f\"image max value: {image.max()}\")\n",
        "  print(f\"labels in mask:, {np.unique(mask)}\")\n",
        "  print(f\"mask dimensions: {mask.size}\")\n",
        "  print(f\"mask data type: {mask.dtype}\")\n",
        "  print(f\"mask min value: {mask.min()}\")\n",
        "  print(f\"mask max value: {mask.max()}\")\n",
        "  print()\n",
        "  break"
      ],
      "metadata": {
        "colab": {
          "base_uri": "https://localhost:8080/"
        },
        "id": "NLzIAEdnO-y5",
        "outputId": "5533f895-044a-41b2-fdf6-c375b5b2bd9f"
      },
      "execution_count": null,
      "outputs": [
        {
          "output_type": "stream",
          "name": "stdout",
          "text": [
            "batch data type: <class 'dict'>\n",
            "batch images size: torch.Size([2, 3, 512, 512])\n",
            "batch masks size: torch.Size([2, 1, 512, 512])\n",
            "\n",
            "image dimensions: <built-in method size of Tensor object at 0x7fe97806c890>\n",
            "image data type: torch.float32\n",
            "image min value: 0.0\n",
            "image max value: 1.0\n",
            "labels in mask:, [0. 1.]\n",
            "mask dimensions: <built-in method size of Tensor object at 0x7fe97806ca10>\n",
            "mask data type: torch.float32\n",
            "mask min value: 0.0\n",
            "mask max value: 1.0\n",
            "\n"
          ]
        }
      ]
    },
    {
      "cell_type": "markdown",
      "source": [
        "## 3. Accuracy Estimation"
      ],
      "metadata": {
        "id": "RGtocLEjMyBf"
      }
    },
    {
      "cell_type": "code",
      "source": [
        "def calculate_iou(true_class, pred_class):\n",
        "    \"\"\"\n",
        "    Calculate Intersection over Union (IoU) for a specific class.\n",
        "    Args:\n",
        "        true_class (torch.Tensor): Boolean mask for the true class.\n",
        "        pred_class (torch.Tensor): Boolean mask for the predicted class.\n",
        "    Returns:\n",
        "        float: IoU score for the class.\n",
        "    \"\"\"\n",
        "\n",
        "    intersection = torch.logical_and(true_class, pred_class)\n",
        "    union = torch.logical_or(true_class, pred_class)\n",
        "\n",
        "    if torch.any(union):\n",
        "        iou = torch.sum(intersection).float() / torch.sum(union).float()\n",
        "    else:\n",
        "        iou = 0.0  # if no overlap\n",
        "    #print(f\"IoU: {iou}\")\n",
        "    #print()\n",
        "    return iou\n",
        "\n",
        "\n",
        "def calculate_mean_iou(true_mask, pred_mask):\n",
        "    \"\"\"\n",
        "    Calculate the mean Intersection over Union (mIoU) score.\n",
        "    Args:\n",
        "        true_mask (torch.Tensor): Ground truth mask.\n",
        "        pred_mask (torch.Tensor): Predicted mask.\n",
        "    Returns:\n",
        "        float: Mean IoU score across all classes.\n",
        "    \"\"\"\n",
        "\n",
        "    #class_iou = []\n",
        "\n",
        "    # Get the maximum class value (assuming contiguous classes starting from 0)\n",
        "    #max_value = true_mask.max().item()\n",
        "    #print(f\"Max class value: {max_value}\")\n",
        "\n",
        "    #for i in range(1, max_value + 1):  # Skip background (class 0)\n",
        "        #true_i = (true_mask == i)\n",
        "        #pred_i = (pred_mask == i)\n",
        "        #print(f\"Class {i}: true_i sum: {torch.sum(true_i)}, pred_i sum: {torch.sum(pred_i)}\")\n",
        "\n",
        "        #iou = calculate_iou(true_i, pred_i)\n",
        "        #print(f\"Class {i} IoU: {iou}\")\n",
        "        #class_iou.append(iou)\n",
        "\n",
        "    # Compute the mean IoU\n",
        "    #if class_iou:\n",
        "        #mean_iou = torch.mean(torch.tensor(class_iou))\n",
        "    #else:\n",
        "        #mean_iou = 0.0  # Handle case with no classes\n",
        "        #print(f\"Mean IoU: {mean_iou}\")\n",
        "\n",
        "    intersection = torch.logical_and(true_mask, pred_mask)\n",
        "    union = torch.logical_or(true_mask, pred_mask)\n",
        "\n",
        "    if torch.any(union):\n",
        "        mean_iou = torch.sum(intersection).float() / torch.sum(union).float()\n",
        "    else:\n",
        "        mean_iou = 0.0  # if no overlap\n",
        "\n",
        "    print(f\"Mean IoU: {mean_iou}\")\n",
        "\n",
        "    return mean_iou\n"
      ],
      "metadata": {
        "id": "1UyogskdBYWl"
      },
      "execution_count": null,
      "outputs": []
    },
    {
      "cell_type": "markdown",
      "source": [
        "## 4. Callback Function"
      ],
      "metadata": {
        "id": "yHANDpo3q_SD"
      }
    },
    {
      "cell_type": "code",
      "source": [
        "def create_mask(pred_logits, target_size):\n",
        "    \"\"\"Create a mask from model logits.\"\"\"\n",
        "\n",
        "    # resize logits to match the ground truth size\n",
        "    pred_logits_resized = F.interpolate(\n",
        "        pred_logits,\n",
        "        size=target_size,\n",
        "        mode='bilinear',\n",
        "        align_corners=False\n",
        "    )\n",
        "\n",
        "    class_0_logits = pred_logits_resized[:, 0, :, :]\n",
        "    class_1_logits = pred_logits_resized[:, 1, :, :]\n",
        "\n",
        "    print(f\"Class 0 logits: mean={class_0_logits.mean()}, min={class_0_logits.min()}, max={class_0_logits.max()}\")\n",
        "    print(f\"Class 1 logits: mean={class_1_logits.mean()}, min={class_1_logits.min()}, max={class_1_logits.max()}\")\n",
        "\n",
        "\n",
        "    #for i in range(pred_logits_resized.shape[1]):\n",
        "      #print(f\"Class {i} logits mean: {pred_logits[:, i, :, :].mean().item()}, max: {pred_logits[:, i, :, :].max().item()}\")\n",
        "\n",
        "\n",
        "    #plt.figure(figsize=(10, 5))\n",
        "    #plt.subplot(1, 2, 1)\n",
        "    #plt.imshow(class_0_logits[0].cpu().detach().numpy(), cmap=\"jet\")\n",
        "    #plt.title(\"Class 0 Logits\")\n",
        "    #plt.colorbar()\n",
        "\n",
        "    #plt.subplot(1, 2, 2)\n",
        "    #plt.imshow(class_1_logits[0].cpu().detach().numpy(), cmap=\"jet\")\n",
        "    #plt.title(\"Class 1 Logits\")\n",
        "    #plt.colorbar()\n",
        "\n",
        "    #plt.show()\n",
        "\n",
        "    #!!!!!!!!!!!!!!!!!!!!!!!!!!!!!!!!!!!!!!!!!!!!!!!!!!!!!\n",
        "    # argmax zeros all pred_mask values\n",
        "    print(f\"predicted logits dims: {pred_logits_resized.shape}\")\n",
        "    pred_mask = torch.argmax(pred_logits_resized, dim=1)\n",
        "    #!!!!!!!!!!!!!!!!!!!!!!!!!!!!!!!!!!!!!!!!!!!!!!!!!!!!!!\n",
        "\n",
        "    print(f\"Predicted mask: min={pred_mask.min()}, max={pred_mask.max()}\")\n",
        "    print(f\"Predicted mask unique values: {torch.unique(pred_mask)}\")\n",
        "\n",
        "    return pred_mask"
      ],
      "metadata": {
        "id": "2YbCozdNSw-R"
      },
      "execution_count": null,
      "outputs": []
    },
    {
      "cell_type": "code",
      "source": [
        "import matplotlib.pyplot as plt\n",
        "import numpy as np\n",
        "import torch\n",
        "\n",
        "def display_image(image, ground_truth_mask, predicted_mask):\n",
        "    \"\"\"\n",
        "    Display the input image, ground truth mask, and predicted mask side by side.\n",
        "\n",
        "    Args:\n",
        "        image (torch.Tensor): The input image tensor (C, H, W).\n",
        "        ground_truth_mask (torch.Tensor): The ground truth mask tensor (H, W).\n",
        "        predicted_mask (torch.Tensor): The predicted mask tensor (H, W).\n",
        "    \"\"\"\n",
        "    # Move the image and masks to the CPU and convert to NumPy\n",
        "    image = image.cpu().numpy().transpose(1, 2, 0)  # Convert (C, H, W) -> (H, W, C)\n",
        "    ground_truth_mask = ground_truth_mask.cpu().numpy()\n",
        "\n",
        "    ground_truth_mask = ground_truth_mask[0]\n",
        "\n",
        "    # Select the first channel of the ground_truth_mask to display it as grayscale\n",
        "    # ground_truth_mask = ground_truth_mask[0]\n",
        "    #if predicted_mask is not None:\n",
        "\n",
        "    predicted_mask = predicted_mask.cpu().numpy()\n",
        "\n",
        "    # Normalize the image for display (optional: adjust depending on input range)\n",
        "    image = (image - image.min()) / (image.max() - image.min())  # Normalize to [0, 1]\n",
        "\n",
        "    # Create a figure with 3 subplots\n",
        "    fig, axs = plt.subplots(1, 3, figsize=(15, 5))\n",
        "    axs[0].imshow(image)\n",
        "    axs[0].set_title(\"Input Image\")\n",
        "    axs[0].axis(\"off\")\n",
        "\n",
        "    axs[1].imshow(ground_truth_mask, cmap=\"jet\") # select the first channel\n",
        "    axs[1].set_title(\"Ground Truth Mask\")\n",
        "    axs[1].axis(\"off\")\n",
        "\n",
        "\n",
        "    #if predicted_mask is not None:\n",
        "    axs[2].imshow(predicted_mask, cmap=\"jet\")\n",
        "    axs[2].set_title(\"Predicted Mask\")\n",
        "    axs[2].axis(\"off\")\n",
        "\n",
        "    plt.tight_layout()\n",
        "    plt.show()\n"
      ],
      "metadata": {
        "id": "q1yNuRveE9A9"
      },
      "execution_count": null,
      "outputs": []
    },
    {
      "cell_type": "code",
      "source": [
        "@torch.no_grad()\n",
        "def custom_callback(epoch, model, val_loader, device):\n",
        "    \"\"\"\n",
        "    Callback function executed after each training epoch.\n",
        "    Evaluates the model on the validation set and calculates mean IoU.\n",
        "    \"\"\"\n",
        "    model.eval()\n",
        "    print(f\"Running validation for epoch {epoch + 1}...\")\n",
        "\n",
        "    total_mean_iou = 0.0\n",
        "    num_batches = 0\n",
        "\n",
        "    for batch in val_loader:\n",
        "        pixel_values = batch['pixel_values'].to(device)\n",
        "        true_mask = torch.argmax(batch['mask'].to(device), dim=1)\n",
        "\n",
        "        # Get model predictions\n",
        "        outputs = model(pixel_values)\n",
        "        pred_mask = create_mask(outputs.logits, target_size=true_mask.shape[-2:])\n",
        "\n",
        "        # Compute mean IoU for the batch\n",
        "        mean_iou = calculate_mean_iou(true_mask, pred_mask)\n",
        "        total_mean_iou += mean_iou\n",
        "        num_batches += 1\n",
        "\n",
        "    avg_mean_iou = total_mean_iou / num_batches\n",
        "    print(f\"Epoch {epoch + 1}: Mean IoU: {avg_mean_iou:.4f}\")\n",
        "\n",
        "\n",
        "    #print(f\"Unique values in ground truth mask (batch): {torch.unique(batch['mask'])}\")\n",
        "    #print(f\"Unique values in ground truth mask (per image): {torch.unique(true_mask[0])}\")\n",
        "\n",
        "    display_image(\n",
        "        image=pixel_values[0],  # First image in the batch\n",
        "        ground_truth_mask=true_mask[0],  # Ground truth mask for the first image\n",
        "        predicted_mask=pred_mask[0]  # Predicted mask for the first image\n",
        "      )\n"
      ],
      "metadata": {
        "id": "uxdyoKFyyRxu"
      },
      "execution_count": null,
      "outputs": []
    },
    {
      "cell_type": "markdown",
      "source": [
        "## 5. Run Training"
      ],
      "metadata": {
        "id": "5CMLZyCIlKmP"
      }
    },
    {
      "cell_type": "code",
      "source": [
        "import torch\n",
        "import torch.nn.functional as F  # for the interpolate function\n",
        "\n",
        "def train(model, train_loader, val_loader, optimizer, criterion, num_epochs, device, custom_callback):\n",
        "    \"\"\"\n",
        "    Trains the given model on the provided training data and displays predictions on validation data after each epoch.\n",
        "\n",
        "    Args:\n",
        "        model: The model to train.\n",
        "        train_loader: DataLoader for training data.\n",
        "        val_loader: DataLoader for validation data.\n",
        "        optimizer: Optimizer for updating model parameters.\n",
        "        criterion: Loss function.\n",
        "        num_epochs: Number of training epochs.\n",
        "        device: Device to use for computation ('cuda' or 'cpu').\n",
        "        custom_callback: Callback function to execute after each epoch.\n",
        "    \"\"\"\n",
        "    model.to(device)\n",
        "\n",
        "    for epoch in range(num_epochs):\n",
        "        model.train()\n",
        "        epoch_loss = 0.0\n",
        "\n",
        "        for batch in train_loader:\n",
        "            # Move the pixel_values and label tensors to the device\n",
        "            pixel_values = batch['pixel_values'].to(device)\n",
        "            labels = torch.argmax(batch['mask'].to(device), dim=1).long()\n",
        "\n",
        "            optimizer.zero_grad()\n",
        "            outputs = model(pixel_values)\n",
        "\n",
        "            # Resize model outputs to match the input image size\n",
        "            outputs_resized = F.interpolate(\n",
        "                outputs.logits,\n",
        "                size=labels.shape[1:],  # match height and width of labels\n",
        "                mode='bilinear',\n",
        "                align_corners=False\n",
        "            )\n",
        "\n",
        "            # Compute the loss\n",
        "            loss = criterion(outputs_resized, labels)\n",
        "            loss.backward()\n",
        "            optimizer.step()\n",
        "\n",
        "            epoch_loss += loss.item()\n",
        "\n",
        "        avg_epoch_loss = epoch_loss / len(train_loader)\n",
        "        print(f\"Epoch [{epoch+1}/{num_epochs}], Average Loss: {avg_epoch_loss:.4f}\")\n",
        "\n",
        "        # Execute the custom callback function after each epoch\n",
        "        #custom_callback(epoch, model, val_loader, device)\n"
      ],
      "metadata": {
        "id": "pnuZr8-o34Rb"
      },
      "execution_count": null,
      "outputs": []
    },
    {
      "cell_type": "code",
      "source": [
        "train(model, train_loader, val_loader, optimizer, criterion, num_epochs, device, custom_callback)"
      ],
      "metadata": {
        "id": "n683XgZ6WqwO"
      },
      "execution_count": null,
      "outputs": []
    },
    {
      "cell_type": "code",
      "source": [
        "# save model weigths\n",
        "model.save_pretrained(\"segformer_tumor_segmentation\")\n",
        "\n",
        "# load trained model weigths\n",
        "trained_model = SegformerForSemanticSegmentation.from_pretrained(\"segformer_tumor_segmentation\")"
      ],
      "metadata": {
        "id": "mvoKhqvBCB5Q"
      },
      "execution_count": null,
      "outputs": []
    },
    {
      "cell_type": "code",
      "source": [
        "import torch\n",
        "import torch.nn.functional as F\n",
        "\n",
        "def evaluate_model(model, train_loader, device):\n",
        "    \"\"\"\n",
        "    Evaluates the model on the training dataset and computes the Mean IoU.\n",
        "\n",
        "    Args:\n",
        "        model: The trained model.\n",
        "        train_loader: DataLoader for the training data.\n",
        "        device: Device to use for computation ('cuda' or 'cpu').\n",
        "\n",
        "    Returns:\n",
        "        float: The average Mean IoU score across the training dataset.\n",
        "    \"\"\"\n",
        "    model.eval()  # Set the model to evaluation mode\n",
        "    # Move the model to the specified device\n",
        "    model.to(device)\n",
        "\n",
        "    total_mean_iou = 0.0\n",
        "    num_batches = 0\n",
        "\n",
        "    with torch.no_grad():  # Disable gradient calculation during evaluation\n",
        "        for batch in train_loader:\n",
        "            pixel_values = batch['pixel_values'].to(device)\n",
        "            true_mask = torch.argmax(batch['mask'].to(device), dim=1)  # Ground truth mask\n",
        "\n",
        "            # Get model predictions\n",
        "            outputs = model(pixel_values)\n",
        "            pred_mask = create_mask(outputs.logits, target_size=true_mask.shape[-2:])  # Predicted mask\n",
        "\n",
        "            # Compute mean IoU for the batch\n",
        "            mean_iou = calculate_mean_iou(true_mask, pred_mask)\n",
        "            total_mean_iou += mean_iou\n",
        "            num_batches += 1\n",
        "\n",
        "    avg_mean_iou = total_mean_iou / num_batches\n",
        "    print(f\"Training dataset: Mean IoU: {avg_mean_iou:.4f}\")\n",
        "\n",
        "    return avg_mean_iou\n",
        "\n",
        "# After training the model:\n",
        "train_mean_iou = evaluate_model(trained_model, train_loader, device)"
      ],
      "metadata": {
        "id": "VA5AIq8hEJdb"
      },
      "execution_count": null,
      "outputs": []
    },
    {
      "cell_type": "code",
      "source": [
        "import matplotlib.pyplot as plt\n",
        "\n",
        "def debug_visualize(image, true_mask, pred_mask):\n",
        "    image = image.cpu().numpy().transpose(1, 2, 0)\n",
        "    true_mask = true_mask.cpu().numpy()\n",
        "    pred_mask = pred_mask.cpu().numpy()\n",
        "\n",
        "    plt.figure(figsize=(12, 4))\n",
        "    plt.subplot(1, 3, 1)\n",
        "    plt.imshow(image)\n",
        "    plt.title(\"Input Image\")\n",
        "    plt.axis(\"off\")\n",
        "\n",
        "    plt.subplot(1, 3, 2)\n",
        "    plt.imshow(true_mask, cmap=\"jet\")\n",
        "    plt.title(\"Ground Truth Mask\")\n",
        "    plt.axis(\"off\")\n",
        "\n",
        "    plt.subplot(1, 3, 3)\n",
        "    plt.imshow(pred_mask, cmap=\"jet\")\n",
        "    plt.title(\"Predicted Mask\")\n",
        "    plt.axis(\"off\")\n",
        "\n",
        "    plt.show()"
      ],
      "metadata": {
        "id": "s3sNLqxpnJhI"
      },
      "execution_count": null,
      "outputs": []
    },
    {
      "cell_type": "code",
      "source": [
        "output = model(batch['pixel_values'].to(device))\n",
        "\n",
        "pred_mask = create_mask(output.logits, target_size=batch['mask'].shape[-2:])\n",
        "\n",
        "print(batch['pixel_values'][0].shape)\n",
        "print(batch['mask'][0].shape)\n",
        "print(pred_mask.shape)\n",
        "display_image(\n",
        "    image=batch['pixel_values'][0],\n",
        "    ground_truth_mask=batch['mask'][0],\n",
        "    predicted_mask=pred_mask[0]\n",
        ")"
      ],
      "metadata": {
        "id": "WAAFWbpawEhW"
      },
      "execution_count": null,
      "outputs": []
    },
    {
      "cell_type": "code",
      "source": [
        "import matplotlib.pyplot as plt\n",
        "import numpy as np\n",
        "\n",
        "def display_image_and_mask(image, mask):\n",
        "    \"\"\"\n",
        "    Displays an image and its corresponding mask.\n",
        "\n",
        "    Args:\n",
        "        image (torch.Tensor): The image tensor (C, H, W).\n",
        "        mask (torch.Tensor): The mask tensor (H, W).\n",
        "    \"\"\"\n",
        "\n",
        "    # Move tensors to CPU and convert to NumPy arrays\n",
        "    image = image.cpu().numpy().transpose(1, 2, 0)  # (C, H, W) -> (H, W, C)\n",
        "    mask = mask.cpu().numpy()\n",
        "\n",
        "    # Normalize the image for display\n",
        "    image = (image - image.min()) / (image.max() - image.min())\n",
        "\n",
        "    # Create a figure with two subplots\n",
        "    fig, axs = plt.subplots(1, 2, figsize=(10, 5))\n",
        "\n",
        "    # Display the image\n",
        "    axs[0].imshow(image)\n",
        "    axs[0].set_title(\"Image\")\n",
        "    axs[0].axis(\"off\")\n",
        "\n",
        "    # Display the mask\n",
        "    axs[1].imshow(mask, cmap=\"jet\")\n",
        "    axs[1].set_title(\"True Mask\")\n",
        "    axs[1].axis(\"off\")\n",
        "\n",
        "    plt.tight_layout()\n",
        "    plt.show()\n",
        "\n",
        "# Get a batch from the validation loader\n",
        "for batch in val_loader:\n",
        "    break  # Get only the first batch\n",
        "\n",
        "# Access the image and mask from the batch\n",
        "image = batch['pixel_values'][0]  # Get the first image from the batch\n",
        "true_mask = batch['mask'][0].squeeze(0)  # Get the first mask and remove channel dimension if necessary\n",
        "\n",
        "\n",
        "# Display the image and mask\n",
        "display_image_and_mask(image, true_mask)"
      ],
      "metadata": {
        "id": "_IQBL7alAX96"
      },
      "execution_count": null,
      "outputs": []
    },
    {
      "cell_type": "code",
      "source": [
        "import matplotlib.pyplot as plt\n",
        "import numpy as np\n",
        "import torch\n",
        "\n",
        "def display_image_and_masks(image, true_mask, predicted_mask):\n",
        "    \"\"\"\n",
        "    Displays an image, its true mask, and the predicted mask.\n",
        "\n",
        "    Args:\n",
        "        image (torch.Tensor): The image tensor (C, H, W).\n",
        "        true_mask (torch.Tensor): The true mask tensor (H, W).\n",
        "        predicted_mask (torch.Tensor): The predicted mask tensor (H, W).\n",
        "    \"\"\"\n",
        "\n",
        "    # Move tensors to CPU and convert to NumPy arrays\n",
        "    image = image.cpu().numpy().transpose(1, 2, 0)  # (C, H, W) -> (H, W, C)\n",
        "    true_mask = true_mask.cpu().numpy()\n",
        "    predicted_mask = predicted_mask.cpu().numpy()\n",
        "\n",
        "    # Normalize the image for display\n",
        "    image = (image - image.min()) / (image.max() - image.min())\n",
        "\n",
        "    # Create a figure with three subplots\n",
        "    fig, axs = plt.subplots(1, 3, figsize=(15, 5))\n",
        "\n",
        "    # Display the image\n",
        "    axs[0].imshow(image)\n",
        "    axs[0].set_title(\"Image\")\n",
        "    axs[0].axis(\"off\")\n",
        "\n",
        "    # Display the true mask\n",
        "    axs[1].imshow(true_mask, cmap=\"jet\")\n",
        "    axs[1].set_title(\"True Mask\")\n",
        "    axs[1].axis(\"off\")\n",
        "\n",
        "    # Display the predicted mask\n",
        "    axs[2].imshow(predicted_mask.squeeze(0), cmap=\"jet\")\n",
        "    axs[2].set_title(\"Predicted Mask\")\n",
        "    axs[2].axis(\"off\")\n",
        "\n",
        "    plt.tight_layout()\n",
        "    plt.show()\n",
        "\n",
        "# Get a batch from the validation loader\n",
        "for batch in val_loader:\n",
        "    break  # Get only the first batch\n",
        "\n",
        "# Get the image and true mask from the batch\n",
        "image = batch['pixel_values'][0].to(device)  # Move image to device\n",
        "true_mask = batch['mask'][0].squeeze(0).to(device)  # Move mask to device and squeeze if necessary\n",
        "\n",
        "# Get model prediction\n",
        "with torch.no_grad():  # Disable gradient calculation for inference\n",
        "    outputs = model(image.unsqueeze(0))  # Add batch dimension for single image\n",
        "    predicted_mask = torch.argmax(outputs.logits, dim=1)  # Get predicted mask\n",
        "\n",
        "    # Resize predicted mask to match true mask dimensions - **Corrected**\n",
        "    predicted_mask = torch.nn.functional.interpolate(\n",
        "        predicted_mask.unsqueeze(1).float(),\n",
        "        size=true_mask.shape[-2:],  # Use only the spatial dimensions (H, W)\n",
        "        mode='nearest'\n",
        "    ).squeeze(1).long()\n",
        "\n",
        "\n",
        "# Display the image, true mask, and predicted mask\n",
        "display_image_and_masks(image.cpu(), true_mask.cpu(), predicted_mask.cpu())"
      ],
      "metadata": {
        "id": "DPYxG8omAYwg"
      },
      "execution_count": null,
      "outputs": []
    },
    {
      "cell_type": "code",
      "source": [
        "print(image.shape)\n",
        "print(true_mask.shape)\n",
        "print(predicted_mask.shape)"
      ],
      "metadata": {
        "id": "WOnGtDpd3PIk"
      },
      "execution_count": null,
      "outputs": []
    },
    {
      "cell_type": "code",
      "source": [
        "for batch in val_loader:\n",
        "    break  # Get only the first batch\n",
        "\n",
        "# Get the image and true mask from the batch\n",
        "image = batch['pixel_values'][0].to(device)  # Move image to device\n",
        "true_mask = batch['mask'][0].squeeze(0).to(device)  # Move mask to device and squeeze if necessary\n",
        "\n",
        "# debug create_mask(pred_logits, target_size) by plotting the image, true_mask and predicted mask after call create_mask()\n",
        "with torch.no_grad():  # Disable gradient calculation for inference\n",
        "    outputs = model(image.unsqueeze(0))  # Add batch dimension for single image\n",
        "    predicted_mask = create_mask(outputs.logits, target_size=true_mask.shape[-2:])  # Get predicted mask\n",
        "\n",
        "display_image_and_masks(image.cpu(), true_mask.cpu(), predicted_mask.cpu())\n"
      ],
      "metadata": {
        "id": "6ROLD4Iw3Qi0"
      },
      "execution_count": null,
      "outputs": []
    },
    {
      "cell_type": "markdown",
      "source": [
        "## 6. Trainer Class with evaluation method"
      ],
      "metadata": {
        "id": "NzxwFOyJqmfb"
      }
    },
    {
      "cell_type": "code",
      "source": [
        "import os\n",
        "import glob\n",
        "import cv2\n",
        "import torch\n",
        "import numpy as np\n",
        "import albumentations as A\n",
        "import evaluate\n",
        "import torch.nn as nn\n",
        "import torch.optim as optim\n",
        "\n",
        "from PIL import Image\n",
        "from matplotlib import pyplot as plt\n",
        "from datasets import load_dataset\n",
        "from huggingface_hub import login\n",
        "from torch.utils.data import Dataset\n",
        "from torchvision.transforms import ToTensor\n",
        "from torch.utils.data import DataLoader\n",
        "from tqdm import tqdm\n",
        "from transformers import SegformerFeatureExtractor, SegformerForSemanticSegmentation\n",
        "\n",
        "\n",
        "\n",
        "dataset = load_dataset(\"akar49/MRI_Segmentation-1\")\n",
        "\n",
        "train = dataset[\"train\"]\n",
        "test = dataset[\"validation\"]\n",
        "\n",
        "class CustomDataset(Dataset):\n",
        "    def __init__(self, dataset, transform=None):\n",
        "        \"\"\" Constructor for the image segmentation dataset, a lit of image and mask pairs. \"\"\"\n",
        "        self.dataset = dataset\n",
        "        self.transform = transform\n",
        "\n",
        "    def __len__(self):\n",
        "      \"\"\" Gets length of dataset. \"\"\"\n",
        "      return len(self.dataset)\n",
        "\n",
        "    def __getitem__(self, idx):\n",
        "      \"\"\" For a given dataset index extract image and mask, convert image to RGB,\n",
        "          since model is trained on RGB images, normalize pixel values to [0, 1],\n",
        "          and apply transformation. \"\"\"\n",
        "\n",
        "      image = self.dataset[idx]['image']\n",
        "      mask  = self.dataset[idx]['label']\n",
        "\n",
        "      org_image = np.stack((image,) * 3, axis=-1)\n",
        "\n",
        "      mask = np.array(mask)\n",
        "\n",
        "      transformed = self.transform(image=org_image, mask=mask)\n",
        "      trans_image = transformed['image']\n",
        "      trans_mask = transformed['mask']\n",
        "      org_image = org_image/255.0\n",
        "      org_mask  = mask/255.0\n",
        "      transformed = self.transform(image=org_image, mask=org_mask)\n",
        "      trans_image = transformed['image']\n",
        "      trans_mask = transformed['mask']\n",
        "\n",
        "      # Convert trans_image to a PyTorch tensor\n",
        "      trans_image = torch.from_numpy(trans_image).permute(2, 0, 1) # permute to (C, H, W)\n",
        "      return trans_image, trans_mask, org_image, org_mask\n",
        "\n",
        "\n",
        "transform = A.Compose([A.Resize(width=224, height=224)])\n",
        "custom_dataset = CustomDataset(train, transform=transform)\n",
        "trans_image, trans_mask, org_image, org_mask = custom_dataset[0]\n",
        "\n",
        "print(f\"original image: {org_image.shape}\")\n",
        "print(f\"original image pixel values: min={org_image.min()}, max={org_image.max()}\")\n",
        "print(f\"transformed image: {trans_image.shape}\")\n",
        "print(f\"transformed image pixel values: min={trans_image.min()}, max={trans_image.max()}\")\n",
        "\n",
        "plt.figure(figsize=(10, 5))\n",
        "plt.subplot(1, 2, 1)\n",
        "plt.axis(\"off\")\n",
        "plt.imshow(org_image)\n",
        "plt.title(\"Original Image\")\n",
        "\n",
        "plt.subplot(1, 2, 2)\n",
        "plt.imshow(org_mask, cmap='gray')\n",
        "plt.axis(\"off\")\n",
        "plt.title(\"Original Mask\")\n",
        "plt.show()\n",
        "\n",
        "transform = A.Compose([A.Resize(width=224, height=224)])\n",
        "\n",
        "train_dataset = CustomDataset(train, transform=transform)\n",
        "test_dataset = CustomDataset(test, transform=transform)\n",
        "\n",
        "id2label = {0:  'bg',\n",
        "            1:  'tumor'}\n",
        "label2id = { label: id for id, label in id2label.items() }\n",
        "n_classes = len(id2label)\n",
        "\n",
        "\n",
        "image_processor = SegformerForSemanticSegmentation.from_pretrained(\"nvidia/segformer-b0-finetuned-ade-512-512\")\n",
        "image_processor.ignore_index = 255\n",
        "image_processor.reduce_labels = False\n",
        "image_processor.do_resize = False\n",
        "image_processor.do_rescale = False\n",
        "image_processor.do_normalize = False\n",
        "\n",
        "def collate_func(batch):\n",
        "\n",
        "    \"\"\" Custom collate function for DataLoader, for an input batch list of samples,\n",
        "    each containing transformed image, segmentation mask, original image, and\n",
        "    original segmentation mask, returning a dictionary containing processed batch data. \"\"\"\n",
        "\n",
        "    inputs = list(zip(*batch))\n",
        "\n",
        "    images = inputs[0]\n",
        "    masks = inputs[1]\n",
        "\n",
        "    # convert images to a PyTorch tensor\n",
        "    pixel_values = torch.stack(images)\n",
        "\n",
        "    # create a batch dictionary\n",
        "    batch = {\n",
        "        \"pixel_values\": pixel_values, # Use 'pixel_values' as the key\n",
        "        \"mask_labels\": masks,  # or another appropriate key if needed\n",
        "    }\n",
        "\n",
        "\n",
        "    batch[\"org_images\"] = inputs[2]\n",
        "    batch[\"org_mask\"] = inputs[3]\n",
        "\n",
        "    return batch\n",
        "\n",
        "train_dataloader = DataLoader(train_dataset, batch_size=2, collate_fn=collate_func, shuffle=True, num_workers=2)\n",
        "test_dataloader = DataLoader(test_dataset, batch_size=2, collate_fn=collate_func, shuffle=False, num_workers=2)\n",
        "\n",
        "\n",
        "id2label = {0:  'bg',\n",
        "            1:  'tumor'}\n",
        "label2id = { label: id for id, label in id2label.items() }\n",
        "n_classes = len(id2label)\n",
        "class_labels = ['bg', 'tumor']\n",
        "\n",
        "metric = evaluate.load(\"mean_iou\")\n",
        "\n",
        "# initialize the model\n",
        "model_checkpoint = \"nvidia/segformer-b0-finetuned-ade-512-512\"\n",
        "# load the SegformaerForSemanticSegmentation\n",
        "model = SegformerForSemanticSegmentation.from_pretrained(\n",
        "    model_checkpoint,\n",
        "    num_labels = 2,\n",
        "    id2label=id2label,\n",
        "    label2id=label2id,\n",
        "    ignore_mismatched_sizes = True\n",
        ")\n",
        "\n",
        "device = torch.device(\"cuda\" if torch.cuda.is_available() else \"cpu\")\n",
        "model.to(device)\n",
        "\n",
        "optimizer = optim.AdamW(model.parameters(), lr=5e-5)\n",
        "criterion = nn.CrossEntropyLoss()\n",
        "\n",
        "running_loss = 0.0\n",
        "num_samples = 0\n",
        "num_epochs = 20\n",
        "\n",
        "class Trainer:\n",
        "\n",
        "    def __init__(self, model, train_dataloader, test_dataloader, optimizer, device, image_processor, id2label, metric):\n",
        "        self.model = model\n",
        "        self.train_dataloader = train_dataloader\n",
        "        self.test_dataloader = test_dataloader\n",
        "        self.optimizer = optimizer\n",
        "        self.device = device\n",
        "        self.image_processor = image_processor\n",
        "        self.id2label = id2label\n",
        "        self.metric = metric\n",
        "        self.feature_extractor = SegformerFeatureExtractor.from_pretrained(\"nvidia/segformer-b0-finetuned-ade-512-512\")\n",
        "\n",
        "\n",
        "\n",
        "    def train_one_epoch(self, epoch):\n",
        "        \"\"\"Trains the model for one epoch and returns the average training loss.\"\"\"\n",
        "        self.model.train()\n",
        "        running_loss = 0.0\n",
        "        num_samples = 0\n",
        "\n",
        "        for idx, batch in enumerate(tqdm(self.train_dataloader)):\n",
        "            self.optimizer.zero_grad()\n",
        "\n",
        "            pixel_values = batch[\"pixel_values\"].to(self.device, dtype=torch.float32)\n",
        "\n",
        "            outputs = self.model(pixel_values=pixel_values)\n",
        "\n",
        "            # Resize true_masks to match the output size before flattening\n",
        "            true_masks = torch.tensor(batch['mask_labels']).to(self.device)\n",
        "            true_masks = torch.nn.functional.interpolate(\n",
        "                true_masks.unsqueeze(1).float(),\n",
        "                size=outputs.logits.shape[-2:],  # match the output's spatial dimensions\n",
        "                mode='nearest'\n",
        "            ).squeeze(1).long()\n",
        "            # flatten for CrossEntropyLoss\n",
        "            true_masks = true_masks.reshape(pixel_values.shape[0], -1)\n",
        "            predictions = outputs.logits.reshape(pixel_values.shape[0], model.config.num_labels, -1)\n",
        "\n",
        "            loss = criterion(predictions, true_masks)\n",
        "\n",
        "            loss.backward()\n",
        "\n",
        "            batch_size = batch[\"pixel_values\"].size(0)\n",
        "            running_loss += loss.item()\n",
        "            num_samples += batch_size\n",
        "\n",
        "            if idx % 100 == 0:\n",
        "                print(\"Loss:\", running_loss / num_samples)\n",
        "\n",
        "            self.optimizer.step()\n",
        "\n",
        "        epoch_loss = running_loss / num_samples\n",
        "        print(f\"Epoch {epoch + 1}, Loss: {epoch_loss:.4f}\")\n",
        "        return epoch_loss\n",
        "\n",
        "    def evaluate(self, epoch):\n",
        "        \"\"\"Evaluates the model on the test dataset and returns the mean IoU.\"\"\"\n",
        "        self.model.eval()\n",
        "\n",
        "        self.metric = evaluate.load(\"mean_iou\")\n",
        "        with torch.no_grad():\n",
        "            for idx, batch in enumerate(tqdm(self.test_dataloader)):\n",
        "                pixel_values = batch[\"pixel_values\"].to(self.device, dtype=torch.float32)\n",
        "\n",
        "                outputs = self.model(pixel_values=pixel_values)\n",
        "\n",
        "                original_images = batch[\"org_images\"]\n",
        "                target_sizes = [(image.shape[0], image.shape[1]) for image in original_images]\n",
        "\n",
        "                predicted_segmentation_maps = self.feature_extractor.post_process_semantic_segmentation(\n",
        "                      outputs, target_sizes=target_sizes\n",
        "                      )\n",
        "\n",
        "                ground_truth_segmentation_maps = batch[\"org_mask\"]\n",
        "\n",
        "                self.metric.add_batch(\n",
        "                    references=ground_truth_segmentation_maps,\n",
        "                    predictions=predicted_segmentation_maps\n",
        "                )\n",
        "\n",
        "        mean_iou = self.metric.compute(num_labels=len(self.id2label), ignore_index=0)[\"mean_iou\"]\n",
        "        print(f\"Epoch {epoch + 1} Mean IoU: {mean_iou}\")\n",
        "        return mean_iou\n",
        "\n",
        "    def train(self, num_epochs):\n",
        "        \"\"\"Trains the model for the specified number of epochs.\"\"\"\n",
        "        for epoch in range(num_epochs):\n",
        "            train_loss = self.train_one_epoch(epoch)\n",
        "            mean_iou = self.evaluate(epoch)\n",
        "\n",
        "trainer = Trainer(model, train_dataloader, test_dataloader, optimizer, device, image_processor, id2label, metric)\n",
        "trainer.train(num_epochs=num_epochs)\n"
      ],
      "metadata": {
        "colab": {
          "base_uri": "https://localhost:8080/",
          "height": 1000,
          "referenced_widgets": [
            "6340a9c21d194e0783edceff28eea1e7",
            "536af197b3c84c3aaa40d38868f1bcd0",
            "626fdb42f1a24511af020e85fe4eed52",
            "ed3d0c20c90a417d92638a17c074aeee",
            "2bbf13efed2841a88ef2f26946bcd8e3",
            "3f949008c1424842b90fbe2897e1c00d",
            "0bab806e25664499b0b46ea015d43d1c",
            "9034777416804d45b1313da1dd896831",
            "9864676cb54e4c17a86ebf2620b04d3e",
            "8bed86c3f4774babbeb1460f1c5796f2",
            "c346b998fb0644e88a874dc108b36c56"
          ]
        },
        "id": "G_qc1IXQkyx4",
        "outputId": "b62b2d25-683f-4429-f27d-7847bca557d2"
      },
      "execution_count": null,
      "outputs": [
        {
          "output_type": "stream",
          "name": "stdout",
          "text": [
            "original image: (512, 512, 3)\n",
            "original image pixel values: min=0.0, max=1.0\n",
            "transformed image: torch.Size([3, 224, 224])\n",
            "transformed image pixel values: min=0.0, max=0.976350540216086\n"
          ]
        },
        {
          "output_type": "display_data",
          "data": {
            "text/plain": [
              "<Figure size 1000x500 with 2 Axes>"
            ],
            "image/png": "[encoded data removed]"
          },
          "metadata": {}
        },
        {
          "output_type": "stream",
          "name": "stderr",
          "text": [
            "Some weights of SegformerForSemanticSegmentation were not initialized from the model checkpoint at nvidia/segformer-b0-finetuned-ade-512-512 and are newly initialized because the shapes did not match:\n",
            "- decode_head.classifier.bias: found shape torch.Size([150]) in the checkpoint and torch.Size([2]) in the model instantiated\n",
            "- decode_head.classifier.weight: found shape torch.Size([150, 256, 1, 1]) in the checkpoint and torch.Size([2, 256, 1, 1]) in the model instantiated\n",
            "You should probably TRAIN this model on a down-stream task to be able to use it for predictions and inference.\n"
          ]
        },
        {
          "output_type": "display_data",
          "data": {
            "text/plain": [
              "preprocessor_config.json:   0%|          | 0.00/271 [00:00<?, ?B/s]"
            ],
            "application/vnd.jupyter.widget-view+json": {
              "version_major": 2,
              "version_minor": 0,
              "model_id": "6340a9c21d194e0783edceff28eea1e7"
            }
          },
          "metadata": {}
        },
        {
          "output_type": "stream",
          "name": "stderr",
          "text": [
            "/usr/local/lib/python3.11/dist-packages/transformers/models/segformer/feature_extraction_segformer.py:28: FutureWarning: The class SegformerFeatureExtractor is deprecated and will be removed in version 5 of Transformers. Please use SegformerImageProcessor instead.\n",
            "  warnings.warn(\n",
            "/usr/local/lib/python3.11/dist-packages/transformers/utils/deprecation.py:165: UserWarning: The following named arguments are not valid for `SegformerFeatureExtractor.__init__` and were ignored: 'feature_extractor_type'\n",
            "  return func(*args, **kwargs)\n",
            "  1%|          | 2/250 [00:00<00:54,  4.56it/s]"
          ]
        },
        {
          "output_type": "stream",
          "name": "stdout",
          "text": [
            "Loss: 0.3450946807861328\n"
          ]
        },
        {
          "output_type": "stream",
          "name": "stderr",
          "text": [
            " 41%|████      | 102/250 [00:12<00:22,  6.57it/s]"
          ]
        },
        {
          "output_type": "stream",
          "name": "stdout",
          "text": [
            "Loss: 0.2262122908441147\n"
          ]
        },
        {
          "output_type": "stream",
          "name": "stderr",
          "text": [
            " 81%|████████  | 203/250 [00:24<00:04, 10.47it/s]"
          ]
        },
        {
          "output_type": "stream",
          "name": "stdout",
          "text": [
            "Loss: 0.16509575052047842\n"
          ]
        },
        {
          "output_type": "stream",
          "name": "stderr",
          "text": [
            "100%|██████████| 250/250 [00:29<00:00,  8.51it/s]\n"
          ]
        },
        {
          "output_type": "stream",
          "name": "stdout",
          "text": [
            "Epoch 1, Loss: 0.1456\n"
          ]
        },
        {
          "output_type": "stream",
          "name": "stderr",
          "text": [
            "  0%|          | 0/100 [00:00<?, ?it/s]/usr/local/lib/python3.11/dist-packages/datasets/features/image.py:348: UserWarning: Downcasting array dtype int64 to int32 to be compatible with 'Pillow'\n",
            "  warnings.warn(f\"Downcasting array dtype {dtype} to {dest_dtype} to be compatible with 'Pillow'\")\n",
            "100%|██████████| 100/100 [00:11<00:00,  9.05it/s]\n",
            "/root/.cache/huggingface/modules/evaluate_modules/metrics/evaluate-metric--mean_iou/9e450724f21f05592bfb0255fe2fa576df8171fa060d11121d8aecfff0db80d0/mean_iou.py:260: RuntimeWarning: invalid value encountered in divide\n",
            "  acc = total_area_intersect / total_area_label\n"
          ]
        },
        {
          "output_type": "stream",
          "name": "stdout",
          "text": [
            "Epoch 1 Mean IoU: 0.36392665095764604\n"
          ]
        },
        {
          "output_type": "stream",
          "name": "stderr",
          "text": [
            "  1%|          | 2/250 [00:00<01:00,  4.11it/s]"
          ]
        },
        {
          "output_type": "stream",
          "name": "stdout",
          "text": [
            "Loss: 0.058282919228076935\n"
          ]
        },
        {
          "output_type": "stream",
          "name": "stderr",
          "text": [
            " 41%|████      | 102/250 [00:12<00:22,  6.73it/s]"
          ]
        },
        {
          "output_type": "stream",
          "name": "stdout",
          "text": [
            "Loss: 0.04796486901174678\n"
          ]
        },
        {
          "output_type": "stream",
          "name": "stderr",
          "text": [
            " 81%|████████  | 202/250 [00:24<00:04,  9.62it/s]"
          ]
        },
        {
          "output_type": "stream",
          "name": "stdout",
          "text": [
            "Loss: 0.041490638915875656\n"
          ]
        },
        {
          "output_type": "stream",
          "name": "stderr",
          "text": [
            "100%|██████████| 250/250 [00:31<00:00,  8.03it/s]\n"
          ]
        },
        {
          "output_type": "stream",
          "name": "stdout",
          "text": [
            "Epoch 2, Loss: 0.0388\n"
          ]
        },
        {
          "output_type": "stream",
          "name": "stderr",
          "text": [
            "100%|██████████| 100/100 [00:08<00:00, 12.19it/s]\n"
          ]
        },
        {
          "output_type": "stream",
          "name": "stdout",
          "text": [
            "Epoch 2 Mean IoU: 0.37421303848710047\n"
          ]
        },
        {
          "output_type": "stream",
          "name": "stderr",
          "text": [
            "  1%|          | 2/250 [00:00<01:21,  3.03it/s]"
          ]
        },
        {
          "output_type": "stream",
          "name": "stdout",
          "text": [
            "Loss: 0.02525586448609829\n"
          ]
        },
        {
          "output_type": "stream",
          "name": "stderr",
          "text": [
            " 40%|████      | 101/250 [00:12<00:15,  9.42it/s]"
          ]
        },
        {
          "output_type": "stream",
          "name": "stdout",
          "text": [
            "Loss: 0.023260112298597202\n"
          ]
        },
        {
          "output_type": "stream",
          "name": "stderr",
          "text": [
            " 80%|████████  | 201/250 [00:25<00:05,  9.53it/s]"
          ]
        },
        {
          "output_type": "stream",
          "name": "stdout",
          "text": [
            "Loss: 0.021153223228209943\n"
          ]
        },
        {
          "output_type": "stream",
          "name": "stderr",
          "text": [
            "100%|██████████| 250/250 [00:30<00:00,  8.26it/s]\n"
          ]
        },
        {
          "output_type": "stream",
          "name": "stdout",
          "text": [
            "Epoch 3, Loss: 0.0207\n"
          ]
        },
        {
          "output_type": "stream",
          "name": "stderr",
          "text": [
            "100%|██████████| 100/100 [00:09<00:00, 10.27it/s]\n"
          ]
        },
        {
          "output_type": "stream",
          "name": "stdout",
          "text": [
            "Epoch 3 Mean IoU: 0.3796467484341329\n"
          ]
        },
        {
          "output_type": "stream",
          "name": "stderr",
          "text": [
            "  1%|          | 2/250 [00:00<00:59,  4.14it/s]"
          ]
        },
        {
          "output_type": "stream",
          "name": "stdout",
          "text": [
            "Loss: 0.01510328333824873\n"
          ]
        },
        {
          "output_type": "stream",
          "name": "stderr",
          "text": [
            " 41%|████      | 102/250 [00:13<00:16,  9.14it/s]"
          ]
        },
        {
          "output_type": "stream",
          "name": "stdout",
          "text": [
            "Loss: 0.015067256673580349\n"
          ]
        },
        {
          "output_type": "stream",
          "name": "stderr",
          "text": [
            " 81%|████████  | 202/250 [00:25<00:05,  8.09it/s]"
          ]
        },
        {
          "output_type": "stream",
          "name": "stdout",
          "text": [
            "Loss: 0.014449562886683502\n"
          ]
        },
        {
          "output_type": "stream",
          "name": "stderr",
          "text": [
            "100%|██████████| 250/250 [00:31<00:00,  8.02it/s]\n"
          ]
        },
        {
          "output_type": "stream",
          "name": "stdout",
          "text": [
            "Epoch 4, Loss: 0.0139\n"
          ]
        },
        {
          "output_type": "stream",
          "name": "stderr",
          "text": [
            "100%|██████████| 100/100 [00:10<00:00,  9.91it/s]\n"
          ]
        },
        {
          "output_type": "stream",
          "name": "stdout",
          "text": [
            "Epoch 4 Mean IoU: 0.3760079954886915\n"
          ]
        },
        {
          "output_type": "stream",
          "name": "stderr",
          "text": [
            "  1%|          | 2/250 [00:00<00:59,  4.18it/s]"
          ]
        },
        {
          "output_type": "stream",
          "name": "stdout",
          "text": [
            "Loss: 0.010902738198637962\n"
          ]
        },
        {
          "output_type": "stream",
          "name": "stderr",
          "text": [
            " 41%|████      | 102/250 [00:12<00:23,  6.41it/s]"
          ]
        },
        {
          "output_type": "stream",
          "name": "stdout",
          "text": [
            "Loss: 0.011448085953546043\n"
          ]
        },
        {
          "output_type": "stream",
          "name": "stderr",
          "text": [
            " 81%|████████  | 202/250 [00:23<00:06,  7.04it/s]"
          ]
        },
        {
          "output_type": "stream",
          "name": "stdout",
          "text": [
            "Loss: 0.010447535492405666\n"
          ]
        },
        {
          "output_type": "stream",
          "name": "stderr",
          "text": [
            "100%|██████████| 250/250 [00:30<00:00,  8.13it/s]\n"
          ]
        },
        {
          "output_type": "stream",
          "name": "stdout",
          "text": [
            "Epoch 5, Loss: 0.0104\n"
          ]
        },
        {
          "output_type": "stream",
          "name": "stderr",
          "text": [
            "100%|██████████| 100/100 [00:08<00:00, 11.81it/s]\n"
          ]
        },
        {
          "output_type": "stream",
          "name": "stdout",
          "text": [
            "Epoch 5 Mean IoU: 0.39270034036211304\n"
          ]
        },
        {
          "output_type": "stream",
          "name": "stderr",
          "text": [
            "  1%|          | 2/250 [00:00<01:33,  2.65it/s]"
          ]
        },
        {
          "output_type": "stream",
          "name": "stdout",
          "text": [
            "Loss: 0.00721910921856761\n"
          ]
        },
        {
          "output_type": "stream",
          "name": "stderr",
          "text": [
            " 41%|████      | 102/250 [00:12<00:15,  9.51it/s]"
          ]
        },
        {
          "output_type": "stream",
          "name": "stdout",
          "text": [
            "Loss: 0.008536196170872685\n"
          ]
        },
        {
          "output_type": "stream",
          "name": "stderr",
          "text": [
            " 81%|████████  | 202/250 [00:25<00:05,  9.07it/s]"
          ]
        },
        {
          "output_type": "stream",
          "name": "stdout",
          "text": [
            "Loss: 0.008218324993417334\n"
          ]
        },
        {
          "output_type": "stream",
          "name": "stderr",
          "text": [
            "100%|██████████| 250/250 [00:33<00:00,  7.54it/s]\n"
          ]
        },
        {
          "output_type": "stream",
          "name": "stdout",
          "text": [
            "Epoch 6, Loss: 0.0082\n"
          ]
        },
        {
          "output_type": "stream",
          "name": "stderr",
          "text": [
            "100%|██████████| 100/100 [00:10<00:00,  9.63it/s]\n"
          ]
        },
        {
          "output_type": "stream",
          "name": "stdout",
          "text": [
            "Epoch 6 Mean IoU: 0.39362022435703786\n"
          ]
        },
        {
          "output_type": "stream",
          "name": "stderr",
          "text": [
            "  1%|          | 2/250 [00:00<01:29,  2.76it/s]"
          ]
        },
        {
          "output_type": "stream",
          "name": "stdout",
          "text": [
            "Loss: 0.008425680920481682\n"
          ]
        },
        {
          "output_type": "stream",
          "name": "stderr",
          "text": [
            " 41%|████      | 102/250 [00:12<00:15,  9.29it/s]"
          ]
        },
        {
          "output_type": "stream",
          "name": "stdout",
          "text": [
            "Loss: 0.007195627694894182\n"
          ]
        },
        {
          "output_type": "stream",
          "name": "stderr",
          "text": [
            " 81%|████████  | 202/250 [00:25<00:05,  9.12it/s]"
          ]
        },
        {
          "output_type": "stream",
          "name": "stdout",
          "text": [
            "Loss: 0.006886407137565797\n"
          ]
        },
        {
          "output_type": "stream",
          "name": "stderr",
          "text": [
            "100%|██████████| 250/250 [00:30<00:00,  8.20it/s]\n"
          ]
        },
        {
          "output_type": "stream",
          "name": "stdout",
          "text": [
            "Epoch 7, Loss: 0.0068\n"
          ]
        },
        {
          "output_type": "stream",
          "name": "stderr",
          "text": [
            "100%|██████████| 100/100 [00:09<00:00, 10.74it/s]\n"
          ]
        },
        {
          "output_type": "stream",
          "name": "stdout",
          "text": [
            "Epoch 7 Mean IoU: 0.42423015729160374\n"
          ]
        },
        {
          "output_type": "stream",
          "name": "stderr",
          "text": [
            "  1%|          | 2/250 [00:00<01:00,  4.12it/s]"
          ]
        },
        {
          "output_type": "stream",
          "name": "stdout",
          "text": [
            "Loss: 0.006493391003459692\n"
          ]
        },
        {
          "output_type": "stream",
          "name": "stderr",
          "text": [
            " 41%|████      | 102/250 [00:13<00:16,  9.22it/s]"
          ]
        },
        {
          "output_type": "stream",
          "name": "stdout",
          "text": [
            "Loss: 0.005879273156331169\n"
          ]
        },
        {
          "output_type": "stream",
          "name": "stderr",
          "text": [
            " 81%|████████  | 202/250 [00:25<00:05,  8.33it/s]"
          ]
        },
        {
          "output_type": "stream",
          "name": "stdout",
          "text": [
            "Loss: 0.00570343082321261\n"
          ]
        },
        {
          "output_type": "stream",
          "name": "stderr",
          "text": [
            "100%|██████████| 250/250 [00:31<00:00,  8.06it/s]\n"
          ]
        },
        {
          "output_type": "stream",
          "name": "stdout",
          "text": [
            "Epoch 8, Loss: 0.0056\n"
          ]
        },
        {
          "output_type": "stream",
          "name": "stderr",
          "text": [
            "100%|██████████| 100/100 [00:09<00:00, 10.02it/s]\n"
          ]
        },
        {
          "output_type": "stream",
          "name": "stdout",
          "text": [
            "Epoch 8 Mean IoU: 0.43352768211387027\n"
          ]
        },
        {
          "output_type": "stream",
          "name": "stderr",
          "text": [
            "  1%|          | 2/250 [00:00<00:58,  4.26it/s]"
          ]
        },
        {
          "output_type": "stream",
          "name": "stdout",
          "text": [
            "Loss: 0.003959124907851219\n"
          ]
        },
        {
          "output_type": "stream",
          "name": "stderr",
          "text": [
            " 41%|████      | 102/250 [00:12<00:23,  6.18it/s]"
          ]
        },
        {
          "output_type": "stream",
          "name": "stdout",
          "text": [
            "Loss: 0.004954998406793664\n"
          ]
        },
        {
          "output_type": "stream",
          "name": "stderr",
          "text": [
            " 81%|████████  | 202/250 [00:23<00:05,  9.43it/s]"
          ]
        },
        {
          "output_type": "stream",
          "name": "stdout",
          "text": [
            "Loss: 0.0048153526856290615\n"
          ]
        },
        {
          "output_type": "stream",
          "name": "stderr",
          "text": [
            "100%|██████████| 250/250 [00:30<00:00,  8.11it/s]\n"
          ]
        },
        {
          "output_type": "stream",
          "name": "stdout",
          "text": [
            "Epoch 9, Loss: 0.0048\n"
          ]
        },
        {
          "output_type": "stream",
          "name": "stderr",
          "text": [
            "100%|██████████| 100/100 [00:08<00:00, 12.40it/s]\n"
          ]
        },
        {
          "output_type": "stream",
          "name": "stdout",
          "text": [
            "Epoch 9 Mean IoU: 0.41968662517874045\n"
          ]
        },
        {
          "output_type": "stream",
          "name": "stderr",
          "text": [
            "  1%|          | 2/250 [00:00<01:28,  2.80it/s]"
          ]
        },
        {
          "output_type": "stream",
          "name": "stdout",
          "text": [
            "Loss: 0.003625839250162244\n"
          ]
        },
        {
          "output_type": "stream",
          "name": "stderr",
          "text": [
            " 41%|████      | 102/250 [00:12<00:15,  9.27it/s]"
          ]
        },
        {
          "output_type": "stream",
          "name": "stdout",
          "text": [
            "Loss: 0.0044367863672167655\n"
          ]
        },
        {
          "output_type": "stream",
          "name": "stderr",
          "text": [
            " 81%|████████  | 202/250 [00:25<00:05,  9.23it/s]"
          ]
        },
        {
          "output_type": "stream",
          "name": "stdout",
          "text": [
            "Loss: 0.004258029645920467\n"
          ]
        },
        {
          "output_type": "stream",
          "name": "stderr",
          "text": [
            "100%|██████████| 250/250 [00:30<00:00,  8.16it/s]\n"
          ]
        },
        {
          "output_type": "stream",
          "name": "stdout",
          "text": [
            "Epoch 10, Loss: 0.0043\n"
          ]
        },
        {
          "output_type": "stream",
          "name": "stderr",
          "text": [
            "100%|██████████| 100/100 [00:09<00:00, 10.80it/s]\n"
          ]
        },
        {
          "output_type": "stream",
          "name": "stdout",
          "text": [
            "Epoch 10 Mean IoU: 0.39119589954282724\n"
          ]
        },
        {
          "output_type": "stream",
          "name": "stderr",
          "text": [
            "  1%|          | 2/250 [00:00<00:59,  4.20it/s]"
          ]
        },
        {
          "output_type": "stream",
          "name": "stdout",
          "text": [
            "Loss: 0.004714768845587969\n"
          ]
        },
        {
          "output_type": "stream",
          "name": "stderr",
          "text": [
            " 41%|████      | 102/250 [00:13<00:16,  8.99it/s]"
          ]
        },
        {
          "output_type": "stream",
          "name": "stdout",
          "text": [
            "Loss: 0.004202303483547403\n"
          ]
        },
        {
          "output_type": "stream",
          "name": "stderr",
          "text": [
            " 81%|████████  | 202/250 [00:26<00:05,  9.17it/s]"
          ]
        },
        {
          "output_type": "stream",
          "name": "stdout",
          "text": [
            "Loss: 0.004143537777425045\n"
          ]
        },
        {
          "output_type": "stream",
          "name": "stderr",
          "text": [
            "100%|██████████| 250/250 [00:32<00:00,  7.61it/s]\n"
          ]
        },
        {
          "output_type": "stream",
          "name": "stdout",
          "text": [
            "Epoch 11, Loss: 0.0041\n"
          ]
        },
        {
          "output_type": "stream",
          "name": "stderr",
          "text": [
            "100%|██████████| 100/100 [00:10<00:00,  9.98it/s]\n"
          ]
        },
        {
          "output_type": "stream",
          "name": "stdout",
          "text": [
            "Epoch 11 Mean IoU: 0.4116281997059594\n"
          ]
        },
        {
          "output_type": "stream",
          "name": "stderr",
          "text": [
            "  1%|          | 2/250 [00:00<01:02,  3.96it/s]"
          ]
        },
        {
          "output_type": "stream",
          "name": "stdout",
          "text": [
            "Loss: 0.0027845429722219706\n"
          ]
        },
        {
          "output_type": "stream",
          "name": "stderr",
          "text": [
            " 41%|████      | 102/250 [00:13<00:15,  9.36it/s]"
          ]
        },
        {
          "output_type": "stream",
          "name": "stdout",
          "text": [
            "Loss: 0.0033100014206685936\n"
          ]
        },
        {
          "output_type": "stream",
          "name": "stderr",
          "text": [
            " 81%|████████  | 202/250 [00:25<00:07,  6.35it/s]"
          ]
        },
        {
          "output_type": "stream",
          "name": "stdout",
          "text": [
            "Loss: 0.003934766881200323\n"
          ]
        },
        {
          "output_type": "stream",
          "name": "stderr",
          "text": [
            "100%|██████████| 250/250 [00:31<00:00,  8.02it/s]\n"
          ]
        },
        {
          "output_type": "stream",
          "name": "stdout",
          "text": [
            "Epoch 12, Loss: 0.0038\n"
          ]
        },
        {
          "output_type": "stream",
          "name": "stderr",
          "text": [
            "100%|██████████| 100/100 [00:09<00:00, 10.42it/s]\n"
          ]
        },
        {
          "output_type": "stream",
          "name": "stdout",
          "text": [
            "Epoch 12 Mean IoU: 0.4161047670835599\n"
          ]
        },
        {
          "output_type": "stream",
          "name": "stderr",
          "text": [
            "  1%|          | 2/250 [00:00<00:57,  4.34it/s]"
          ]
        },
        {
          "output_type": "stream",
          "name": "stdout",
          "text": [
            "Loss: 0.00539341801777482\n"
          ]
        },
        {
          "output_type": "stream",
          "name": "stderr",
          "text": [
            " 41%|████      | 102/250 [00:12<00:22,  6.56it/s]"
          ]
        },
        {
          "output_type": "stream",
          "name": "stdout",
          "text": [
            "Loss: 0.0032120739699959167\n"
          ]
        },
        {
          "output_type": "stream",
          "name": "stderr",
          "text": [
            " 81%|████████  | 202/250 [00:23<00:05,  9.24it/s]"
          ]
        },
        {
          "output_type": "stream",
          "name": "stdout",
          "text": [
            "Loss: 0.003274363489932756\n"
          ]
        },
        {
          "output_type": "stream",
          "name": "stderr",
          "text": [
            "100%|██████████| 250/250 [00:30<00:00,  8.14it/s]\n"
          ]
        },
        {
          "output_type": "stream",
          "name": "stdout",
          "text": [
            "Epoch 13, Loss: 0.0033\n"
          ]
        },
        {
          "output_type": "stream",
          "name": "stderr",
          "text": [
            "100%|██████████| 100/100 [00:08<00:00, 11.80it/s]\n"
          ]
        },
        {
          "output_type": "stream",
          "name": "stdout",
          "text": [
            "Epoch 13 Mean IoU: 0.3965717076510986\n"
          ]
        },
        {
          "output_type": "stream",
          "name": "stderr",
          "text": [
            "  0%|          | 1/250 [00:00<03:05,  1.34it/s]"
          ]
        },
        {
          "output_type": "stream",
          "name": "stdout",
          "text": [
            "Loss: 0.002339377300813794\n"
          ]
        },
        {
          "output_type": "stream",
          "name": "stderr",
          "text": [
            " 41%|████      | 102/250 [00:13<00:16,  9.10it/s]"
          ]
        },
        {
          "output_type": "stream",
          "name": "stdout",
          "text": [
            "Loss: 0.002956416883210808\n"
          ]
        },
        {
          "output_type": "stream",
          "name": "stderr",
          "text": [
            " 81%|████████  | 202/250 [00:26<00:05,  8.62it/s]"
          ]
        },
        {
          "output_type": "stream",
          "name": "stdout",
          "text": [
            "Loss: 0.002919593375912909\n"
          ]
        },
        {
          "output_type": "stream",
          "name": "stderr",
          "text": [
            "100%|██████████| 250/250 [00:31<00:00,  7.86it/s]\n"
          ]
        },
        {
          "output_type": "stream",
          "name": "stdout",
          "text": [
            "Epoch 14, Loss: 0.0029\n"
          ]
        },
        {
          "output_type": "stream",
          "name": "stderr",
          "text": [
            "100%|██████████| 100/100 [00:10<00:00,  9.64it/s]\n"
          ]
        },
        {
          "output_type": "stream",
          "name": "stdout",
          "text": [
            "Epoch 14 Mean IoU: 0.43341187843634826\n"
          ]
        },
        {
          "output_type": "stream",
          "name": "stderr",
          "text": [
            "  1%|          | 2/250 [00:00<01:29,  2.78it/s]"
          ]
        },
        {
          "output_type": "stream",
          "name": "stdout",
          "text": [
            "Loss: 0.003363745054230094\n"
          ]
        },
        {
          "output_type": "stream",
          "name": "stderr",
          "text": [
            " 41%|████      | 102/250 [00:12<00:15,  9.30it/s]"
          ]
        },
        {
          "output_type": "stream",
          "name": "stdout",
          "text": [
            "Loss: 0.002843715605501196\n"
          ]
        },
        {
          "output_type": "stream",
          "name": "stderr",
          "text": [
            " 81%|████████  | 202/250 [00:25<00:05,  9.15it/s]"
          ]
        },
        {
          "output_type": "stream",
          "name": "stdout",
          "text": [
            "Loss: 0.0027474886830432792\n"
          ]
        },
        {
          "output_type": "stream",
          "name": "stderr",
          "text": [
            "100%|██████████| 250/250 [00:30<00:00,  8.14it/s]\n"
          ]
        },
        {
          "output_type": "stream",
          "name": "stdout",
          "text": [
            "Epoch 15, Loss: 0.0027\n"
          ]
        },
        {
          "output_type": "stream",
          "name": "stderr",
          "text": [
            "100%|██████████| 100/100 [00:09<00:00, 10.76it/s]\n"
          ]
        },
        {
          "output_type": "stream",
          "name": "stdout",
          "text": [
            "Epoch 15 Mean IoU: 0.41677240045918673\n"
          ]
        },
        {
          "output_type": "stream",
          "name": "stderr",
          "text": [
            "  1%|          | 2/250 [00:00<01:01,  4.02it/s]"
          ]
        },
        {
          "output_type": "stream",
          "name": "stdout",
          "text": [
            "Loss: 0.002165228594094515\n"
          ]
        },
        {
          "output_type": "stream",
          "name": "stderr",
          "text": [
            " 41%|████      | 102/250 [00:14<00:15,  9.37it/s]"
          ]
        },
        {
          "output_type": "stream",
          "name": "stdout",
          "text": [
            "Loss: 0.0024746066480321755\n"
          ]
        },
        {
          "output_type": "stream",
          "name": "stderr",
          "text": [
            " 81%|████████  | 202/250 [00:28<00:07,  6.56it/s]"
          ]
        },
        {
          "output_type": "stream",
          "name": "stdout",
          "text": [
            "Loss: 0.002407643410020429\n"
          ]
        },
        {
          "output_type": "stream",
          "name": "stderr",
          "text": [
            "100%|██████████| 250/250 [00:35<00:00,  6.97it/s]\n"
          ]
        },
        {
          "output_type": "stream",
          "name": "stdout",
          "text": [
            "Epoch 16, Loss: 0.0024\n"
          ]
        },
        {
          "output_type": "stream",
          "name": "stderr",
          "text": [
            "100%|██████████| 100/100 [00:08<00:00, 11.99it/s]\n"
          ]
        },
        {
          "output_type": "stream",
          "name": "stdout",
          "text": [
            "Epoch 16 Mean IoU: 0.4039332970817473\n"
          ]
        },
        {
          "output_type": "stream",
          "name": "stderr",
          "text": [
            "  1%|          | 2/250 [00:00<00:57,  4.33it/s]"
          ]
        },
        {
          "output_type": "stream",
          "name": "stdout",
          "text": [
            "Loss: 0.0028115776367485523\n"
          ]
        },
        {
          "output_type": "stream",
          "name": "stderr",
          "text": [
            " 41%|████      | 102/250 [00:13<00:16,  8.93it/s]"
          ]
        },
        {
          "output_type": "stream",
          "name": "stdout",
          "text": [
            "Loss: 0.0023786247578809166\n"
          ]
        },
        {
          "output_type": "stream",
          "name": "stderr",
          "text": [
            " 81%|████████  | 202/250 [00:25<00:05,  9.31it/s]"
          ]
        },
        {
          "output_type": "stream",
          "name": "stdout",
          "text": [
            "Loss: 0.0023285195588213\n"
          ]
        },
        {
          "output_type": "stream",
          "name": "stderr",
          "text": [
            "100%|██████████| 250/250 [00:30<00:00,  8.15it/s]\n"
          ]
        },
        {
          "output_type": "stream",
          "name": "stdout",
          "text": [
            "Epoch 17, Loss: 0.0023\n"
          ]
        },
        {
          "output_type": "stream",
          "name": "stderr",
          "text": [
            "100%|██████████| 100/100 [00:09<00:00, 10.34it/s]\n"
          ]
        },
        {
          "output_type": "stream",
          "name": "stdout",
          "text": [
            "Epoch 17 Mean IoU: 0.42238132640525244\n"
          ]
        },
        {
          "output_type": "stream",
          "name": "stderr",
          "text": [
            "  1%|          | 2/250 [00:00<01:00,  4.09it/s]"
          ]
        },
        {
          "output_type": "stream",
          "name": "stdout",
          "text": [
            "Loss: 0.002675913041457534\n"
          ]
        },
        {
          "output_type": "stream",
          "name": "stderr",
          "text": [
            " 41%|████      | 102/250 [00:13<00:15,  9.41it/s]"
          ]
        },
        {
          "output_type": "stream",
          "name": "stdout",
          "text": [
            "Loss: 0.002270819887283747\n"
          ]
        },
        {
          "output_type": "stream",
          "name": "stderr",
          "text": [
            " 81%|████████  | 202/250 [00:29<00:06,  7.90it/s]"
          ]
        },
        {
          "output_type": "stream",
          "name": "stdout",
          "text": [
            "Loss: 0.002235853924376621\n"
          ]
        },
        {
          "output_type": "stream",
          "name": "stderr",
          "text": [
            "100%|██████████| 250/250 [00:34<00:00,  7.15it/s]\n"
          ]
        },
        {
          "output_type": "stream",
          "name": "stdout",
          "text": [
            "Epoch 18, Loss: 0.0022\n"
          ]
        },
        {
          "output_type": "stream",
          "name": "stderr",
          "text": [
            "100%|██████████| 100/100 [00:10<00:00,  9.84it/s]\n"
          ]
        },
        {
          "output_type": "stream",
          "name": "stdout",
          "text": [
            "Epoch 18 Mean IoU: 0.4253615088715687\n"
          ]
        },
        {
          "output_type": "stream",
          "name": "stderr",
          "text": [
            "  1%|          | 2/250 [00:00<00:57,  4.28it/s]"
          ]
        },
        {
          "output_type": "stream",
          "name": "stdout",
          "text": [
            "Loss: 0.0017028216971084476\n"
          ]
        },
        {
          "output_type": "stream",
          "name": "stderr",
          "text": [
            " 41%|████      | 102/250 [00:12<00:22,  6.52it/s]"
          ]
        },
        {
          "output_type": "stream",
          "name": "stdout",
          "text": [
            "Loss: 0.0019096001541232782\n"
          ]
        },
        {
          "output_type": "stream",
          "name": "stderr",
          "text": [
            " 81%|████████  | 202/250 [00:23<00:05,  8.72it/s]"
          ]
        },
        {
          "output_type": "stream",
          "name": "stdout",
          "text": [
            "Loss: 0.002068017482576864\n"
          ]
        },
        {
          "output_type": "stream",
          "name": "stderr",
          "text": [
            "100%|██████████| 250/250 [00:31<00:00,  8.00it/s]\n"
          ]
        },
        {
          "output_type": "stream",
          "name": "stdout",
          "text": [
            "Epoch 19, Loss: 0.0020\n"
          ]
        },
        {
          "output_type": "stream",
          "name": "stderr",
          "text": [
            "100%|██████████| 100/100 [00:12<00:00,  8.24it/s]\n"
          ]
        },
        {
          "output_type": "stream",
          "name": "stdout",
          "text": [
            "Epoch 19 Mean IoU: 0.41867711920729866\n"
          ]
        },
        {
          "output_type": "stream",
          "name": "stderr",
          "text": [
            "  1%|          | 2/250 [00:00<00:57,  4.28it/s]"
          ]
        },
        {
          "output_type": "stream",
          "name": "stdout",
          "text": [
            "Loss: 0.0018112593097612262\n"
          ]
        },
        {
          "output_type": "stream",
          "name": "stderr",
          "text": [
            " 40%|████      | 101/250 [00:15<00:39,  3.76it/s]"
          ]
        },
        {
          "output_type": "stream",
          "name": "stdout",
          "text": [
            "Loss: 0.002011679338249793\n"
          ]
        },
        {
          "output_type": "stream",
          "name": "stderr",
          "text": [
            " 81%|████████  | 202/250 [00:28<00:06,  6.90it/s]"
          ]
        },
        {
          "output_type": "stream",
          "name": "stdout",
          "text": [
            "Loss: 0.002056810745983315\n"
          ]
        },
        {
          "output_type": "stream",
          "name": "stderr",
          "text": [
            "100%|██████████| 250/250 [00:34<00:00,  7.19it/s]\n"
          ]
        },
        {
          "output_type": "stream",
          "name": "stdout",
          "text": [
            "Epoch 20, Loss: 0.0021\n"
          ]
        },
        {
          "output_type": "stream",
          "name": "stderr",
          "text": [
            "100%|██████████| 100/100 [00:10<00:00,  9.26it/s]\n"
          ]
        },
        {
          "output_type": "stream",
          "name": "stdout",
          "text": [
            "Epoch 20 Mean IoU: 0.4075856443719413\n"
          ]
        }
      ]
    },
    {
      "cell_type": "code",
      "source": [
        "# save trained model weigths\n",
        "model.save_pretrained(\"segformer_tumor_segmentation\")"
      ],
      "metadata": {
        "id": "05ZeqR2q3FGO"
      },
      "execution_count": 13,
      "outputs": []
    },
    {
      "cell_type": "markdown",
      "source": [
        "## Custom Estimation of mean IoU"
      ],
      "metadata": {
        "id": "F7LX8VWFgx2j"
      }
    },
    {
      "cell_type": "code",
      "source": [
        "from transformers import SegformerForSemanticSegmentation, SegformerFeatureExtractor\n",
        "\n",
        "trained_model = SegformerForSemanticSegmentation.from_pretrained(\"segformer_tumor_segmentation\")\n",
        "# initialize the feature extractor\n",
        "feature_extractor = SegformerFeatureExtractor.from_pretrained(\"nvidia/segformer-b0-finetuned-ade-512-512\")\n"
      ],
      "metadata": {
        "colab": {
          "base_uri": "https://localhost:8080/",
          "height": 138,
          "referenced_widgets": [
            "ad7793cd68c34655ac833ad6e051bfb4",
            "d7843de8128042ca8f6a08d0187173b4",
            "9a68724b2b944d558c94e489075f3430",
            "b06154c979f34f90b111513b6da9daeb",
            "f72d948257d2429889a336bdd2fb79e8",
            "319abeae564849f3863556a63480e044",
            "72a4db27fba04bf6a07cc65f42c1b6b7",
            "74d4e0b4fe70455d80bb09ad902051fe",
            "a8de5312b7e546528ab8d0092e69e826",
            "60fc1b6919f54baa93c66a52952fcdc3",
            "21b39ed427b149e1aa591e6ab578fd43"
          ]
        },
        "id": "O6mp74VMiSz0",
        "outputId": "e9e60298-1883-4049-99b1-95a9cac1e47d"
      },
      "execution_count": 17,
      "outputs": [
        {
          "output_type": "display_data",
          "data": {
            "text/plain": [
              "preprocessor_config.json:   0%|          | 0.00/271 [00:00<?, ?B/s]"
            ],
            "application/vnd.jupyter.widget-view+json": {
              "version_major": 2,
              "version_minor": 0,
              "model_id": "ad7793cd68c34655ac833ad6e051bfb4"
            }
          },
          "metadata": {}
        },
        {
          "output_type": "stream",
          "name": "stderr",
          "text": [
            "/usr/local/lib/python3.11/dist-packages/transformers/models/segformer/feature_extraction_segformer.py:28: FutureWarning: The class SegformerFeatureExtractor is deprecated and will be removed in version 5 of Transformers. Please use SegformerImageProcessor instead.\n",
            "  warnings.warn(\n",
            "/usr/local/lib/python3.11/dist-packages/transformers/utils/deprecation.py:165: UserWarning: The following named arguments are not valid for `SegformerFeatureExtractor.__init__` and were ignored: 'feature_extractor_type'\n",
            "  return func(*args, **kwargs)\n"
          ]
        }
      ]
    },
    {
      "cell_type": "code",
      "source": [
        "def calculate_iou(true_mask, pred_mask):\n",
        "  # if necessary convert pytorch tensors to numpy arrays\n",
        "  true_mask = true_mask.cpu().numpy() if isinstance(true_mask, torch.Tensor) else true_mask\n",
        "  pred_mask = pred_mask.cpu().numpy() if isinstance(pred_mask, torch.Tensor) else pred_mask\n",
        "\n",
        "  intersection = np.logical_and(true_mask, pred_mask)\n",
        "  union = np.logical_or(true_mask, pred_mask)\n",
        "  iou = np.sum(intersection)/np.sum(union)\n",
        "\n",
        "  return iou\n",
        "\n",
        "def calculate_mean_iou(true_mask, pred_mask):\n",
        "  # list to store the IoU values for each class label\n",
        "  class_iou = []\n",
        "  # iterate through each class label {0, 1} represented in the ground truth mask\n",
        "  for i in range(int(np.max(true_mask))):\n",
        "    # create a binary mask for the current label class i;\n",
        "    # it contains True where true_mask pixels equal i and False elsewhere\n",
        "    true_mask_i = (true_mask == i)\n",
        "    pred_mask_i = (pred_mask == i)\n",
        "    class_iou.append(calculate_iou(true_mask_i, pred_mask_i))\n",
        "  # take the average of all the class-size IoU values\n",
        "  mean_iou = np.mean(class_iou)\n",
        "  return mean_iou"
      ],
      "metadata": {
        "id": "UWPCtdZDgbcu"
      },
      "execution_count": 11,
      "outputs": []
    },
    {
      "cell_type": "code",
      "source": [
        "test_dataloader = DataLoader(test_dataset, batch_size=10, collate_fn=collate_func, shuffle=False, num_workers=2)"
      ],
      "metadata": {
        "id": "bnXFF5Yfgl0f"
      },
      "execution_count": null,
      "outputs": []
    },
    {
      "cell_type": "code",
      "source": [
        "import matplotlib.pyplot as plt\n",
        "\n",
        "\n",
        "device = torch.device(\"cuda\" if torch.cuda.is_available() else \"cpu\")\n",
        "trained_model.to(device)\n",
        "\n",
        "trained_model.eval()\n",
        "\n",
        "num_test_images = 9\n",
        "\n",
        "#take the firs test batch\n",
        "for i, batch in enumerate(test_dataloader):\n",
        "    if i >= 1:\n",
        "        break\n",
        "\n",
        "    pixel_values = batch[\"pixel_values\"].to(device, dtype=torch.float32)\n",
        "\n",
        "    # run the model on the first batch data\n",
        "    with torch.no_grad():\n",
        "      outputs = trained_model(pixel_values=pixel_values)\n",
        "\n",
        "    original_images = batch[\"org_images\"]\n",
        "    target_sizes = [(image.shape[0], image.shape[1]) for image in original_images]\n",
        "\n",
        "    predicted_masks = feature_extractor.post_process_semantic_segmentation(outputs, target_sizes=target_sizes)\n",
        "    true_masks= batch[\"org_mask\"]\n",
        "\n",
        "    for j in range(int(num_test_images/3)):  # iterate through 9 images in the first batch\n",
        "        plt.figure(figsize=(15, 5))\n",
        "\n",
        "        plt.subplot(1, 3, 1)\n",
        "        plt.imshow(original_images[j])\n",
        "        plt.title(f\"Original Image\")\n",
        "        plt.axis(\"off\")\n",
        "\n",
        "        plt.subplot(1, 3, 2)\n",
        "        plt.imshow(true_masks[j], cmap=\"gray\")  # Display as grayscale\n",
        "        plt.title(\"Ground Truth Mask\")\n",
        "        plt.axis(\"off\")\n",
        "\n",
        "        plt.subplot(1, 3, 3)\n",
        "        plt.imshow(predicted_masks[j].cpu().numpy(), cmap=\"gray\")  # Display as grayscale\n",
        "        plt.title(f\"Predicted Mask mean IoU:{round(calculate_mean_iou(true_masks[j], predicted_masks[j]), 4)}\")\n",
        "        plt.axis(\"off\")\n",
        "\n",
        "        plt.show()"
      ],
      "metadata": {
        "colab": {
          "base_uri": "https://localhost:8080/",
          "height": 832
        },
        "id": "8v883k72gnWL",
        "outputId": "cef32556-3353-44a1-e21d-e13b5990170a"
      },
      "execution_count": 18,
      "outputs": [
        {
          "output_type": "display_data",
          "data": {
            "text/plain": [
              "<Figure size 1500x500 with 3 Axes>"
            ],
            "image/png": "[encoded data removed]"
          },
          "metadata": {}
        },
        {
          "output_type": "display_data",
          "data": {
            "text/plain": [
              "<Figure size 1500x500 with 3 Axes>"
            ],
            "image/png": "[encoded data removed]"
          },
          "metadata": {}
        },
        {
          "output_type": "display_data",
          "data": {
            "text/plain": [
              "<Figure size 1500x500 with 3 Axes>"
            ],
            "image/png": "[encoded data removed]"
          },
          "metadata": {}
        }
      ]
    }
  ]
}